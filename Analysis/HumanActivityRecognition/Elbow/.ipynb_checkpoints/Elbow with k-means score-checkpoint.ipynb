{
 "cells": [
  {
   "cell_type": "code",
   "execution_count": 1,
   "metadata": {},
   "outputs": [],
   "source": [
    "import pandas as pd\n",
    "import numpy as np\n",
    "import re\n",
    "from sklearn.decomposition import PCA\n",
    "from sklearn.cluster import KMeans\n",
    "from scipy.spatial.distance import cdist\n",
    "import matplotlib.pyplot as plt"
   ]
  },
  {
   "cell_type": "code",
   "execution_count": 2,
   "metadata": {},
   "outputs": [],
   "source": [
    "%config IPCompleter.greedy=True\n",
    "#%config NotebookApp.iopub_data_rate_limit=1.0e10"
   ]
  },
  {
   "cell_type": "code",
   "execution_count": 3,
   "metadata": {},
   "outputs": [],
   "source": [
    "data = open('/home/shobhit/NewDataset/UCI HAR Dataset/train/X_train.txt')"
   ]
  },
  {
   "cell_type": "code",
   "execution_count": 4,
   "metadata": {},
   "outputs": [
    {
     "data": {
      "text/plain": [
       "7352"
      ]
     },
     "execution_count": 4,
     "metadata": {},
     "output_type": "execute_result"
    }
   ],
   "source": [
    "lines = data.readlines()\n",
    "len(lines)"
   ]
  },
  {
   "cell_type": "code",
   "execution_count": 5,
   "metadata": {
    "scrolled": true
   },
   "outputs": [
    {
     "data": {
      "text/plain": [
       "'  2.7841883e-001 -1.6410568e-002 -1.2352019e-001 -9.9824528e-001 -9.7530022e-001 -9.6032199e-001 -9.9880719e-001 -9.7491437e-001 -9.5768622e-001 -9.4306751e-001 -5.5785126e-001 -8.1840869e-001  8.4930787e-001  6.8584458e-001  8.2263681e-001 -9.8193011e-001 -9.9999130e-001 -9.9978838e-001 -9.9840537e-001 -9.9915036e-001 -9.7786550e-001 -9.4822478e-001 -7.1489166e-001 -5.0093000e-001 -5.7097906e-001  6.1162716e-001 -3.2954862e-001  2.8421321e-001  2.8459454e-001  1.1570542e-001 -9.0962529e-002  2.9431041e-001 -2.8121057e-001  8.5988430e-002 -2.2152694e-002 -1.6656535e-002 -2.2064350e-001 -1.3428663e-002 -7.2691890e-002  5.7938169e-001  9.6656113e-001 -1.4155127e-001  1.0937881e-001 -9.9741134e-001 -9.8944741e-001 -9.3163868e-001 -9.9788359e-001 -9.8961366e-001 -9.3324040e-001  8.9206031e-001 -1.6134256e-001  1.2258573e-001  9.8452014e-001 -1.1489334e-001  1.0276411e-001 -3.8342955e-001  9.0782890e-001 -9.7058275e-001 -9.7850045e-001 -9.9918838e-001 -9.9002851e-001 -9.4168540e-001 -1.0000000e+000 -1.0000000e+000 -2.1049361e-001 -4.1005552e-001  4.1385634e-001 -4.1756716e-001  4.2132499e-001 -1.9635929e-001  1.2534464e-001 -1.0556772e-001  1.0909013e-001 -8.3388211e-001  8.3427110e-001 -8.3418438e-001  8.3046390e-001 -8.3128389e-001 -8.6571108e-001  9.7438562e-001  7.4006709e-002  5.7711041e-003  2.9376633e-002 -9.9554814e-001 -9.8106363e-001 -9.9184570e-001 -9.9563201e-001 -9.7893801e-001 -9.9127664e-001 -9.9454467e-001 -9.7906823e-001 -9.9225735e-001  9.9257710e-001  9.9180836e-001  9.8853913e-001 -9.9139374e-001 -9.9995974e-001 -9.9963956e-001 -9.9984538e-001 -9.9386273e-001 -9.7943511e-001 -9.9338380e-001 -8.7509640e-001 -6.5536210e-001 -7.6738085e-001  4.8966215e-001  7.0997076e-002  3.6271450e-001  5.2730342e-001  1.4939565e-001  6.2925097e-002  3.7049343e-001  4.1354814e-001  1.2221568e-001  1.8061304e-001  4.7423999e-002  1.6657268e-001 -2.0877218e-001  8.4103799e-002 -2.6855390e-001 -1.6111620e-002 -8.3893777e-002  1.0058429e-001 -9.8311996e-001 -9.8904580e-001 -9.8912123e-001 -9.8689045e-001 -9.8903796e-001 -9.8918458e-001 -8.6490382e-001 -9.5356049e-001 -7.4587000e-001  8.3372106e-001  9.0810964e-001  8.2893499e-001 -9.8061310e-001 -9.9975577e-001 -9.9989731e-001 -9.9982242e-001 -9.9283276e-001 -9.8934472e-001 -9.9024019e-001  7.4693560e-003 -5.3115659e-001 -1.7744455e-001 -3.8768063e-001  1.7913763e-001  2.1078900e-001 -1.4025958e-001 -4.7031809e-002 -6.4949068e-002  1.1768661e-001  8.1691287e-002  4.2364040e-002 -1.4992836e-001  2.9261893e-001 -1.4942935e-001  4.6721243e-002 -2.5692940e-001  1.6939480e-001 -1.1050283e-001 -4.4818731e-002 -5.9242822e-002 -9.8987256e-001 -9.9729260e-001 -9.9385100e-001 -9.8987620e-001 -9.9749168e-001 -9.9377834e-001 -9.9194685e-001 -9.9771714e-001 -9.9492085e-001  9.9048601e-001  9.9712219e-001  9.9450312e-001 -9.9529844e-001 -9.9990775e-001 -9.9998972e-001 -9.9994591e-001 -9.9074179e-001 -9.9730134e-001 -9.9380781e-001 -6.0094453e-001 -7.4824724e-001 -6.0893213e-001 -1.9330757e-001 -6.7406458e-002  1.8561907e-001  4.1521811e-002  7.2352549e-002 -3.5377727e-002  1.7760636e-001  2.7498054e-002  1.8270272e-001 -1.6745740e-001  2.5325103e-001  1.3233386e-001  2.9385535e-001 -1.8075169e-002 -3.4333678e-001 -9.7928915e-001 -9.7605707e-001 -9.7824725e-001 -9.7871147e-001 -9.9533294e-001 -9.7928915e-001 -9.9948803e-001 -9.8124826e-001 -4.4187611e-001  8.1568632e-002 -1.0936606e-001  3.1175771e-001 -4.1167480e-001 -9.7928915e-001 -9.7605707e-001 -9.7824725e-001 -9.7871147e-001 -9.9533294e-001 -9.7928915e-001 -9.9948803e-001 -9.8124826e-001 -4.4187611e-001  8.1568632e-002 -1.0936606e-001  3.1175771e-001 -4.1167480e-001 -9.9125349e-001 -9.9169441e-001 -9.9271603e-001 -9.8866062e-001 -9.9120847e-001 -9.9125349e-001 -9.9984540e-001 -9.9348508e-001 -8.1992830e-001  4.5881205e-001 -2.4494134e-001  5.6139272e-002 -4.5834568e-001 -9.8068314e-001 -9.8375419e-001 -9.8200270e-001 -9.8471460e-001 -9.9155366e-001 -9.8068314e-001 -9.9972466e-001 -9.8285681e-001 -1.9289906e-001 -2.2531738e-001 -1.7059623e-002  1.5577724e-001  8.2575208e-002 -9.9512320e-001 -9.9610164e-001 -9.9583855e-001 -9.9654485e-001 -9.9200604e-001 -9.9512320e-001 -9.9996983e-001 -9.9481921e-001 -7.3072160e-001  2.0933413e-001 -1.7811256e-001 -1.0308433e-001 -4.3823965e-002 -9.9745072e-001 -9.7685173e-001 -9.7352267e-001 -9.9868026e-001 -9.7492981e-001 -9.5543811e-001 -9.9788967e-001 -9.7692389e-001 -9.6837677e-001 -9.9937173e-001 -9.7377026e-001 -9.4877678e-001 -9.9828058e-001 -9.9272090e-001 -9.8951355e-001 -9.8581162e-001 -9.9999084e-001 -9.9944988e-001 -9.9856912e-001 -9.9486488e-001 -9.8078362e-001 -9.8577466e-001 -1.0000000e+000 -9.0474776e-001 -7.5840851e-001  9.6774194e-002 -1.0000000e+000 -1.0000000e+000  2.7130855e-001  4.2863639e-002 -1.4309755e-002 -6.9254090e-001 -9.5404703e-001 -4.9709103e-002 -3.3197386e-001  5.6675367e-002 -2.8900144e-001 -9.9999619e-001 -9.9998175e-001 -9.9994400e-001 -9.9996988e-001 -9.9991885e-001 -9.9986573e-001 -9.9996507e-001 -9.9999945e-001 -9.9999394e-001 -9.9994898e-001 -9.9991401e-001 -9.9997661e-001 -9.9999213e-001 -9.9994590e-001 -9.9941662e-001 -9.9981329e-001 -9.9956858e-001 -9.9987368e-001 -9.9954892e-001 -9.9973714e-001 -9.9956575e-001 -9.9990532e-001 -9.9947352e-001 -9.9955418e-001 -9.9960203e-001 -9.9969530e-001 -9.9944422e-001 -9.9980416e-001 -9.9823460e-001 -9.9976916e-001 -9.9969223e-001 -9.9987487e-001 -9.9966565e-001 -9.9944828e-001 -9.9893018e-001 -9.9875435e-001 -9.9854556e-001 -9.9979176e-001 -9.9963116e-001 -9.9887752e-001 -9.9855336e-001 -9.9982213e-001 -9.9503222e-001 -9.8131147e-001 -9.8973975e-001 -9.9665235e-001 -9.8208394e-001 -9.9262682e-001 -9.9497670e-001 -9.8292946e-001 -9.9164143e-001 -9.9742453e-001 -9.8492321e-001 -9.9318704e-001 -9.9791682e-001 -9.8251860e-001 -9.8683843e-001 -9.8985094e-001 -9.9995965e-001 -9.9963962e-001 -9.9984664e-001 -9.9284336e-001 -9.8522065e-001 -9.9104933e-001 -1.0000000e+000 -1.0000000e+000 -1.0000000e+000 -3.2000000e-001 -1.2000000e-001 -3.2000000e-001  6.0851352e-001 -5.3675613e-002  6.3148268e-002 -6.3030495e-001 -9.1039449e-001 -4.1442354e-001 -8.5058640e-001 -6.5553468e-001 -9.1598691e-001 -9.9999635e-001 -9.9997967e-001 -9.9994892e-001 -9.9996834e-001 -9.9991010e-001 -9.9981369e-001 -9.9992027e-001 -9.9996071e-001 -9.9998672e-001 -9.9995600e-001 -9.9987671e-001 -9.9991409e-001 -9.9997443e-001 -9.9990582e-001 -9.9986103e-001 -9.9982717e-001 -9.9945649e-001 -9.9983029e-001 -9.9960932e-001 -9.9968546e-001 -9.9957615e-001 -9.9993695e-001 -9.9981738e-001 -9.9953247e-001 -9.9959516e-001 -9.9962567e-001 -9.9962988e-001 -9.9975933e-001 -9.9985891e-001 -9.9984650e-001 -9.9979487e-001 -9.9980092e-001 -9.9981932e-001 -9.9976916e-001 -9.9963701e-001 -9.9995450e-001 -9.9985190e-001 -9.9982733e-001 -9.9980005e-001 -9.9965102e-001 -9.9983501e-001 -9.9982668e-001 -9.7738671e-001 -9.9253003e-001 -9.8960578e-001 -9.8490434e-001 -9.8716807e-001 -9.8978468e-001 -9.7936121e-001 -9.9183683e-001 -9.8796514e-001 -9.8735382e-001 -9.8478644e-001 -9.9015077e-001 -9.8689184e-001 -9.9905355e-001 -9.9441373e-001 -9.8686870e-001 -9.9982491e-001 -9.9991146e-001 -9.9989205e-001 -9.8709935e-001 -9.9556375e-001 -9.8725448e-001 -6.1111189e-001 -7.6460301e-001 -7.5107966e-001 -1.0000000e+000 -1.0000000e+000 -1.0000000e+000 -4.8167435e-002 -4.0160791e-001 -6.8178329e-002 -4.5855331e-001 -7.9701355e-001  3.8756889e-001  1.4866483e-001 -1.5690927e-001 -4.5177589e-001 -9.9985087e-001 -9.9979432e-001 -9.9991309e-001 -9.9991816e-001 -9.9989636e-001 -9.9988528e-001 -9.9978419e-001 -9.9978237e-001 -9.9982986e-001 -9.9989878e-001 -9.9988283e-001 -9.9978339e-001 -9.9982832e-001 -9.9990802e-001 -9.9985638e-001 -9.9998846e-001 -9.9999570e-001 -9.9999416e-001 -9.9998608e-001 -9.9998455e-001 -9.9998002e-001 -9.9999002e-001 -9.9989660e-001 -9.9999447e-001 -9.9998604e-001 -9.9998167e-001 -9.9990259e-001 -9.9999165e-001 -9.9990889e-001 -9.9995940e-001 -9.9992807e-001 -9.9996632e-001 -9.9998549e-001 -9.9992637e-001 -9.9996147e-001 -9.9998312e-001 -9.9990171e-001 -9.9991776e-001 -9.9997539e-001 -9.9997110e-001 -9.9989434e-001 -9.9997104e-001 -9.8085662e-001 -9.7586576e-001 -9.7577688e-001 -9.7822635e-001 -9.8691082e-001 -9.8085662e-001 -9.9947194e-001 -9.8447923e-001 -8.1667357e-001 -1.0000000e+000 -4.4149887e-002 -1.2204037e-001 -4.4952188e-001 -9.9033549e-001 -9.9196029e-001 -9.8973198e-001 -9.9448884e-001 -9.8954882e-001 -9.9033549e-001 -9.9986688e-001 -9.9113389e-001 -1.0000000e+000 -8.4126984e-001  5.3206052e-001 -6.2487099e-001 -9.0015998e-001 -9.8829555e-001 -9.8332192e-001 -9.8265928e-001 -9.8632076e-001 -9.9182878e-001 -9.8829555e-001 -9.9981120e-001 -9.9397851e-001 -7.2068300e-001 -9.4871795e-001 -2.7195846e-001 -3.3631041e-001 -7.2001508e-001 -9.9585386e-001 -9.9639947e-001 -9.9544209e-001 -9.9686602e-001 -9.9443965e-001 -9.9585386e-001 -9.9998065e-001 -9.9454373e-001 -1.0000000e+000 -1.0000000e+000  1.5807454e-001 -5.9505094e-001 -8.6149931e-001  5.3476955e-002 -7.4345661e-003 -7.3262621e-001  7.0351059e-001 -8.4478760e-001  1.8028889e-001 -5.4316717e-002\\n'"
      ]
     },
     "execution_count": 5,
     "metadata": {},
     "output_type": "execute_result"
    }
   ],
   "source": [
    "lines[1]"
   ]
  },
  {
   "cell_type": "code",
   "execution_count": 6,
   "metadata": {},
   "outputs": [],
   "source": [
    "new_lines=[]\n",
    "for i,line in enumerate(lines):\n",
    "    temp = line.strip('\\n')\n",
    "    temp = temp.strip('  ')\n",
    "    temp = re.sub(\"\\s+\",\",\",temp.strip())\n",
    "    a=[float(e) for e in temp.split(',')]\n",
    "    new_lines.append(a)"
   ]
  },
  {
   "cell_type": "code",
   "execution_count": 7,
   "metadata": {
    "scrolled": false
   },
   "outputs": [
    {
     "data": {
      "text/plain": [
       "(7352, 561)"
      ]
     },
     "execution_count": 7,
     "metadata": {},
     "output_type": "execute_result"
    }
   ],
   "source": [
    "z=np.array(new_lines)\n",
    "z.shape"
   ]
  },
  {
   "cell_type": "code",
   "execution_count": 8,
   "metadata": {},
   "outputs": [
    {
     "data": {
      "text/plain": [
       "PCA(copy=True, iterated_power='auto', n_components=4, random_state=None,\n",
       "  svd_solver='auto', tol=0.0, whiten=False)"
      ]
     },
     "execution_count": 8,
     "metadata": {},
     "output_type": "execute_result"
    }
   ],
   "source": [
    "pca = PCA(n_components=4)\n",
    "pca.fit(z)"
   ]
  },
  {
   "cell_type": "code",
   "execution_count": 9,
   "metadata": {},
   "outputs": [
    {
     "name": "stdout",
     "output_type": "stream",
     "text": [
      "[0.6255444  0.04913023 0.04121467 0.01874956]\n"
     ]
    }
   ],
   "source": [
    "print(pca.explained_variance_ratio_)"
   ]
  },
  {
   "cell_type": "code",
   "execution_count": 10,
   "metadata": {},
   "outputs": [
    {
     "data": {
      "text/plain": [
       "array([-5.15569362,  0.51275569, -1.71171694, -0.47943645])"
      ]
     },
     "execution_count": 10,
     "metadata": {},
     "output_type": "execute_result"
    }
   ],
   "source": [
    "sample = pca.transform(z)\n",
    "sample[9]"
   ]
  },
  {
   "cell_type": "markdown",
   "metadata": {},
   "source": [
    "**Elbow using k-means score**"
   ]
  },
  {
   "cell_type": "code",
   "execution_count": 11,
   "metadata": {},
   "outputs": [],
   "source": [
    "kmeans_score=[]\n",
    "slope1=[]\n",
    "sse=[]\n",
    "K = range(1,10)\n",
    "for k in K :\n",
    "    kmeansModel1 = KMeans(n_clusters=k)\n",
    "    labels=kmeansModel1.fit_predict(sample)\n",
    "    centers = kmeansModel1.cluster_centers_\n",
    "    #print(len(centers))\n",
    "    #print(kmeansModel1.labels_)\n",
    "    kmeans_score.append(kmeansModel1.score(sample))\n",
    "    #print(kmeans_score)\n",
    "    #sample_transformed = kmeansModel1.transform(sample)\n",
    "    #print(sample_transformed)\n",
    "    #Calculate slope of each line\n",
    "    if k>1:\n",
    "        s= (kmeans_score[-2]-kmeans_score[-1])\n",
    "        slope1.append([k,s])"
   ]
  },
  {
   "cell_type": "code",
   "execution_count": 12,
   "metadata": {},
   "outputs": [
    {
     "data": {
      "image/png": "[encoded data removed]",
      "text/plain": [
       "<Figure size 432x288 with 1 Axes>"
      ]
     },
     "metadata": {},
     "output_type": "display_data"
    }
   ],
   "source": [
    "plt.plot(K,kmeans_score,'bx-')\n",
    "plt.xlabel('k')\n",
    "plt.ylabel('Distortion')\n",
    "plt.title('The Elbow Method showing the optimal k')\n",
    "plt.show()"
   ]
  },
  {
   "cell_type": "code",
   "execution_count": 13,
   "metadata": {},
   "outputs": [
    {
     "data": {
      "text/plain": [
       "[[2, -233824.2363855477],\n",
       " [3, -15338.096314158378],\n",
       " [4, -14887.218274882223],\n",
       " [5, -6160.645519253223],\n",
       " [6, -4712.959518176784],\n",
       " [7, -3378.1700303528196],\n",
       " [8, -2514.5714191832994],\n",
       " [9, -2009.362592149355]]"
      ]
     },
     "execution_count": 13,
     "metadata": {},
     "output_type": "execute_result"
    }
   ],
   "source": [
    "slope1"
   ]
  },
  {
   "cell_type": "code",
   "execution_count": 15,
   "metadata": {},
   "outputs": [
    {
     "name": "stdout",
     "output_type": "stream",
     "text": [
      "Optimal Number of Clusters = 1\n",
      "Optimal Number of Clusters = 2\n",
      "Optimal Number of Clusters = 3\n",
      "Optimal Number of Clusters = 4\n",
      "Optimal Number of Clusters = 5\n",
      "Optimal Number of Clusters = 6\n",
      "Optimal Number of Clusters = 7\n"
     ]
    }
   ],
   "source": [
    "#chose the value after which there is a reduction in gain(rather loss)\n",
    "for a in range(0,7):\n",
    "    change_slope=(slope1[a])[-1] - (slope1[a+1])[-1]\n",
    "    if change_slope < 0:\n",
    "        print('Optimal Number of Clusters = '+str((slope1[a][0])-1))"
   ]
  },
  {
   "cell_type": "code",
   "execution_count": null,
   "metadata": {},
   "outputs": [],
   "source": []
  }
 ],
 "metadata": {
  "kernelspec": {
   "display_name": "Python 3",
   "language": "python",
   "name": "python3"
  },
  "language_info": {
   "codemirror_mode": {
    "name": "ipython",
    "version": 3
   },
   "file_extension": ".py",
   "mimetype": "text/x-python",
   "name": "python",
   "nbconvert_exporter": "python",
   "pygments_lexer": "ipython3",
   "version": "3.4.3"
  }
 },
 "nbformat": 4,
 "nbformat_minor": 2
}
