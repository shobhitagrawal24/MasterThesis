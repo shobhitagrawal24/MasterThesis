{
 "cells": [
  {
   "cell_type": "code",
   "execution_count": 2,
   "metadata": {},
   "outputs": [],
   "source": [
    "import numpy as np\n",
    "import pandas as pd\n",
    "import pyclustering as pycl\n",
    "from pyclustering.cluster.kmeans import kmeans\n",
    "from pyclustering.cluster import cluster_visualizer\n",
    "from sklearn.preprocessing import LabelEncoder\n",
    "from sklearn.decomposition import PCA\n",
    "import matplotlib.pyplot as plt\n",
    "from pyclustering.utils import timedcall\n",
    "from pyclustering.cluster.center_initializer import kmeans_plusplus_initializer\n",
    "from pyclustering.utils import draw_clusters"
   ]
  },
  {
   "cell_type": "code",
   "execution_count": 3,
   "metadata": {},
   "outputs": [],
   "source": [
    "%config IPCompleter.greedy=True"
   ]
  },
  {
   "cell_type": "code",
   "execution_count": 4,
   "metadata": {},
   "outputs": [],
   "source": [
    "df = pd.read_csv('~/MasterThesis/Data/iris.csv')"
   ]
  },
  {
   "cell_type": "code",
   "execution_count": 5,
   "metadata": {},
   "outputs": [
    {
     "data": {
      "text/html": [
       "<div>\n",
       "<style scoped>\n",
       "    .dataframe tbody tr th:only-of-type {\n",
       "        vertical-align: middle;\n",
       "    }\n",
       "\n",
       "    .dataframe tbody tr th {\n",
       "        vertical-align: top;\n",
       "    }\n",
       "\n",
       "    .dataframe thead th {\n",
       "        text-align: right;\n",
       "    }\n",
       "</style>\n",
       "<table border=\"1\" class=\"dataframe\">\n",
       "  <thead>\n",
       "    <tr style=\"text-align: right;\">\n",
       "      <th></th>\n",
       "      <th>sepal_length</th>\n",
       "      <th>sepal_width</th>\n",
       "      <th>petal_length</th>\n",
       "      <th>petal_width</th>\n",
       "      <th>species</th>\n",
       "    </tr>\n",
       "  </thead>\n",
       "  <tbody>\n",
       "    <tr>\n",
       "      <th>0</th>\n",
       "      <td>5.1</td>\n",
       "      <td>3.5</td>\n",
       "      <td>1.4</td>\n",
       "      <td>0.2</td>\n",
       "      <td>setosa</td>\n",
       "    </tr>\n",
       "    <tr>\n",
       "      <th>1</th>\n",
       "      <td>4.9</td>\n",
       "      <td>3.0</td>\n",
       "      <td>1.4</td>\n",
       "      <td>0.2</td>\n",
       "      <td>setosa</td>\n",
       "    </tr>\n",
       "    <tr>\n",
       "      <th>2</th>\n",
       "      <td>4.7</td>\n",
       "      <td>3.2</td>\n",
       "      <td>1.3</td>\n",
       "      <td>0.2</td>\n",
       "      <td>setosa</td>\n",
       "    </tr>\n",
       "    <tr>\n",
       "      <th>3</th>\n",
       "      <td>4.6</td>\n",
       "      <td>3.1</td>\n",
       "      <td>1.5</td>\n",
       "      <td>0.2</td>\n",
       "      <td>setosa</td>\n",
       "    </tr>\n",
       "    <tr>\n",
       "      <th>4</th>\n",
       "      <td>5.0</td>\n",
       "      <td>3.6</td>\n",
       "      <td>1.4</td>\n",
       "      <td>0.2</td>\n",
       "      <td>setosa</td>\n",
       "    </tr>\n",
       "  </tbody>\n",
       "</table>\n",
       "</div>"
      ],
      "text/plain": [
       "   sepal_length  sepal_width  petal_length  petal_width species\n",
       "0           5.1          3.5           1.4          0.2  setosa\n",
       "1           4.9          3.0           1.4          0.2  setosa\n",
       "2           4.7          3.2           1.3          0.2  setosa\n",
       "3           4.6          3.1           1.5          0.2  setosa\n",
       "4           5.0          3.6           1.4          0.2  setosa"
      ]
     },
     "execution_count": 5,
     "metadata": {},
     "output_type": "execute_result"
    }
   ],
   "source": [
    "df.head()"
   ]
  },
  {
   "cell_type": "markdown",
   "metadata": {},
   "source": [
    "**Encode String Attribute to Integer**"
   ]
  },
  {
   "cell_type": "code",
   "execution_count": 6,
   "metadata": {},
   "outputs": [],
   "source": [
    "enc = LabelEncoder()\n",
    "enc.fit(df['species'])\n",
    "df['species']= enc.transform(df['species'])"
   ]
  },
  {
   "cell_type": "markdown",
   "metadata": {},
   "source": [
    "**Principal Component Analysis for Dimentionality Reduction**"
   ]
  },
  {
   "cell_type": "code",
   "execution_count": 7,
   "metadata": {},
   "outputs": [
    {
     "data": {
      "text/plain": [
       "PCA(copy=True, iterated_power='auto', n_components=3, random_state=None,\n",
       "  svd_solver='auto', tol=0.0, whiten=False)"
      ]
     },
     "execution_count": 7,
     "metadata": {},
     "output_type": "execute_result"
    }
   ],
   "source": [
    "pca = PCA(n_components=3)\n",
    "pca.fit(df)"
   ]
  },
  {
   "cell_type": "code",
   "execution_count": 8,
   "metadata": {},
   "outputs": [],
   "source": [
    "df_3d=pca.transform(df)"
   ]
  },
  {
   "cell_type": "code",
   "execution_count": 9,
   "metadata": {},
   "outputs": [
    {
     "data": {
      "text/plain": [
       "array([[-2.86550669e+00,  3.02780442e-01,  4.84897211e-02],\n",
       "       [-2.89321339e+00, -1.76987146e-01, -1.68798182e-01],\n",
       "       [-3.05574910e+00, -1.68006289e-01,  5.65424149e-02],\n",
       "       [-2.92124902e+00, -3.25027211e-01,  9.80010810e-03],\n",
       "       [-2.90675140e+00,  3.02332724e-01,  1.53720302e-01],\n",
       "       [-2.48899988e+00,  7.39727187e-01,  2.00679240e-01],\n",
       "       [-2.99106535e+00, -1.16739834e-01,  2.50385821e-01],\n",
       "       [-2.81105291e+00,  1.55635814e-01,  1.66268489e-02],\n",
       "       [-3.05248032e+00, -5.89687583e-01, -9.28733240e-03],\n",
       "       [-2.85470148e+00, -1.11633294e-01, -1.64955858e-01],\n",
       "       [-2.70085679e+00,  6.36298840e-01,  2.34535897e-02],\n",
       "       [-2.79784383e+00,  8.04346801e-03,  8.99945580e-02],\n",
       "       [-2.96034027e+00, -2.39025333e-01, -1.67059861e-01],\n",
       "       [-3.36757216e+00, -5.53686579e-01,  9.81963025e-02],\n",
       "       [-2.83079955e+00,  1.14659075e+00,  7.49186344e-02],\n",
       "       [-2.58796715e+00,  1.30810539e+00,  4.03602440e-01],\n",
       "       [-2.80918503e+00,  7.79232365e-01,  2.60196978e-01],\n",
       "       [-2.83179842e+00,  2.95960603e-01,  9.08749712e-02],\n",
       "       [-2.41462623e+00,  8.84710797e-01, -3.51837355e-02],\n",
       "       [-2.77523044e+00,  4.91315230e-01,  2.59316565e-01],\n",
       "       [-2.51728591e+00,  4.11315329e-01, -1.89626308e-01],\n",
       "       [-2.73369607e+00,  4.16085084e-01,  2.40594806e-01],\n",
       "       [-3.36061098e+00,  6.64057983e-02,  3.89732328e-01],\n",
       "       [-2.50859080e+00,  1.15871426e-01,  8.79314884e-03],\n",
       "       [-2.55770496e+00, -2.15854157e-02,  4.53562542e-02],\n",
       "       [-2.69970221e+00, -1.27881710e-01, -2.42680623e-01],\n",
       "       [-2.66359007e+00,  1.32119841e-01,  8.65179146e-02],\n",
       "       [-2.75204180e+00,  3.61762174e-01, -1.05132854e-02],\n",
       "       [-2.82426199e+00,  3.03228161e-01, -5.67408602e-02],\n",
       "       [-2.81561023e+00, -1.97635173e-01,  1.19041110e-02],\n",
       "       [-2.77436552e+00, -1.97187454e-01, -9.33264702e-02],\n",
       "       [-2.60996194e+00,  4.17428239e-01, -7.50969382e-02],\n",
       "       [-2.83270669e+00,  7.79043857e-01,  3.13743521e-01],\n",
       "       [-2.78661499e+00,  1.05708470e+00,  2.99744500e-01],\n",
       "       [-2.85470148e+00, -1.11633294e-01, -1.64955858e-01],\n",
       "       [-3.03553957e+00,  4.84440834e-02, -6.09488661e-02],\n",
       "       [-2.81187856e+00,  5.88088840e-01, -1.13125132e-01],\n",
       "       [-2.85470148e+00, -1.11633294e-01, -1.64955858e-01],\n",
       "       [-3.14035271e+00, -5.11400981e-01,  6.66991116e-02],\n",
       "       [-2.77763430e+00,  2.24493840e-01, -2.74967229e-02],\n",
       "       [-2.94526332e+00,  2.36978872e-01,  1.49877978e-01],\n",
       "       [-3.01844311e+00, -9.28234946e-01, -3.62788276e-01],\n",
       "       [-3.15600491e+00, -3.74580367e-01,  1.88913130e-01],\n",
       "       [-2.60399963e+00,  1.86890470e-01,  2.32395424e-01],\n",
       "       [-2.42133701e+00,  4.44990213e-01,  2.42184077e-01],\n",
       "       [-2.89292372e+00, -2.52665012e-01, -8.22893603e-02],\n",
       "       [-2.72889243e+00,  4.88258775e-01,  2.02051880e-01],\n",
       "       [-3.00912141e+00, -2.46740609e-01,  8.57865521e-02],\n",
       "       [-2.73427540e+00,  5.67440814e-01,  6.75771616e-02],\n",
       "       [-2.88327309e+00,  9.71018016e-02, -2.96007259e-02],\n",
       "       [ 1.19648415e+00,  7.89637419e-01, -4.75875855e-01],\n",
       "       [ 8.69588214e-01,  3.89422013e-01, -1.38990304e-01],\n",
       "       [ 1.36469250e+00,  6.25796657e-01, -4.80232911e-01],\n",
       "       [ 1.71607699e-01, -7.82971834e-01, -3.02214570e-01],\n",
       "       [ 1.01435752e+00,  1.74762515e-01, -4.42421348e-01],\n",
       "       [ 5.99545840e-01, -3.52585719e-01, -1.59323839e-01],\n",
       "       [ 1.02214436e+00,  3.62401866e-01, -2.11333422e-02],\n",
       "       [-6.98178881e-01, -1.03811610e+00,  6.34162750e-04],\n",
       "       [ 9.72533478e-01,  3.25670527e-01, -5.10208411e-01],\n",
       "       [-6.29054696e-03, -7.12848227e-01,  1.31848868e-01],\n",
       "       [-4.73363285e-01, -1.26265190e+00, -3.17676316e-01],\n",
       "       [ 4.78008524e-01, -6.20598472e-02,  4.05183986e-03],\n",
       "       [ 2.45402012e-01, -4.86632494e-01, -7.11095189e-01],\n",
       "       [ 9.19195011e-01, -3.53157362e-02, -2.62084736e-01],\n",
       "       [-1.62115470e-01, -2.64146786e-01,  7.98216534e-02],\n",
       "       [ 8.63915572e-01,  5.44281918e-01, -3.59973845e-01],\n",
       "       [ 6.17891574e-01, -2.98262809e-01,  9.17842516e-02],\n",
       "       [ 2.19480574e-01, -2.92173304e-01, -3.32192433e-01],\n",
       "       [ 8.81012034e-01, -4.32397112e-01, -6.61813255e-01],\n",
       "       [ 4.19112633e-02, -5.53777221e-01, -2.94015188e-01],\n",
       "       [ 1.04375887e+00, -4.95651790e-03,  1.64145001e-01],\n",
       "       [ 3.32988818e-01, -2.77721422e-02, -2.61420954e-01],\n",
       "       [ 1.21113749e+00, -1.97813342e-01, -5.82133537e-01],\n",
       "       [ 8.59604568e-01, -9.00863648e-02, -4.07962246e-01],\n",
       "       [ 6.65557399e-01,  2.17583359e-01, -3.77322964e-01],\n",
       "       [ 8.38323070e-01,  4.07013584e-01, -3.76957282e-01],\n",
       "       [ 1.24099764e+00,  3.68403843e-01, -6.46936183e-01],\n",
       "       [ 1.45314423e+00,  3.96154325e-01, -3.83201712e-01],\n",
       "       [ 7.59392100e-01, -9.12410123e-02, -1.45817045e-01],\n",
       "       [-2.86389663e-01, -3.70183870e-01, -2.59899262e-01],\n",
       "       [-6.37275284e-02, -6.81169259e-01, -2.96119191e-01],\n",
       "       [-1.77482090e-01, -6.64473125e-01, -3.23625007e-01],\n",
       "       [ 1.26804542e-01, -2.86060393e-01, -2.17663063e-01],\n",
       "       [ 1.28903031e+00, -2.94139234e-01, -3.14922422e-01],\n",
       "       [ 5.51054363e-01, -4.35978860e-01,  1.80031395e-01],\n",
       "       [ 7.53969858e-01,  2.43990685e-01,  2.02103252e-01],\n",
       "       [ 1.13776271e+00,  5.07833195e-01, -3.62226899e-01],\n",
       "       [ 7.59141702e-01, -2.71612805e-01, -7.14720883e-01],\n",
       "       [ 2.30289872e-01, -2.45117952e-01,  6.65314898e-02],\n",
       "       [ 1.55955493e-01, -6.46151220e-01, -1.80000551e-01],\n",
       "       [ 4.34606273e-01, -6.10426251e-01, -2.20796530e-01],\n",
       "       [ 8.31322619e-01,  4.29708657e-02, -1.86098292e-01],\n",
       "       [ 2.14676934e-01, -3.64346995e-01, -2.93649507e-01],\n",
       "       [-6.56934172e-01, -1.03766838e+00, -1.04596419e-01],\n",
       "       [ 3.33814470e-01, -4.60225168e-01, -1.31668973e-01],\n",
       "       [ 3.10046493e-01, -1.79316381e-01, -3.48567668e-02],\n",
       "       [ 3.51580870e-01, -2.54546528e-01, -5.35785261e-02],\n",
       "       [ 5.98720188e-01,  7.98673073e-02, -2.89075820e-01],\n",
       "       [-8.45598367e-01, -8.09180699e-01,  6.05175824e-02],\n",
       "       [ 2.79360684e-01, -3.13080540e-01, -9.98061009e-02],\n",
       "       [ 2.72365278e+00, -3.58273178e-02,  6.46602917e-01],\n",
       "       [ 1.68085013e+00, -6.60773604e-01,  3.80182130e-01],\n",
       "       [ 2.79960056e+00,  3.46961619e-01, -4.43682520e-02],\n",
       "       [ 2.19881413e+00, -2.22224494e-01,  1.64995867e-01],\n",
       "       [ 2.55275091e+00, -6.31300809e-02,  2.77637864e-01],\n",
       "       [ 3.52701761e+00,  6.22117687e-01, -3.69142153e-01],\n",
       "       [ 8.48040608e-01, -1.34441901e+00,  6.59586366e-01],\n",
       "       [ 3.09332421e+00,  3.97221704e-01, -3.80395894e-01],\n",
       "       [ 2.52388554e+00, -2.40186208e-01, -2.85685327e-01],\n",
       "       [ 3.08098822e+00,  7.79249543e-01,  4.17932364e-01],\n",
       "       [ 1.90935813e+00,  1.56464274e-01,  4.19237425e-01],\n",
       "       [ 2.04145435e+00, -2.67378038e-01,  8.56818302e-02],\n",
       "       [ 2.37915959e+00,  1.79892720e-01,  1.47520202e-01],\n",
       "       [ 1.61674572e+00, -8.63395790e-01,  3.59356368e-01],\n",
       "       [ 1.84156540e+00, -6.26462494e-01,  6.53215391e-01],\n",
       "       [ 2.13715692e+00,  4.73941414e-02,  5.60757878e-01],\n",
       "       [ 2.17777895e+00, -6.22183980e-03,  1.52735167e-01],\n",
       "       [ 3.61158195e+00,  1.22156204e+00,  1.03096165e-01],\n",
       "       [ 3.89929604e+00,  3.74065921e-01, -6.17561566e-01],\n",
       "       [ 1.57193848e+00, -8.27953437e-01, -1.68261626e-01],\n",
       "       [ 2.62443511e+00,  3.52179093e-01,  2.80622280e-01],\n",
       "       [ 1.47980251e+00, -7.17146599e-01,  6.01680403e-01],\n",
       "       [ 3.62242644e+00,  5.51098643e-01, -5.92744429e-01],\n",
       "       [ 1.65414231e+00, -2.89911046e-01,  1.46937890e-01],\n",
       "       [ 2.48235525e+00,  2.96513027e-01,  3.45205933e-01],\n",
       "       [ 2.79628843e+00,  5.63223483e-01, -1.08312990e-01],\n",
       "       [ 1.53285131e+00, -2.80482470e-01,  2.67047906e-01],\n",
       "       [ 1.56382679e+00, -2.22396176e-01,  4.18506062e-01],\n",
       "       [ 2.34118366e+00, -2.42236293e-01,  1.86921036e-01],\n",
       "       [ 2.58443151e+00,  4.59795137e-01, -2.85538640e-01],\n",
       "       [ 3.00818461e+00,  4.10602172e-01, -4.13482356e-01],\n",
       "       [ 3.37086375e+00,  1.40254665e+00, -2.52831747e-02],\n",
       "       [ 2.37489193e+00, -2.49056132e-01,  2.29306286e-01],\n",
       "       [ 1.70528397e+00, -2.20793810e-01,  5.11302801e-02],\n",
       "       [ 2.02062214e+00, -5.37892110e-01, -9.96190182e-02],\n",
       "       [ 3.22762132e+00,  7.26717507e-01, -2.54098052e-01],\n",
       "       [ 2.36193325e+00,  7.89080071e-02,  7.24842415e-01],\n",
       "       [ 2.13653424e+00, -6.66955837e-03,  2.57965748e-01],\n",
       "       [ 1.45036190e+00, -2.81377907e-01,  4.77509069e-01],\n",
       "       [ 2.32470580e+00,  3.27037348e-01,  1.79383074e-01],\n",
       "       [ 2.51908598e+00,  1.49109189e-01,  3.65027099e-01],\n",
       "       [ 2.15198348e+00,  3.43026553e-01,  3.08791878e-01],\n",
       "       [ 1.68085013e+00, -6.60773604e-01,  3.80182130e-01],\n",
       "       [ 2.75110908e+00,  2.63568478e-01,  2.94986983e-01],\n",
       "       [ 2.61718834e+00,  2.69233670e-01,  5.14746933e-01],\n",
       "       [ 2.17301866e+00,  1.27023899e-01,  3.21052578e-01],\n",
       "       [ 1.78354908e+00, -4.43427795e-01,  5.22296870e-02],\n",
       "       [ 2.00505663e+00,  9.76736521e-03,  2.82143971e-01],\n",
       "       [ 2.13471379e+00,  3.66224097e-02,  7.56339606e-01],\n",
       "       [ 1.65708216e+00, -3.79864817e-01,  4.76994337e-01]])"
      ]
     },
     "execution_count": 9,
     "metadata": {},
     "output_type": "execute_result"
    }
   ],
   "source": [
    "df_3d"
   ]
  },
  {
   "cell_type": "markdown",
   "metadata": {},
   "source": [
    "**Significance level of Dimention after PCA**"
   ]
  },
  {
   "cell_type": "code",
   "execution_count": 10,
   "metadata": {},
   "outputs": [
    {
     "name": "stdout",
     "output_type": "stream",
     "text": [
      "[0.92264045 0.04810411 0.01829962]\n"
     ]
    }
   ],
   "source": [
    "print(pca.explained_variance_ratio_)"
   ]
  },
  {
   "cell_type": "code",
   "execution_count": 11,
   "metadata": {},
   "outputs": [],
   "source": [
    "sample = df_3d.tolist()"
   ]
  },
  {
   "cell_type": "code",
   "execution_count": 12,
   "metadata": {},
   "outputs": [
    {
     "data": {
      "text/plain": [
       "[[-2.865506694179958, 0.3027804421855346, 0.04848972108321664],\n",
       " [-2.893213389873787, -0.17698714629546025, -0.16879818223985577],\n",
       " [-3.0557490968360277, -0.1680062888732498, 0.05654241487364903],\n",
       " [-2.9212490213057007, -0.32502721124150724, 0.009800108102125393],\n",
       " [-2.906751403127423, 0.3023327236144104, 0.15372030233594386],\n",
       " [-2.4889998762241135, 0.7397271868671308, 0.20067923958637496],\n",
       " [-2.9910653468314603, -0.11673983401330057, 0.25038582105088353],\n",
       " [-2.811052907716941, 0.15563581438173735, 0.016626848919742865],\n",
       " [-3.0524803155815983, -0.5896875831557227, -0.009287332400671144],\n",
       " [-2.8547014770343715, -0.1116332941872405, -0.16495585757231296],\n",
       " [-2.70085679412818, 0.6362988400049824, 0.023453589737360614],\n",
       " [-2.797843830201389, 0.008043468006815269, 0.08999455800899642],\n",
       " [-2.960340268705975, -0.23902533286211913, -0.16705986051968574],\n",
       " [-3.367572164787304, -0.5536865786948961, 0.09819630254772521],\n",
       " [-2.8307995477413517, 1.1465907493216054, 0.07491863437912988],\n",
       " [-2.587967152889025, 1.3081053903822766, 0.403602440276896],\n",
       " [-2.809185032493355, 0.7792323651249693, 0.26019697801857616],\n",
       " [-2.831798421123649, 0.2959606028469619, 0.09087497121169891],\n",
       " [-2.4146262287811977, 0.8847107965872901, -0.035183735492138546],\n",
       " [-2.7752304415710958, 0.49131523028482205, 0.2593165648158741],\n",
       " [-2.5172859064788016, 0.41131532887374306, -0.18962630769096578],\n",
       " [-2.733696065343201, 0.41608508361214297, 0.2405948055402815],\n",
       " [-3.360610982500183, 0.06640579825132403, 0.3897323281627533],\n",
       " [-2.508590801465928, 0.11587142580822424, 0.008793148836361897],\n",
       " [-2.5577049629994573, -0.021585415686563636, 0.04535625418484551],\n",
       " [-2.6997022059632867, -0.12788170951914873, -0.24268062330460827],\n",
       " [-2.663590072537012, 0.1321198411401323, 0.08651791456865704],\n",
       " [-2.7520417993367676, 0.3617621735263065, -0.010513285373485837],\n",
       " [-2.824261985232492, 0.3032281607566595, -0.05674086016951074],\n",
       " [-2.815610229634096, -0.19763517256662871, 0.011904111049497956],\n",
       " [-2.774365520686631, -0.19718745399550447, -0.09332647020322904],\n",
       " [-2.6099619385008044, 0.4174282393255169, -0.07509693821790048],\n",
       " [-2.832706691422592, 0.7790438568695187, 0.313743520922483],\n",
       " [-2.7866149932775413, 1.0570846971452061, 0.2997444995171354],\n",
       " [-2.8547014770343715, -0.1116332941872405, -0.16495585757231296],\n",
       " [-3.0355395685757003, 0.048444083406903204, -0.0609488660642562],\n",
       " [-2.81187856014375, 0.5880888403709192, -0.11312513170334093],\n",
       " [-2.8547014770343715, -0.1116332941872405, -0.16495585757231296],\n",
       " [-3.1403527078204947, -0.5114009812571566, 0.06669911161145453],\n",
       " [-2.7776343019410614, 0.22449384028696828, -0.027496722928908923],\n",
       " [-2.945263315966838, 0.23697887150619057, 0.1498779776684011],\n",
       " [-3.0184431067872053, -0.9282349460292448, -0.36278827593724167],\n",
       " [-3.156004914163666, -0.3745803665889431, 0.18891313041960495],\n",
       " [-2.6039996295959806, 0.1868904697970936, 0.2323954242296969],\n",
       " [-2.4213370122455453, 0.44499021268841077, 0.24218407651215496],\n",
       " [-2.8929237225933573, -0.2526650115392646, -0.08228936026272121],\n",
       " [-2.728892425560094, 0.48825877505893506, 0.20205188007934155],\n",
       " [-3.009121413544597, -0.2467406093429409, 0.08578655211425107],\n",
       " [-2.7342753999040603, 0.5674408140997509, 0.06757716158601296],\n",
       " [-2.883273093612665, 0.0971018016120903, -0.02960072587628193],\n",
       " [1.196484153684142, 0.7896374189765294, -0.47587585483789446],\n",
       " [0.8695882139505532, 0.38942201333548926, -0.1389903044013997],\n",
       " [1.3646925022707785, 0.6257966572696999, -0.4802329114809363],\n",
       " [0.17160769906274076, -0.7829718343191078, -0.3022145696169217],\n",
       " [1.0143575214800864, 0.17476251533983383, -0.44242134847440284],\n",
       " [0.5995458400931227, -0.35258571866041044, -0.1593238393341015],\n",
       " [1.0221443561940178, 0.36240186629687204, -0.021133342236290986],\n",
       " [-0.698178881404222, -1.0381161024494525, 0.0006341627499708707],\n",
       " [0.972533477971762, 0.32567052725631684, -0.510208411175944],\n",
       " [-0.006290546962242946, -0.7128482274724877, 0.13184886828186773],\n",
       " [-0.47336328480737805, -1.262651895009567, -0.31767631593108236],\n",
       " [0.47800852421239637, -0.06205984716550109, 0.004051839857860645],\n",
       " [0.24540201194479727, -0.48663249411134024, -0.7110951886497033],\n",
       " [0.9191950112159845, -0.035315736172871384, -0.2620847364122524],\n",
       " [-0.16211547046013716, -0.2641467861513985, 0.07982165339107922],\n",
       " [0.8639155723261583, 0.5442819176201081, -0.3599738448718628],\n",
       " [0.617891574086689, -0.298262808574574, 0.09178425157966578],\n",
       " [0.21948057360241902, -0.29217330381572915, -0.33219243254007363],\n",
       " [0.8810120341146531, -0.4323971118160394, -0.6618132547448478],\n",
       " [0.04191126331551997, -0.5537772205040585, -0.2940151883063371],\n",
       " [1.0437588714420138, -0.004956517899763577, 0.1641450014031559],\n",
       " [0.33298881786008805, -0.027772142217187944, -0.2614209536884573],\n",
       " [1.211137486645017, -0.19781334216632734, -0.5821335368134756],\n",
       " [0.8596045682749526, -0.09008636482983268, -0.4079622460732922],\n",
       " [0.6655573992180721, 0.21758335913923388, -0.37732296365448925],\n",
       " [0.8383230697218645, 0.40701358438077007, -0.3769572824272858],\n",
       " [1.2409976438860368, 0.3684038432651806, -0.6469361833649419],\n",
       " [1.4531442290705334, 0.3961543248835257, -0.38320171153879334],\n",
       " [0.7593921003617929, -0.09124101228775575, -0.1458170452190175],\n",
       " [-0.28638966340573707, -0.370183869668309, -0.25989926244719497],\n",
       " [-0.06372752835608403, -0.6811692591789364, -0.2961191912537102],\n",
       " [-0.17748209047970315, -0.6644731252759041, -0.32362500677414224],\n",
       " [0.126804541580416, -0.28606039336395533, -0.21766306306700842],\n",
       " [1.2890303141651362, -0.2941392336812993, -0.3149224215469876],\n",
       " [0.5510543625349303, -0.4359788603850358, 0.18003139527696937],\n",
       " [0.7539698575601724, 0.2439906850442047, 0.20210325192984085],\n",
       " [1.1377627125843985, 0.5078331945881567, -0.36222689856753154],\n",
       " [0.7591417015390187, -0.27161280533509713, -0.7147208828383388],\n",
       " [0.23028987170482904, -0.24511795163959, 0.06653148975490275],\n",
       " [0.15595549271956896, -0.6461512196508944, -0.1800005508087712],\n",
       " [0.43460627276091623, -0.6104262512360537, -0.22079652996537974],\n",
       " [0.8313226189770876, 0.04297086572569499, -0.18609829240012665],\n",
       " [0.21467693381931247, -0.3643469952625217, -0.29364950707913406],\n",
       " [-0.6569341724567568, -1.0376683838783283, -0.10459641850275618],\n",
       " [0.3338144702868976, -0.4602251682063695, -0.13166897306537323],\n",
       " [0.3100464934917106, -0.1793163809602454, -0.034856766830282215],\n",
       " [0.35158086971960545, -0.25454652763292485, -0.05357852610587517],\n",
       " [0.5987201876663131, 0.07986730732877143, -0.28907581995718523],\n",
       " [-0.8455983671696717, -0.8091806989500777, 0.06051758240937588],\n",
       " [0.27936068382388046, -0.3130805404025718, -0.0998061009019],\n",
       " [2.7236527842865126, -0.035827317804295045, 0.6466029169547713],\n",
       " [1.680850134492983, -0.6607736042235174, 0.3801821304751397],\n",
       " [2.7996005587157606, 0.34696161935398484, -0.04436825195254851],\n",
       " [2.1988141293094516, -0.222224493512874, 0.1649958668712962],\n",
       " [2.5527509080494823, -0.06313008085151492, 0.27763786387589584],\n",
       " [3.5270176110663307, 0.6221176869289234, -0.3691421534521608],\n",
       " [0.8480406083367592, -1.344419005974908, 0.6595863656961942],\n",
       " [3.0933242105394205, 0.3972217035882202, -0.3803958938715761],\n",
       " [2.523885543233935, -0.2401862083572948, -0.28568532735571334],\n",
       " [3.0809882158219812, 0.7792495427806463, 0.41793236392107896],\n",
       " [1.9093581321225186, 0.15646427444506134, 0.4192374246834343],\n",
       " [2.041454347282881, -0.2673780379210493, 0.085681830167127],\n",
       " [2.37915958511888, 0.17989271989613004, 0.14752020202560884],\n",
       " [1.616745719049274, -0.8633957895710749, 0.35935636825217365],\n",
       " [1.8415653966029415, -0.6264624935822746, 0.653215390521626],\n",
       " [2.137156923650187, 0.04739414139519299, 0.5607578777014322],\n",
       " [2.177778948622315, -0.006221839803845219, 0.15273516718611768],\n",
       " [3.6115819535931433, 1.2215620376039755, 0.10309616545222056],\n",
       " [3.899296042843104, 0.37406592112720416, -0.6175615664843004],\n",
       " [1.5719384806101255, -0.8279534371648377, -0.16826162614841894],\n",
       " [2.624435108798827, 0.35217909266351033, 0.2806222800259707],\n",
       " [1.4798025146913265, -0.717146598909527, 0.6016804029211016],\n",
       " [3.622426439196384, 0.5510986429400546, -0.5927444288454962],\n",
       " [1.654142312181451, -0.28991104622986974, 0.14693789031949833],\n",
       " [2.4823552479628646, 0.2965130268642996, 0.3452059328703853],\n",
       " [2.796288428046852, 0.5632234833786882, -0.10831298998654754],\n",
       " [1.5328513141666749, -0.28048247023653455, 0.2670479061802756],\n",
       " [1.5638267911149342, -0.22239617603801243, 0.41850606222902786],\n",
       " [2.3411836574258444, -0.24223629295746724, 0.1869210360040156],\n",
       " [2.5844315101427853, 0.4597951365165397, -0.28553863983556177],\n",
       " [3.0081846144085738, 0.41060217194969173, -0.41348235577972053],\n",
       " [3.3708637518303526, 1.402546651784962, -0.025283174677897147],\n",
       " [2.3748919304821534, -0.24905613229603996, 0.22930628613249793],\n",
       " [1.705283967975559, -0.22079381000896442, 0.05113028012202586],\n",
       " [2.0206221350472147, -0.5378921099713654, -0.09961901815755464],\n",
       " [3.2276213176182758, 0.7267175069793077, -0.25409805200359653],\n",
       " [2.3619332517893756, 0.07890800712622287, 0.7248424146625658],\n",
       " [2.13653423967485, -0.006669558374969464, 0.2579657484388448],\n",
       " [1.4503618962717442, -0.28137790737878365, 0.47750906868573006],\n",
       " [2.3247057986558635, 0.32703734769992787, 0.17938307418908211],\n",
       " [2.519085984407652, 0.1491091887448281, 0.3650270990557322],\n",
       " [2.1519834775665494, 0.34302655271616145, 0.3087918782701978],\n",
       " [1.680850134492983, -0.6607736042235174, 0.3801821304751397],\n",
       " [2.7511090811575682, 0.2635684776293595, 0.29498698265852225],\n",
       " [2.6171883401880995, 0.26923366951000877, 0.5147469333843144],\n",
       " [2.173018658253687, 0.12702389900713257, 0.32105257795537606],\n",
       " [1.783549080648242, -0.4434277948011154, 0.052229687031779715],\n",
       " [2.0050566275330013, 0.009767365212388218, 0.28214397126723334],\n",
       " [2.1347137948225674, 0.03662240968848396, 0.7563396055988358],\n",
       " [1.657082157697796, -0.37986481697739344, 0.47699433671023084]]"
      ]
     },
     "execution_count": 12,
     "metadata": {},
     "output_type": "execute_result"
    }
   ],
   "source": [
    "sample"
   ]
  },
  {
   "cell_type": "markdown",
   "metadata": {},
   "source": [
    "**Initialize centers using k-means++**"
   ]
  },
  {
   "cell_type": "code",
   "execution_count": 13,
   "metadata": {},
   "outputs": [
    {
     "name": "stdout",
     "output_type": "stream",
     "text": [
      "[array([-2.66359007,  0.13211984,  0.08651791]), array([ 2.04145435, -0.26737804,  0.08568183]), array([ 0.31004649, -0.17931638, -0.03485677])]\n"
     ]
    }
   ],
   "source": [
    "initial_centers = kmeans_plusplus_initializer(sample, 3).initialize()\n",
    "initial_centers_list=[]\n",
    "for center in initial_centers:\n",
    "    initial_centers_list.append(center.tolist())\n",
    "print(initial_centers)"
   ]
  },
  {
   "cell_type": "code",
   "execution_count": 15,
   "metadata": {},
   "outputs": [
    {
     "data": {
      "image/png": "[encoded data removed]",
      "text/plain": [
       "<Figure size 432x288 with 1 Axes>"
      ]
     },
     "metadata": {},
     "output_type": "display_data"
    },
    {
     "data": {
      "text/plain": [
       "<matplotlib.axes._subplots.Axes3DSubplot at 0x7f88ea521c88>"
      ]
     },
     "execution_count": 15,
     "metadata": {},
     "output_type": "execute_result"
    }
   ],
   "source": [
    "k_means_instance = kmeans(sample,initial_centers_list)\n",
    "(ticks, result) = timedcall(k_means_instance.process)\n",
    "clusters = k_means_instance.get_clusters()\n",
    "centers = k_means_instance.get_centers()\n",
    "draw_clusters(sample,clusters)"
   ]
  },
  {
   "cell_type": "code",
   "execution_count": 16,
   "metadata": {},
   "outputs": [
    {
     "name": "stdout",
     "output_type": "stream",
     "text": [
      "Execution Time:  0.0037130000000000773 Sec\n"
     ]
    }
   ],
   "source": [
    "print('Execution Time: ',ticks,'Sec')"
   ]
  },
  {
   "cell_type": "markdown",
   "metadata": {},
   "source": [
    "**Initial Centers Given**"
   ]
  },
  {
   "cell_type": "code",
   "execution_count": 17,
   "metadata": {},
   "outputs": [
    {
     "name": "stdout",
     "output_type": "stream",
     "text": [
      "[[-2.663590072537012, 0.1321198411401323, 0.08651791456865704], [2.041454347282881, -0.2673780379210493, 0.085681830167127], [0.3100464934917106, -0.1793163809602454, -0.034856766830282215]]\n"
     ]
    }
   ],
   "source": [
    "print(initial_centers_list)"
   ]
  },
  {
   "cell_type": "code",
   "execution_count": 18,
   "metadata": {},
   "outputs": [
    {
     "name": "stdout",
     "output_type": "stream",
     "text": [
      "Number of clusters found :3\n"
     ]
    }
   ],
   "source": [
    "print('Number of clusters found :'+str(len(clusters)))"
   ]
  },
  {
   "cell_type": "code",
   "execution_count": 19,
   "metadata": {},
   "outputs": [
    {
     "name": "stdout",
     "output_type": "stream",
     "text": [
      "[50, 50, 50]\n"
     ]
    },
    {
     "data": {
      "image/png": "[encoded data removed]",
      "text/plain": [
       "<Figure size 432x288 with 1 Axes>"
      ]
     },
     "metadata": {},
     "output_type": "display_data"
    }
   ],
   "source": [
    "c=[]\n",
    "for cluster in clusters:\n",
    "    c.append(len(cluster))\n",
    "print(c)\n",
    "cluster_label=['c1','c2','c3']\n",
    "plt.bar([1,2,3],height=c,tick_label=cluster_label)\n",
    "plt.ylabel('Number of objects')\n",
    "plt.xlabel('clusters')\n",
    "plt.show()"
   ]
  },
  {
   "cell_type": "code",
   "execution_count": 20,
   "metadata": {},
   "outputs": [],
   "source": [
    "sample1=pd.DataFrame(sample).values\n",
    "centers_list=np.array(centers)\n",
    "initial_centers_list1=np.array(initial_centers_list)"
   ]
  },
  {
   "cell_type": "code",
   "execution_count": 21,
   "metadata": {},
   "outputs": [
    {
     "data": {
      "text/plain": [
       "<matplotlib.legend.Legend at 0x7f88ea36d4a8>"
      ]
     },
     "execution_count": 21,
     "metadata": {},
     "output_type": "execute_result"
    },
    {
     "data": {
      "image/png": "[encoded data removed]",
      "text/plain": [
       "<Figure size 432x288 with 1 Axes>"
      ]
     },
     "metadata": {},
     "output_type": "display_data"
    }
   ],
   "source": [
    "#Scatter plot with better cluster visualization\n",
    "plt.scatter(sample1[clusters[0],0],sample1[clusters[0],1],s=100,c='red',label='cluster 1')\n",
    "plt.scatter(sample1[clusters[1],0],sample1[clusters[1],1],s=100,c='green',label='cluster 2')\n",
    "plt.scatter(sample1[clusters[2],0],sample1[clusters[2],1],s=100,c='blue',label='cluster 3')\n",
    "\n",
    "#plot centers of respective new clusters\n",
    "plt.scatter(centers_list[:,0],centers_list[:,1],s=100,c='yellow',label='Final Centroids')\n",
    "\n",
    "#plot initial centers assigned to clusters\n",
    "plt.scatter(initial_centers_list1[:,0],initial_centers_list1[:,1],s=100,c='lightblue',label='Initial Centroids')\n",
    "\n",
    "\n",
    "plt.title('Cluster distribution using k-means++ initialization')\n",
    "plt.legend()"
   ]
  },
  {
   "cell_type": "code",
   "execution_count": null,
   "metadata": {},
   "outputs": [],
   "source": []
  }
 ],
 "metadata": {
  "kernelspec": {
   "display_name": "Python 3",
   "language": "python",
   "name": "python3"
  },
  "language_info": {
   "codemirror_mode": {
    "name": "ipython",
    "version": 3
   },
   "file_extension": ".py",
   "mimetype": "text/x-python",
   "name": "python",
   "nbconvert_exporter": "python",
   "pygments_lexer": "ipython3",
   "version": "3.4.3"
  }
 },
 "nbformat": 4,
 "nbformat_minor": 2
}
