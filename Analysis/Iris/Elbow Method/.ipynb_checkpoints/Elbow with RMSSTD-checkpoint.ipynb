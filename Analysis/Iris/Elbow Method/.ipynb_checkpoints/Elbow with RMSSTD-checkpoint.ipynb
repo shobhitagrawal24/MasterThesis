{
 "cells": [
  {
   "cell_type": "code",
   "execution_count": 40,
   "metadata": {},
   "outputs": [],
   "source": [
    "from sklearn.cluster import KMeans\n",
    "from sklearn import metrics\n",
    "from scipy.spatial.distance import cdist\n",
    "import numpy as np\n",
    "import matplotlib.pyplot as plt\n",
    "import pandas as pd\n",
    "from sklearn.preprocessing import LabelEncoder\n",
    "from sklearn.decomposition import PCA\n",
    "import math\n",
    "from sklearn.preprocessing import StandardScaler\n",
    "from sympy import Point, Line"
   ]
  },
  {
   "cell_type": "code",
   "execution_count": 41,
   "metadata": {},
   "outputs": [],
   "source": [
    "%config IPCompleter.greedy=True"
   ]
  },
  {
   "cell_type": "code",
   "execution_count": 42,
   "metadata": {},
   "outputs": [],
   "source": [
    "df = pd.read_csv('~/MasterThesis/Data/iris.csv')"
   ]
  },
  {
   "cell_type": "code",
   "execution_count": 43,
   "metadata": {},
   "outputs": [
    {
     "data": {
      "text/html": [
       "<div>\n",
       "<style scoped>\n",
       "    .dataframe tbody tr th:only-of-type {\n",
       "        vertical-align: middle;\n",
       "    }\n",
       "\n",
       "    .dataframe tbody tr th {\n",
       "        vertical-align: top;\n",
       "    }\n",
       "\n",
       "    .dataframe thead th {\n",
       "        text-align: right;\n",
       "    }\n",
       "</style>\n",
       "<table border=\"1\" class=\"dataframe\">\n",
       "  <thead>\n",
       "    <tr style=\"text-align: right;\">\n",
       "      <th></th>\n",
       "      <th>sepal_length</th>\n",
       "      <th>sepal_width</th>\n",
       "      <th>petal_length</th>\n",
       "      <th>petal_width</th>\n",
       "      <th>species</th>\n",
       "    </tr>\n",
       "  </thead>\n",
       "  <tbody>\n",
       "    <tr>\n",
       "      <th>0</th>\n",
       "      <td>5.1</td>\n",
       "      <td>3.5</td>\n",
       "      <td>1.4</td>\n",
       "      <td>0.2</td>\n",
       "      <td>setosa</td>\n",
       "    </tr>\n",
       "    <tr>\n",
       "      <th>1</th>\n",
       "      <td>4.9</td>\n",
       "      <td>3.0</td>\n",
       "      <td>1.4</td>\n",
       "      <td>0.2</td>\n",
       "      <td>setosa</td>\n",
       "    </tr>\n",
       "    <tr>\n",
       "      <th>2</th>\n",
       "      <td>4.7</td>\n",
       "      <td>3.2</td>\n",
       "      <td>1.3</td>\n",
       "      <td>0.2</td>\n",
       "      <td>setosa</td>\n",
       "    </tr>\n",
       "    <tr>\n",
       "      <th>3</th>\n",
       "      <td>4.6</td>\n",
       "      <td>3.1</td>\n",
       "      <td>1.5</td>\n",
       "      <td>0.2</td>\n",
       "      <td>setosa</td>\n",
       "    </tr>\n",
       "    <tr>\n",
       "      <th>4</th>\n",
       "      <td>5.0</td>\n",
       "      <td>3.6</td>\n",
       "      <td>1.4</td>\n",
       "      <td>0.2</td>\n",
       "      <td>setosa</td>\n",
       "    </tr>\n",
       "  </tbody>\n",
       "</table>\n",
       "</div>"
      ],
      "text/plain": [
       "   sepal_length  sepal_width  petal_length  petal_width species\n",
       "0           5.1          3.5           1.4          0.2  setosa\n",
       "1           4.9          3.0           1.4          0.2  setosa\n",
       "2           4.7          3.2           1.3          0.2  setosa\n",
       "3           4.6          3.1           1.5          0.2  setosa\n",
       "4           5.0          3.6           1.4          0.2  setosa"
      ]
     },
     "execution_count": 43,
     "metadata": {},
     "output_type": "execute_result"
    }
   ],
   "source": [
    "df.head()"
   ]
  },
  {
   "cell_type": "markdown",
   "metadata": {},
   "source": [
    "**Encode String Attribute to Integer**"
   ]
  },
  {
   "cell_type": "code",
   "execution_count": 44,
   "metadata": {},
   "outputs": [],
   "source": [
    "enc = LabelEncoder()\n",
    "enc.fit(df['species'])\n",
    "df['species']= enc.transform(df['species'])"
   ]
  },
  {
   "cell_type": "markdown",
   "metadata": {},
   "source": [
    "**feature scaling**"
   ]
  },
  {
   "cell_type": "code",
   "execution_count": 45,
   "metadata": {},
   "outputs": [],
   "source": [
    "scaler = StandardScaler()\n",
    "sample=scaler.fit_transform(df.iloc[:,0:4])"
   ]
  },
  {
   "cell_type": "markdown",
   "metadata": {},
   "source": [
    "**Elbow Implimentation with Root Mean Squared Standered Deviation**"
   ]
  },
  {
   "cell_type": "code",
   "execution_count": 52,
   "metadata": {},
   "outputs": [
    {
     "name": "stdout",
     "output_type": "stream",
     "text": [
      "Cluster Mean= 0   -2.775558e-16\n",
      "1   -5.140333e-16\n",
      "2    1.154632e-16\n",
      "3    9.251859e-16\n",
      "dtype: float64\n",
      "RMSSTD = {1: 1.8646205767971837}\n",
      "Cluster Mean= 0    0.507289\n",
      "1   -0.421153\n",
      "2    0.652439\n",
      "3    0.627564\n",
      "dtype: float64\n",
      "Cluster Mean= 0   -1.014579\n",
      "1    0.842307\n",
      "2   -1.304878\n",
      "3   -1.255129\n",
      "dtype: float64\n",
      "RMSSTD = {1: 1.8646205767971837, 2: 1.0642507146657962}\n",
      "Cluster Mean= 0   -1.014579\n",
      "1    0.842307\n",
      "2   -1.304878\n",
      "3   -1.255129\n",
      "dtype: float64\n",
      "Cluster Mean= 0   -0.011396\n",
      "1   -0.872885\n",
      "2    0.376884\n",
      "3    0.311654\n",
      "dtype: float64\n",
      "Cluster Mean= 0    1.167434\n",
      "1    0.153778\n",
      "2    1.003145\n",
      "3    1.029633\n",
      "dtype: float64\n",
      "RMSSTD = {1: 1.8646205767971837, 2: 1.0642507146657962, 3: 0.8659600127767184}\n",
      "Cluster Mean= 0   -0.077234\n",
      "1   -0.927784\n",
      "2    0.322920\n",
      "3    0.237868\n",
      "dtype: float64\n",
      "Cluster Mean= 0   -0.734636\n",
      "1    1.452011\n",
      "2   -1.297044\n",
      "3   -1.210720\n",
      "dtype: float64\n",
      "Cluster Mean= 0    1.068891\n",
      "1    0.065610\n",
      "2    0.969036\n",
      "3    1.001979\n",
      "dtype: float64\n",
      "Cluster Mean= 0   -1.343207\n",
      "1    0.126567\n",
      "2   -1.314076\n",
      "3   -1.307261\n",
      "dtype: float64\n",
      "RMSSTD = {1: 1.8646205767971837, 2: 1.0642507146657962, 3: 0.8659600127767184, 4: 0.776530824292977}\n",
      "Cluster Mean= 0   -0.338462\n",
      "1   -1.300485\n",
      "2    0.139511\n",
      "3    0.059601\n",
      "dtype: float64\n",
      "Cluster Mean= 0   -0.700491\n",
      "1    1.565290\n",
      "2   -1.299241\n",
      "3   -1.204369\n",
      "dtype: float64\n",
      "Cluster Mean= 0    1.401508\n",
      "1    0.243573\n",
      "2    1.202941\n",
      "3    1.282397\n",
      "dtype: float64\n",
      "Cluster Mean= 0    0.444787\n",
      "1   -0.337077\n",
      "2    0.609932\n",
      "3    0.555035\n",
      "dtype: float64\n",
      "Cluster Mean= 0   -1.282136\n",
      "1    0.226432\n",
      "2   -1.309680\n",
      "3   -1.298369\n",
      "dtype: float64\n",
      "RMSSTD = {1: 1.8646205767971837, 2: 1.0642507146657962, 3: 0.8659600127767184, 4: 0.776530824292977, 5: 0.6978827199984469}\n",
      "Cluster Mean= 0    0.862520\n",
      "1    0.202198\n",
      "2    0.854920\n",
      "3    1.053537\n",
      "dtype: float64\n",
      "Cluster Mean= 0   -0.723590\n",
      "1    1.477063\n",
      "2   -1.297530\n",
      "3   -1.206787\n",
      "dtype: float64\n",
      "Cluster Mean= 0   -1.329817\n",
      "1    0.154654\n",
      "2   -1.312840\n",
      "3   -1.307499\n",
      "dtype: float64\n",
      "Cluster Mean= 0    1.977056\n",
      "1    0.164296\n",
      "2    1.445147\n",
      "3    1.119273\n",
      "dtype: float64\n",
      "Cluster Mean= 0    0.253602\n",
      "1   -0.532958\n",
      "2    0.548764\n",
      "3    0.493047\n",
      "dtype: float64\n",
      "Cluster Mean= 0   -0.364081\n",
      "1   -1.414203\n",
      "2    0.107449\n",
      "3    0.001753\n",
      "dtype: float64\n",
      "RMSSTD = {1: 1.8646205767971837, 2: 1.0642507146657962, 3: 0.8659600127767184, 4: 0.776530824292977, 5: 0.6978827199984469, 6: 0.6581941158783823}\n",
      "Cluster Mean= 0   -1.385353\n",
      "1   -0.034968\n",
      "2   -1.338113\n",
      "3   -1.334889\n",
      "dtype: float64\n",
      "Cluster Mean= 0    0.922607\n",
      "1    0.216637\n",
      "2    1.017300\n",
      "3    1.335265\n",
      "dtype: float64\n",
      "Cluster Mean= 0    0.371581\n",
      "1   -0.356361\n",
      "2    0.541477\n",
      "3    0.476199\n",
      "dtype: float64\n",
      "Cluster Mean= 0   -0.964454\n",
      "1    0.898087\n",
      "2   -1.296378\n",
      "3   -1.216102\n",
      "dtype: float64\n",
      "Cluster Mean= 0   -0.355426\n",
      "1   -1.408192\n",
      "2    0.134651\n",
      "3    0.049561\n",
      "dtype: float64\n",
      "Cluster Mean= 0    2.007348\n",
      "1    0.064372\n",
      "2    1.455486\n",
      "3    1.065489\n",
      "dtype: float64\n",
      "Cluster Mean= 0   -0.574460\n",
      "1    1.975469\n",
      "2   -1.271284\n",
      "3   -1.201730\n",
      "dtype: float64\n",
      "RMSSTD = {1: 1.8646205767971837, 2: 1.0642507146657962, 3: 0.8659600127767184, 4: 0.776530824292977, 5: 0.6978827199984469, 6: 0.6581941158783823, 7: 0.6124419859717206}\n",
      "Cluster Mean= 0    2.128516\n",
      "1    1.571997\n",
      "2    1.502013\n",
      "3    1.360307\n",
      "dtype: float64\n",
      "Cluster Mean= 0    0.257802\n",
      "1   -0.424088\n",
      "2    0.524200\n",
      "3    0.485958\n",
      "dtype: float64\n",
      "Cluster Mean= 0   -0.961265\n",
      "1    0.927926\n",
      "2   -1.295780\n",
      "3   -1.207798\n",
      "dtype: float64\n",
      "Cluster Mean= 0    0.921684\n",
      "1    0.171238\n",
      "2    0.919708\n",
      "3    1.142938\n",
      "dtype: float64\n",
      "Cluster Mean= 0   -0.364081\n",
      "1   -1.414203\n",
      "2    0.107449\n",
      "3    0.001753\n",
      "dtype: float64\n",
      "Cluster Mean= 0   -0.547275\n",
      "1    2.015520\n",
      "2   -1.270190\n",
      "3   -1.214372\n",
      "dtype: float64\n",
      "Cluster Mean= 0    1.837713\n",
      "1   -0.402641\n",
      "2    1.399655\n",
      "3    1.014095\n",
      "dtype: float64\n",
      "Cluster Mean= 0   -1.385353\n",
      "1   -0.034968\n",
      "2   -1.338113\n",
      "3   -1.334889\n",
      "dtype: float64\n",
      "RMSSTD = {1: 1.8646205767971837, 2: 1.0642507146657962, 3: 0.8659600127767184, 4: 0.776530824292977, 5: 0.6978827199984469, 6: 0.6581941158783823, 7: 0.6124419859717206, 8: 0.5816300688638878}\n",
      "Cluster Mean= 0   -1.385353\n",
      "1   -0.034968\n",
      "2   -1.338113\n",
      "3   -1.334889\n",
      "dtype: float64\n",
      "Cluster Mean= 0   -0.364081\n",
      "1   -1.414203\n",
      "2    0.107449\n",
      "3    0.001753\n",
      "dtype: float64\n",
      "Cluster Mean= 0    0.886545\n",
      "1    0.164296\n",
      "2    1.001595\n",
      "3    1.316483\n",
      "dtype: float64\n",
      "Cluster Mean= 0   -0.547275\n",
      "1    2.015520\n",
      "2   -1.270190\n",
      "3   -1.214372\n",
      "dtype: float64\n",
      "Cluster Mean= 0    0.898196\n",
      "1    0.017444\n",
      "2    0.491553\n",
      "3    0.355719\n",
      "dtype: float64\n",
      "Cluster Mean= 0   -0.961265\n",
      "1    0.927926\n",
      "2   -1.295780\n",
      "3   -1.207798\n",
      "dtype: float64\n",
      "Cluster Mean= 0    1.837713\n",
      "1   -0.402641\n",
      "2    1.399655\n",
      "3    1.014095\n",
      "dtype: float64\n",
      "Cluster Mean= 0    2.128516\n",
      "1    1.571997\n",
      "2    1.502013\n",
      "3    1.360307\n",
      "dtype: float64\n",
      "Cluster Mean= 0    0.127410\n",
      "1   -0.503617\n",
      "2    0.547358\n",
      "3    0.531629\n",
      "dtype: float64\n",
      "RMSSTD = {1: 1.8646205767971837, 2: 1.0642507146657962, 3: 0.8659600127767184, 4: 0.776530824292977, 5: 0.6978827199984469, 6: 0.6581941158783823, 7: 0.6124419859717206, 8: 0.5816300688638878, 9: 0.5459432798432026}\n"
     ]
    }
   ],
   "source": [
    "RMSSTD={}\n",
    "K = range(1,10)\n",
    "for k in K :\n",
    "    RMSSTD[k]=0\n",
    "    kmeansModel = KMeans(n_clusters=k)\n",
    "    labels= kmeansModel.fit_predict(sample)\n",
    "    centers = kmeansModel.cluster_centers_\n",
    "    sample_transformed = kmeansModel.fit_transform(sample)\n",
    "    for i in range(0,k):\n",
    "        cluster_datapoints = pd.DataFrame(sample[labels==i])\n",
    "        #print(cluster_datapoints.head())\n",
    "        \n",
    "        #Mean Value of each dimention of datapoints in this cluster\n",
    "        cluster_mean = cluster_datapoints.mean(axis=0)\n",
    "        print(\"Cluster Mean= \"+str(cluster_mean))\n",
    "        \n",
    "        for index,row in cluster_datapoints.iterrows():\n",
    "            err = cdist(row[np.newaxis,:],cluster_mean[np.newaxis,:], 'minkowski',p=2)\n",
    "            RMSSTD[k]=RMSSTD[k]+err\n",
    "    #Calculate the mean error for entire dataset\n",
    "    RMSSTD[k]=((RMSSTD[k]/len(sample))[0])[0]\n",
    "    print(\"RMSSTD = \"+str(RMSSTD))"
   ]
  },
  {
   "cell_type": "markdown",
   "metadata": {},
   "source": [
    "**Ploting Elbow**"
   ]
  },
  {
   "cell_type": "code",
   "execution_count": 53,
   "metadata": {},
   "outputs": [
    {
     "name": "stdout",
     "output_type": "stream",
     "text": [
      "[1.8646205767971837, 1.0642507146657962, 0.8659600127767184, 0.776530824292977, 0.6978827199984469, 0.6581941158783823, 0.6124419859717206, 0.5816300688638878, 0.5459432798432026]\n"
     ]
    },
    {
     "data": {
      "text/plain": [
       "[[2, -0.8003698621313875],\n",
       " [3, -0.19829070188907783],\n",
       " [4, -0.08942918848374137],\n",
       " [5, -0.07864810429453017],\n",
       " [6, -0.039688604120064586],\n",
       " [7, -0.045752129906661665],\n",
       " [8, -0.03081191710783282],\n",
       " [9, -0.03568678902068523]]"
      ]
     },
     "execution_count": 53,
     "metadata": {},
     "output_type": "execute_result"
    }
   ],
   "source": [
    "SSE_array=[]\n",
    "slope=[]\n",
    "for key,value in RMSSTD.items():\n",
    "    SSE_array.append(value)\n",
    "print(SSE_array)\n",
    "\n",
    "#Calculate slope of each line\n",
    "for p in range(1,9):\n",
    "    s= (SSE_array[p]-SSE_array[p-1])\n",
    "    slope.append([p+1,s])\n",
    "slope"
   ]
  },
  {
   "cell_type": "code",
   "execution_count": 54,
   "metadata": {},
   "outputs": [
    {
     "data": {
      "image/png": "[encoded data removed]",
      "text/plain": [
       "<Figure size 432x288 with 1 Axes>"
      ]
     },
     "metadata": {},
     "output_type": "display_data"
    }
   ],
   "source": [
    "plt.plot(K,SSE_array,'bx-')\n",
    "plt.xlabel('Number of Clusters (k)')\n",
    "plt.ylabel('RMSSTD')\n",
    "plt.title('The Elbow Method showing the optimal k')\n",
    "plt.show()"
   ]
  },
  {
   "cell_type": "code",
   "execution_count": 14,
   "metadata": {},
   "outputs": [
    {
     "data": {
      "text/plain": [
       "[[2, -0.8055071418579078],\n",
       " [3, -0.20343074926562155],\n",
       " [4, -0.08691534278846258],\n",
       " [5, -0.08115564225108574],\n",
       " [6, -0.02294465562798298],\n",
       " [7, -0.06215240130246169],\n",
       " [8, -0.03726832851614115],\n",
       " [9, -0.024090343942621995]]"
      ]
     },
     "execution_count": 14,
     "metadata": {},
     "output_type": "execute_result"
    }
   ],
   "source": [
    "slope"
   ]
  },
  {
   "cell_type": "code",
   "execution_count": 15,
   "metadata": {
    "scrolled": true
   },
   "outputs": [
    {
     "name": "stdout",
     "output_type": "stream",
     "text": [
      "Optimal Number of Clusters = 5\n"
     ]
    }
   ],
   "source": [
    "#chose the value after which there is a reduction in gain(rather loss)\n",
    "for a in range(0,7):\n",
    "    change_slope=(slope[a])[-1] - (slope[a+1])[-1]\n",
    "    if change_slope > 0:\n",
    "        print('Optimal Number of Clusters = '+str((slope[a][0])-1))"
   ]
  },
  {
   "cell_type": "code",
   "execution_count": 55,
   "metadata": {},
   "outputs": [
    {
     "name": "stdout",
     "output_type": "stream",
     "text": [
      "Optimal number 0f clusters = 3\n"
     ]
    }
   ],
   "source": [
    "distances=[]\n",
    "for i in range(0,9):\n",
    "    p1=Point(1,SSE_array[0])\n",
    "    p2=Point(9,SSE_array[8])\n",
    "    l1 = Line(p1,p2)\n",
    "    p=Point(i+1,SSE_array[i])\n",
    "    l2=l1.perpendicular_segment(p)\n",
    "    distances.append(l2.length)\n",
    "index=distances.index(np.max(distances))\n",
    "print('Optimal number 0f clusters = '+str(index+1))"
   ]
  },
  {
   "cell_type": "code",
   "execution_count": null,
   "metadata": {},
   "outputs": [],
   "source": []
  }
 ],
 "metadata": {
  "kernelspec": {
   "display_name": "Python 3",
   "language": "python",
   "name": "python3"
  },
  "language_info": {
   "codemirror_mode": {
    "name": "ipython",
    "version": 3
   },
   "file_extension": ".py",
   "mimetype": "text/x-python",
   "name": "python",
   "nbconvert_exporter": "python",
   "pygments_lexer": "ipython3",
   "version": "3.4.3"
  }
 },
 "nbformat": 4,
 "nbformat_minor": 2
}
