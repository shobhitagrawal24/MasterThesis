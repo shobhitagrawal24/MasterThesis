{
 "cells": [
  {
   "cell_type": "code",
   "execution_count": 1,
   "metadata": {},
   "outputs": [],
   "source": [
    "from sklearn.cluster import KMeans\n",
    "from sklearn import metrics\n",
    "from scipy.spatial.distance import cdist\n",
    "import numpy as np\n",
    "import matplotlib.pyplot as plt\n",
    "import pandas as pd\n",
    "from sklearn.preprocessing import LabelEncoder\n",
    "from sklearn.decomposition import PCA"
   ]
  },
  {
   "cell_type": "code",
   "execution_count": 2,
   "metadata": {},
   "outputs": [],
   "source": [
    "%config IPCompleter.greedy=True"
   ]
  },
  {
   "cell_type": "code",
   "execution_count": 3,
   "metadata": {},
   "outputs": [],
   "source": [
    "df = pd.read_csv('~/Master Thesis/Data/iris.csv')"
   ]
  },
  {
   "cell_type": "code",
   "execution_count": 4,
   "metadata": {},
   "outputs": [
    {
     "data": {
      "text/html": [
       "<div>\n",
       "<style scoped>\n",
       "    .dataframe tbody tr th:only-of-type {\n",
       "        vertical-align: middle;\n",
       "    }\n",
       "\n",
       "    .dataframe tbody tr th {\n",
       "        vertical-align: top;\n",
       "    }\n",
       "\n",
       "    .dataframe thead th {\n",
       "        text-align: right;\n",
       "    }\n",
       "</style>\n",
       "<table border=\"1\" class=\"dataframe\">\n",
       "  <thead>\n",
       "    <tr style=\"text-align: right;\">\n",
       "      <th></th>\n",
       "      <th>sepal_length</th>\n",
       "      <th>sepal_width</th>\n",
       "      <th>petal_length</th>\n",
       "      <th>petal_width</th>\n",
       "      <th>species</th>\n",
       "    </tr>\n",
       "  </thead>\n",
       "  <tbody>\n",
       "    <tr>\n",
       "      <th>0</th>\n",
       "      <td>5.1</td>\n",
       "      <td>3.5</td>\n",
       "      <td>1.4</td>\n",
       "      <td>0.2</td>\n",
       "      <td>setosa</td>\n",
       "    </tr>\n",
       "    <tr>\n",
       "      <th>1</th>\n",
       "      <td>4.9</td>\n",
       "      <td>3.0</td>\n",
       "      <td>1.4</td>\n",
       "      <td>0.2</td>\n",
       "      <td>setosa</td>\n",
       "    </tr>\n",
       "    <tr>\n",
       "      <th>2</th>\n",
       "      <td>4.7</td>\n",
       "      <td>3.2</td>\n",
       "      <td>1.3</td>\n",
       "      <td>0.2</td>\n",
       "      <td>setosa</td>\n",
       "    </tr>\n",
       "    <tr>\n",
       "      <th>3</th>\n",
       "      <td>4.6</td>\n",
       "      <td>3.1</td>\n",
       "      <td>1.5</td>\n",
       "      <td>0.2</td>\n",
       "      <td>setosa</td>\n",
       "    </tr>\n",
       "    <tr>\n",
       "      <th>4</th>\n",
       "      <td>5.0</td>\n",
       "      <td>3.6</td>\n",
       "      <td>1.4</td>\n",
       "      <td>0.2</td>\n",
       "      <td>setosa</td>\n",
       "    </tr>\n",
       "  </tbody>\n",
       "</table>\n",
       "</div>"
      ],
      "text/plain": [
       "   sepal_length  sepal_width  petal_length  petal_width species\n",
       "0           5.1          3.5           1.4          0.2  setosa\n",
       "1           4.9          3.0           1.4          0.2  setosa\n",
       "2           4.7          3.2           1.3          0.2  setosa\n",
       "3           4.6          3.1           1.5          0.2  setosa\n",
       "4           5.0          3.6           1.4          0.2  setosa"
      ]
     },
     "execution_count": 4,
     "metadata": {},
     "output_type": "execute_result"
    }
   ],
   "source": [
    "df.head()"
   ]
  },
  {
   "cell_type": "markdown",
   "metadata": {},
   "source": [
    "**Encode String Attribute to Integer**"
   ]
  },
  {
   "cell_type": "code",
   "execution_count": 5,
   "metadata": {},
   "outputs": [],
   "source": [
    "enc = LabelEncoder()\n",
    "enc.fit(df['species'])\n",
    "df['species']= enc.transform(df['species'])"
   ]
  },
  {
   "cell_type": "markdown",
   "metadata": {},
   "source": [
    "**Principal Component Analysis for Dimentionality Reduction**"
   ]
  },
  {
   "cell_type": "code",
   "execution_count": 6,
   "metadata": {},
   "outputs": [
    {
     "data": {
      "text/plain": [
       "PCA(copy=True, iterated_power='auto', n_components=3, random_state=None,\n",
       "  svd_solver='auto', tol=0.0, whiten=False)"
      ]
     },
     "execution_count": 6,
     "metadata": {},
     "output_type": "execute_result"
    }
   ],
   "source": [
    "pca = PCA(n_components=3)\n",
    "pca.fit(df)"
   ]
  },
  {
   "cell_type": "code",
   "execution_count": 7,
   "metadata": {},
   "outputs": [],
   "source": [
    "df_3d=pca.transform(df)"
   ]
  },
  {
   "cell_type": "code",
   "execution_count": 8,
   "metadata": {},
   "outputs": [
    {
     "data": {
      "text/plain": [
       "array([[-2.86550669e+00,  3.02780442e-01,  4.84897211e-02],\n",
       "       [-2.89321339e+00, -1.76987146e-01, -1.68798182e-01],\n",
       "       [-3.05574910e+00, -1.68006289e-01,  5.65424149e-02],\n",
       "       [-2.92124902e+00, -3.25027211e-01,  9.80010810e-03],\n",
       "       [-2.90675140e+00,  3.02332724e-01,  1.53720302e-01],\n",
       "       [-2.48899988e+00,  7.39727187e-01,  2.00679240e-01],\n",
       "       [-2.99106535e+00, -1.16739834e-01,  2.50385821e-01],\n",
       "       [-2.81105291e+00,  1.55635814e-01,  1.66268489e-02],\n",
       "       [-3.05248032e+00, -5.89687583e-01, -9.28733240e-03],\n",
       "       [-2.85470148e+00, -1.11633294e-01, -1.64955858e-01],\n",
       "       [-2.70085679e+00,  6.36298840e-01,  2.34535897e-02],\n",
       "       [-2.79784383e+00,  8.04346801e-03,  8.99945580e-02],\n",
       "       [-2.96034027e+00, -2.39025333e-01, -1.67059861e-01],\n",
       "       [-3.36757216e+00, -5.53686579e-01,  9.81963025e-02],\n",
       "       [-2.83079955e+00,  1.14659075e+00,  7.49186344e-02],\n",
       "       [-2.58796715e+00,  1.30810539e+00,  4.03602440e-01],\n",
       "       [-2.80918503e+00,  7.79232365e-01,  2.60196978e-01],\n",
       "       [-2.83179842e+00,  2.95960603e-01,  9.08749712e-02],\n",
       "       [-2.41462623e+00,  8.84710797e-01, -3.51837355e-02],\n",
       "       [-2.77523044e+00,  4.91315230e-01,  2.59316565e-01],\n",
       "       [-2.51728591e+00,  4.11315329e-01, -1.89626308e-01],\n",
       "       [-2.73369607e+00,  4.16085084e-01,  2.40594806e-01],\n",
       "       [-3.36061098e+00,  6.64057983e-02,  3.89732328e-01],\n",
       "       [-2.50859080e+00,  1.15871426e-01,  8.79314884e-03],\n",
       "       [-2.55770496e+00, -2.15854157e-02,  4.53562542e-02],\n",
       "       [-2.69970221e+00, -1.27881710e-01, -2.42680623e-01],\n",
       "       [-2.66359007e+00,  1.32119841e-01,  8.65179146e-02],\n",
       "       [-2.75204180e+00,  3.61762174e-01, -1.05132854e-02],\n",
       "       [-2.82426199e+00,  3.03228161e-01, -5.67408602e-02],\n",
       "       [-2.81561023e+00, -1.97635173e-01,  1.19041110e-02],\n",
       "       [-2.77436552e+00, -1.97187454e-01, -9.33264702e-02],\n",
       "       [-2.60996194e+00,  4.17428239e-01, -7.50969382e-02],\n",
       "       [-2.83270669e+00,  7.79043857e-01,  3.13743521e-01],\n",
       "       [-2.78661499e+00,  1.05708470e+00,  2.99744500e-01],\n",
       "       [-2.85470148e+00, -1.11633294e-01, -1.64955858e-01],\n",
       "       [-3.03553957e+00,  4.84440834e-02, -6.09488661e-02],\n",
       "       [-2.81187856e+00,  5.88088840e-01, -1.13125132e-01],\n",
       "       [-2.85470148e+00, -1.11633294e-01, -1.64955858e-01],\n",
       "       [-3.14035271e+00, -5.11400981e-01,  6.66991116e-02],\n",
       "       [-2.77763430e+00,  2.24493840e-01, -2.74967229e-02],\n",
       "       [-2.94526332e+00,  2.36978872e-01,  1.49877978e-01],\n",
       "       [-3.01844311e+00, -9.28234946e-01, -3.62788276e-01],\n",
       "       [-3.15600491e+00, -3.74580367e-01,  1.88913130e-01],\n",
       "       [-2.60399963e+00,  1.86890470e-01,  2.32395424e-01],\n",
       "       [-2.42133701e+00,  4.44990213e-01,  2.42184077e-01],\n",
       "       [-2.89292372e+00, -2.52665012e-01, -8.22893603e-02],\n",
       "       [-2.72889243e+00,  4.88258775e-01,  2.02051880e-01],\n",
       "       [-3.00912141e+00, -2.46740609e-01,  8.57865521e-02],\n",
       "       [-2.73427540e+00,  5.67440814e-01,  6.75771616e-02],\n",
       "       [-2.88327309e+00,  9.71018016e-02, -2.96007259e-02],\n",
       "       [ 1.19648415e+00,  7.89637419e-01, -4.75875855e-01],\n",
       "       [ 8.69588214e-01,  3.89422013e-01, -1.38990304e-01],\n",
       "       [ 1.36469250e+00,  6.25796657e-01, -4.80232911e-01],\n",
       "       [ 1.71607699e-01, -7.82971834e-01, -3.02214570e-01],\n",
       "       [ 1.01435752e+00,  1.74762515e-01, -4.42421348e-01],\n",
       "       [ 5.99545840e-01, -3.52585719e-01, -1.59323839e-01],\n",
       "       [ 1.02214436e+00,  3.62401866e-01, -2.11333422e-02],\n",
       "       [-6.98178881e-01, -1.03811610e+00,  6.34162750e-04],\n",
       "       [ 9.72533478e-01,  3.25670527e-01, -5.10208411e-01],\n",
       "       [-6.29054696e-03, -7.12848227e-01,  1.31848868e-01],\n",
       "       [-4.73363285e-01, -1.26265190e+00, -3.17676316e-01],\n",
       "       [ 4.78008524e-01, -6.20598472e-02,  4.05183986e-03],\n",
       "       [ 2.45402012e-01, -4.86632494e-01, -7.11095189e-01],\n",
       "       [ 9.19195011e-01, -3.53157362e-02, -2.62084736e-01],\n",
       "       [-1.62115470e-01, -2.64146786e-01,  7.98216534e-02],\n",
       "       [ 8.63915572e-01,  5.44281918e-01, -3.59973845e-01],\n",
       "       [ 6.17891574e-01, -2.98262809e-01,  9.17842516e-02],\n",
       "       [ 2.19480574e-01, -2.92173304e-01, -3.32192433e-01],\n",
       "       [ 8.81012034e-01, -4.32397112e-01, -6.61813255e-01],\n",
       "       [ 4.19112633e-02, -5.53777221e-01, -2.94015188e-01],\n",
       "       [ 1.04375887e+00, -4.95651790e-03,  1.64145001e-01],\n",
       "       [ 3.32988818e-01, -2.77721422e-02, -2.61420954e-01],\n",
       "       [ 1.21113749e+00, -1.97813342e-01, -5.82133537e-01],\n",
       "       [ 8.59604568e-01, -9.00863648e-02, -4.07962246e-01],\n",
       "       [ 6.65557399e-01,  2.17583359e-01, -3.77322964e-01],\n",
       "       [ 8.38323070e-01,  4.07013584e-01, -3.76957282e-01],\n",
       "       [ 1.24099764e+00,  3.68403843e-01, -6.46936183e-01],\n",
       "       [ 1.45314423e+00,  3.96154325e-01, -3.83201712e-01],\n",
       "       [ 7.59392100e-01, -9.12410123e-02, -1.45817045e-01],\n",
       "       [-2.86389663e-01, -3.70183870e-01, -2.59899262e-01],\n",
       "       [-6.37275284e-02, -6.81169259e-01, -2.96119191e-01],\n",
       "       [-1.77482090e-01, -6.64473125e-01, -3.23625007e-01],\n",
       "       [ 1.26804542e-01, -2.86060393e-01, -2.17663063e-01],\n",
       "       [ 1.28903031e+00, -2.94139234e-01, -3.14922422e-01],\n",
       "       [ 5.51054363e-01, -4.35978860e-01,  1.80031395e-01],\n",
       "       [ 7.53969858e-01,  2.43990685e-01,  2.02103252e-01],\n",
       "       [ 1.13776271e+00,  5.07833195e-01, -3.62226899e-01],\n",
       "       [ 7.59141702e-01, -2.71612805e-01, -7.14720883e-01],\n",
       "       [ 2.30289872e-01, -2.45117952e-01,  6.65314898e-02],\n",
       "       [ 1.55955493e-01, -6.46151220e-01, -1.80000551e-01],\n",
       "       [ 4.34606273e-01, -6.10426251e-01, -2.20796530e-01],\n",
       "       [ 8.31322619e-01,  4.29708657e-02, -1.86098292e-01],\n",
       "       [ 2.14676934e-01, -3.64346995e-01, -2.93649507e-01],\n",
       "       [-6.56934172e-01, -1.03766838e+00, -1.04596419e-01],\n",
       "       [ 3.33814470e-01, -4.60225168e-01, -1.31668973e-01],\n",
       "       [ 3.10046493e-01, -1.79316381e-01, -3.48567668e-02],\n",
       "       [ 3.51580870e-01, -2.54546528e-01, -5.35785261e-02],\n",
       "       [ 5.98720188e-01,  7.98673073e-02, -2.89075820e-01],\n",
       "       [-8.45598367e-01, -8.09180699e-01,  6.05175824e-02],\n",
       "       [ 2.79360684e-01, -3.13080540e-01, -9.98061009e-02],\n",
       "       [ 2.72365278e+00, -3.58273178e-02,  6.46602917e-01],\n",
       "       [ 1.68085013e+00, -6.60773604e-01,  3.80182130e-01],\n",
       "       [ 2.79960056e+00,  3.46961619e-01, -4.43682520e-02],\n",
       "       [ 2.19881413e+00, -2.22224494e-01,  1.64995867e-01],\n",
       "       [ 2.55275091e+00, -6.31300809e-02,  2.77637864e-01],\n",
       "       [ 3.52701761e+00,  6.22117687e-01, -3.69142153e-01],\n",
       "       [ 8.48040608e-01, -1.34441901e+00,  6.59586366e-01],\n",
       "       [ 3.09332421e+00,  3.97221704e-01, -3.80395894e-01],\n",
       "       [ 2.52388554e+00, -2.40186208e-01, -2.85685327e-01],\n",
       "       [ 3.08098822e+00,  7.79249543e-01,  4.17932364e-01],\n",
       "       [ 1.90935813e+00,  1.56464274e-01,  4.19237425e-01],\n",
       "       [ 2.04145435e+00, -2.67378038e-01,  8.56818302e-02],\n",
       "       [ 2.37915959e+00,  1.79892720e-01,  1.47520202e-01],\n",
       "       [ 1.61674572e+00, -8.63395790e-01,  3.59356368e-01],\n",
       "       [ 1.84156540e+00, -6.26462494e-01,  6.53215391e-01],\n",
       "       [ 2.13715692e+00,  4.73941414e-02,  5.60757878e-01],\n",
       "       [ 2.17777895e+00, -6.22183980e-03,  1.52735167e-01],\n",
       "       [ 3.61158195e+00,  1.22156204e+00,  1.03096165e-01],\n",
       "       [ 3.89929604e+00,  3.74065921e-01, -6.17561566e-01],\n",
       "       [ 1.57193848e+00, -8.27953437e-01, -1.68261626e-01],\n",
       "       [ 2.62443511e+00,  3.52179093e-01,  2.80622280e-01],\n",
       "       [ 1.47980251e+00, -7.17146599e-01,  6.01680403e-01],\n",
       "       [ 3.62242644e+00,  5.51098643e-01, -5.92744429e-01],\n",
       "       [ 1.65414231e+00, -2.89911046e-01,  1.46937890e-01],\n",
       "       [ 2.48235525e+00,  2.96513027e-01,  3.45205933e-01],\n",
       "       [ 2.79628843e+00,  5.63223483e-01, -1.08312990e-01],\n",
       "       [ 1.53285131e+00, -2.80482470e-01,  2.67047906e-01],\n",
       "       [ 1.56382679e+00, -2.22396176e-01,  4.18506062e-01],\n",
       "       [ 2.34118366e+00, -2.42236293e-01,  1.86921036e-01],\n",
       "       [ 2.58443151e+00,  4.59795137e-01, -2.85538640e-01],\n",
       "       [ 3.00818461e+00,  4.10602172e-01, -4.13482356e-01],\n",
       "       [ 3.37086375e+00,  1.40254665e+00, -2.52831747e-02],\n",
       "       [ 2.37489193e+00, -2.49056132e-01,  2.29306286e-01],\n",
       "       [ 1.70528397e+00, -2.20793810e-01,  5.11302801e-02],\n",
       "       [ 2.02062214e+00, -5.37892110e-01, -9.96190182e-02],\n",
       "       [ 3.22762132e+00,  7.26717507e-01, -2.54098052e-01],\n",
       "       [ 2.36193325e+00,  7.89080071e-02,  7.24842415e-01],\n",
       "       [ 2.13653424e+00, -6.66955837e-03,  2.57965748e-01],\n",
       "       [ 1.45036190e+00, -2.81377907e-01,  4.77509069e-01],\n",
       "       [ 2.32470580e+00,  3.27037348e-01,  1.79383074e-01],\n",
       "       [ 2.51908598e+00,  1.49109189e-01,  3.65027099e-01],\n",
       "       [ 2.15198348e+00,  3.43026553e-01,  3.08791878e-01],\n",
       "       [ 1.68085013e+00, -6.60773604e-01,  3.80182130e-01],\n",
       "       [ 2.75110908e+00,  2.63568478e-01,  2.94986983e-01],\n",
       "       [ 2.61718834e+00,  2.69233670e-01,  5.14746933e-01],\n",
       "       [ 2.17301866e+00,  1.27023899e-01,  3.21052578e-01],\n",
       "       [ 1.78354908e+00, -4.43427795e-01,  5.22296870e-02],\n",
       "       [ 2.00505663e+00,  9.76736521e-03,  2.82143971e-01],\n",
       "       [ 2.13471379e+00,  3.66224097e-02,  7.56339606e-01],\n",
       "       [ 1.65708216e+00, -3.79864817e-01,  4.76994337e-01]])"
      ]
     },
     "execution_count": 8,
     "metadata": {},
     "output_type": "execute_result"
    }
   ],
   "source": [
    "df_3d"
   ]
  },
  {
   "cell_type": "markdown",
   "metadata": {},
   "source": [
    "**Significance level of Dimention after PCA**"
   ]
  },
  {
   "cell_type": "code",
   "execution_count": 9,
   "metadata": {},
   "outputs": [
    {
     "name": "stdout",
     "output_type": "stream",
     "text": [
      "[0.92264045 0.04810411 0.01829962]\n"
     ]
    }
   ],
   "source": [
    "print(pca.explained_variance_ratio_)"
   ]
  },
  {
   "cell_type": "code",
   "execution_count": 10,
   "metadata": {},
   "outputs": [],
   "source": [
    "sample = df_3d.tolist()"
   ]
  },
  {
   "cell_type": "code",
   "execution_count": 11,
   "metadata": {},
   "outputs": [
    {
     "data": {
      "text/plain": [
       "[[-2.865506694179958, 0.30278044218553374, 0.048489721083217086],\n",
       " [-2.893213389873787, -0.1769871462954613, -0.1687981822398551],\n",
       " [-3.055749096836028, -0.16800628887325064, 0.056542414873649915],\n",
       " [-2.921249021305701, -0.325027211241508, 0.009800108102126281],\n",
       " [-2.9067514031274233, 0.30233272361440966, 0.1537203023359443],\n",
       " [-2.488999876224114, 0.7397271868671302, 0.20067923958637474],\n",
       " [-2.9910653468314603, -0.11673983401330118, 0.2503858210508844],\n",
       " [-2.811052907716941, 0.15563581438173663, 0.01662684891974331],\n",
       " [-3.0524803155815983, -0.5896875831557237, -0.009287332400670034],\n",
       " [-2.8547014770343715, -0.1116332941872416, -0.1649558575723123],\n",
       " [-2.7008567941281805, 0.6362988400049816, 0.023453589737360614],\n",
       " [-2.7978438302013893, 0.008043468006814547, 0.08999455800899708],\n",
       " [-2.9603402687059757, -0.2390253328621202, -0.16705986051968497],\n",
       " [-3.3675721647873043, -0.553686578694897, 0.09819630254772632],\n",
       " [-2.830799547741352, 1.1465907493216045, 0.07491863437912921],\n",
       " [-2.587967152889026, 1.3081053903822761, 0.40360244027689535],\n",
       " [-2.809185032493355, 0.7792323651249686, 0.26019697801857616],\n",
       " [-2.831798421123649, 0.29596060284696113, 0.09087497121169935],\n",
       " [-2.4146262287811986, 0.8847107965872893, -0.035183735492138934],\n",
       " [-2.775230441571096, 0.49131523028482144, 0.25931656481587434],\n",
       " [-2.517285906478802, 0.41131532887374217, -0.18962630769096567],\n",
       " [-2.733696065343201, 0.41608508361214236, 0.2405948055402815],\n",
       " [-3.3606109825001833, 0.06640579825132337, 0.389732328162754],\n",
       " [-2.508590801465928, 0.11587142580822365, 0.008793148836362286],\n",
       " [-2.5577049629994577, -0.021585415686564247, 0.04535625418484618],\n",
       " [-2.6997022059632867, -0.12788170951914957, -0.2426806233046077],\n",
       " [-2.663590072537012, 0.13211984114013176, 0.08651791456865737],\n",
       " [-2.7520417993367676, 0.3617621735263057, -0.010513285373485615],\n",
       " [-2.8242619852324924, 0.3032281607566586, -0.05674086016951041],\n",
       " [-2.8156102296340966, -0.19763517256662944, 0.011904111049498844],\n",
       " [-2.7743655206866316, -0.1971874539955053, -0.09332647020322826],\n",
       " [-2.609961938500805, 0.4174282393255161, -0.07509693821790042],\n",
       " [-2.832706691422592, 0.779043856869518, 0.31374352092248275],\n",
       " [-2.7866149932775413, 1.0570846971452053, 0.29974449951713494],\n",
       " [-2.8547014770343715, -0.1116332941872416, -0.1649558575723123],\n",
       " [-3.0355395685757007, 0.048444083406902316, -0.06094886606425576],\n",
       " [-2.81187856014375, 0.5880888403709181, -0.11312513170334104],\n",
       " [-2.8547014770343715, -0.1116332941872416, -0.1649558575723123],\n",
       " [-3.1403527078204947, -0.5114009812571574, 0.06669911161145564],\n",
       " [-2.7776343019410614, 0.22449384028696745, -0.02749672292890859],\n",
       " [-2.945263315966838, 0.23697887150618985, 0.14987797766840155],\n",
       " [-3.018443106787205, -0.9282349460292459, -0.3627882759372404],\n",
       " [-3.1560049141636664, -0.3745803665889439, 0.18891313041960606],\n",
       " [-2.6039996295959806, 0.18689046979709323, 0.2323954242296971],\n",
       " [-2.4213370122455453, 0.4449902126884103, 0.24218407651215518],\n",
       " [-2.8929237225933577, -0.2526650115392654, -0.08228936026272049],\n",
       " [-2.7288924255600944, 0.4882587750589344, 0.20205188007934155],\n",
       " [-3.0091214135445976, -0.24674060934294173, 0.08578655211425196],\n",
       " [-2.7342753999040603, 0.56744081409975, 0.06757716158601296],\n",
       " [-2.8832730936126656, 0.09710180161208946, -0.029600725876281486],\n",
       " [1.1964841536841422, 0.7896374189765293, -0.4758758548378954],\n",
       " [0.8695882139505533, 0.38942201333548954, -0.13899030440140023],\n",
       " [1.3646925022707785, 0.6257966572696998, -0.48023291148093716],\n",
       " [0.17160769906274087, -0.7829718343191079, -0.3022145696169211],\n",
       " [1.0143575214800864, 0.1747625153398339, -0.4424213484744034],\n",
       " [0.5995458400931227, -0.35258571866041016, -0.15932383933410124],\n",
       " [1.0221443561940178, 0.3624018662968726, -0.021133342236291486],\n",
       " [-0.6981788814042221, -1.0381161024494523, 0.0006341627499719532],\n",
       " [0.972533477971762, 0.32567052725631673, -0.5102084111759445],\n",
       " [-0.006290546962242821, -0.7128482274724871, 0.13184886828186843],\n",
       " [-0.4733632848073779, -1.2626518950095673, -0.31767631593108125],\n",
       " [0.47800852421239637, -0.06205984716550078, 0.004051839857860562],\n",
       " [0.24540201194479735, -0.48663249411134085, -0.711095188649703],\n",
       " [0.9191950112159845, -0.03531573617287118, -0.2620847364122525],\n",
       " [-0.16211547046013708, -0.2641467861513985, 0.07982165339107947],\n",
       " [0.8639155723261583, 0.5442819176201082, -0.35997384487186346],\n",
       " [0.6178915740866892, -0.29826280857457343, 0.09178425157966597],\n",
       " [0.21948057360241904, -0.29217330381572937, -0.33219243254007336],\n",
       " [0.8810120341146533, -0.4323971118160396, -0.6618132547448478],\n",
       " [0.04191126331552003, -0.5537772205040586, -0.2940151883063367],\n",
       " [1.043758871442014, -0.004956517899762793, 0.1641450014031557],\n",
       " [0.33298881786008805, -0.027772142217188024, -0.26142095368845747],\n",
       " [1.211137486645017, -0.1978133421663273, -0.5821335368134758],\n",
       " [0.8596045682749526, -0.09008636482983269, -0.40796224607329223],\n",
       " [0.6655573992180721, 0.2175833591392338, -0.3773229636544897],\n",
       " [0.8383230697218645, 0.40701358438077, -0.37695728242728643],\n",
       " [1.240997643886037, 0.3684038432651805, -0.6469361833649425],\n",
       " [1.4531442290705336, 0.3961543248835261, -0.383201711538794],\n",
       " [0.759392100361793, -0.09124101228775545, -0.1458170452190176],\n",
       " [-0.286389663405737, -0.37018386966830935, -0.2598992624471946],\n",
       " [-0.06372752835608396, -0.6811692591789366, -0.29611919125370967],\n",
       " [-0.1774820904797031, -0.6644731252759044, -0.32362500677414163],\n",
       " [0.12680454158041604, -0.28606039336395545, -0.21766306306700817],\n",
       " [1.2890303141651362, -0.2941392336812988, -0.3149224215469875],\n",
       " [0.5510543625349305, -0.43597886038503514, 0.18003139527696974],\n",
       " [0.7539698575601723, 0.24399068504420526, 0.20210325192984055],\n",
       " [1.1377627125843985, 0.5078331945881567, -0.3622268985675322],\n",
       " [0.7591417015390187, -0.27161280533509746, -0.7147208828383388],\n",
       " [0.23028987170482906, -0.24511795163958977, 0.06653148975490297],\n",
       " [0.15595549271956904, -0.6461512196508944, -0.1800005508087707],\n",
       " [0.43460627276091635, -0.6104262512360535, -0.2207965299653792],\n",
       " [0.8313226189770876, 0.042970865725695216, -0.18609829240012687],\n",
       " [0.21467693381931252, -0.3643469952625218, -0.2936495070791338],\n",
       " [-0.6569341724567568, -1.0376683838783283, -0.10459641850275515],\n",
       " [0.33381447028689765, -0.46022516820636933, -0.13166897306537284],\n",
       " [0.31004649349171065, -0.1793163809602453, -0.034856766830282056],\n",
       " [0.3515808697196055, -0.2545465276329247, -0.053578526105874984],\n",
       " [0.5987201876663131, 0.07986730732877137, -0.2890758199571855],\n",
       " [-0.8455983671696715, -0.8091806989500779, 0.06051758240937669],\n",
       " [0.2793606838238805, -0.3130805404025717, -0.09980610090189976],\n",
       " [2.723652784286513, -0.03582731780429349, 0.6466029169547709],\n",
       " [1.6808501344929834, -0.6607736042235166, 0.38018213047514005],\n",
       " [2.7996005587157606, 0.3469616193539855, -0.0443682519525494],\n",
       " [2.198814129309452, -0.2222244935128733, 0.16499586687129592],\n",
       " [2.5527509080494823, -0.06313008085151395, 0.2776378638758955],\n",
       " [3.5270176110663316, 0.6221176869289239, -0.3691421534521621],\n",
       " [0.8480406083367595, -1.344419005974907, 0.6595863656961953],\n",
       " [3.0933242105394205, 0.3972217035882206, -0.38039589387157696],\n",
       " [2.523885543233935, -0.24018620835729443, -0.28568532735571356],\n",
       " [3.0809882158219812, 0.7792495427806474, 0.41793236392107763],\n",
       " [1.909358132122519, 0.15646427444506206, 0.4192374246834338],\n",
       " [2.041454347282881, -0.26737803792104875, 0.08568183016712683],\n",
       " [2.37915958511888, 0.17989271989613076, 0.14752020202560817],\n",
       " [1.6167457190492744, -0.8633957895710741, 0.35935636825217404],\n",
       " [1.841565396602942, -0.6264624935822733, 0.6532153905216262],\n",
       " [2.137156923650187, 0.047394141395194156, 0.5607578777014317],\n",
       " [2.1777789486223154, -0.0062218398038446365, 0.1527351671861174],\n",
       " [3.6115819535931433, 1.2215620376039764, 0.10309616545221878],\n",
       " [3.8992960428431043, 0.3740659211272047, -0.6175615664843015],\n",
       " [1.571938480610126, -0.8279534371648377, -0.1682616261484186],\n",
       " [2.624435108798827, 0.3521790926635112, 0.28062228002596995],\n",
       " [1.4798025146913267, -0.717146598909526, 0.601680402921102],\n",
       " [3.622426439196385, 0.5510986429400552, -0.5927444288454975],\n",
       " [1.6541423121814514, -0.2899110462298693, 0.14693789031949828],\n",
       " [2.4823552479628646, 0.2965130268643006, 0.34520593287038465],\n",
       " [2.7962884280468523, 0.5632234833786889, -0.10831298998654842],\n",
       " [1.5328513141666753, -0.28048247023653405, 0.2670479061802755],\n",
       " [1.5638267911149346, -0.2223961760380118, 0.4185060622290278],\n",
       " [2.3411836574258444, -0.2422362929574664, 0.18692103600401527],\n",
       " [2.5844315101427853, 0.4597951365165398, -0.28553863983556255],\n",
       " [3.008184614408574, 0.41060217194969206, -0.41348235577972153],\n",
       " [3.3708637518303526, 1.4025466517849625, -0.025283174677898923],\n",
       " [2.3748919304821534, -0.24905613229603904, 0.2293062861324976],\n",
       " [1.7052839679755591, -0.22079381000896414, 0.05113028012202575],\n",
       " [2.0206221350472156, -0.5378921099713652, -0.0996190181575542],\n",
       " [3.227621317618276, 0.7267175069793083, -0.2540980520035981],\n",
       " [2.3619332517893765, 0.07890800712622426, 0.7248424146625654],\n",
       " [2.13653423967485, -0.00666955837496877, 0.2579657484388445],\n",
       " [1.4503618962717444, -0.281377907378783, 0.4775090686857301],\n",
       " [2.324705798655864, 0.32703734769992854, 0.17938307418908134],\n",
       " [2.519085984407652, 0.14910918874482915, 0.36502709905573155],\n",
       " [2.1519834775665494, 0.3430265527161621, 0.308791878270197],\n",
       " [1.6808501344929834, -0.6607736042235166, 0.38018213047514005],\n",
       " [2.7511090811575682, 0.2635684776293604, 0.2949869826585216],\n",
       " [2.6171883401881, 0.2692336695100101, 0.5147469333843135],\n",
       " [2.1730186582536875, 0.1270238990071335, 0.3210525779553755],\n",
       " [1.7835490806482421, -0.44342779480111494, 0.05222968703177966],\n",
       " [2.0050566275330017, 0.009767365212388912, 0.28214397126723295],\n",
       " [2.1347137948225674, 0.03662240968848529, 0.7563396055988356],\n",
       " [1.6570821576977965, -0.3798648169773927, 0.47699433671023095]]"
      ]
     },
     "execution_count": 11,
     "metadata": {},
     "output_type": "execute_result"
    }
   ],
   "source": [
    "sample"
   ]
  },
  {
   "cell_type": "markdown",
   "metadata": {},
   "source": [
    "**Elbow Implimentation with kmeans score()**  \n",
    "*i.e Sum of distances of samples to their closest cluster center*"
   ]
  },
  {
   "cell_type": "code",
   "execution_count": 12,
   "metadata": {},
   "outputs": [],
   "source": [
    "kmeans_score=[]\n",
    "slope1=[]\n",
    "sse=[]\n",
    "K = range(1,10)\n",
    "for k in K :\n",
    "    kmeansModel1 = KMeans(n_clusters=k)\n",
    "    labels=kmeansModel1.fit_predict(sample)\n",
    "    centers = kmeansModel1.cluster_centers_\n",
    "    #print(len(centers))\n",
    "    #print(kmeansModel1.labels_)\n",
    "    kmeans_score.append(kmeansModel1.score(sample))\n",
    "    #print(kmeans_score)\n",
    "    #sample_transformed = kmeansModel1.transform(sample)\n",
    "    #print(sample_transformed)\n",
    "    #Calculate slope of each line\n",
    "    if k>1:\n",
    "        s= (kmeans_score[-2]-kmeans_score[-1])\n",
    "        slope1.append([k,s])"
   ]
  },
  {
   "cell_type": "code",
   "execution_count": 13,
   "metadata": {},
   "outputs": [
    {
     "data": {
      "image/png": "[encoded data removed]",
      "text/plain": [
       "<Figure size 432x288 with 1 Axes>"
      ]
     },
     "metadata": {},
     "output_type": "display_data"
    }
   ],
   "source": [
    "plt.plot(K,kmeans_score,'bx-')\n",
    "plt.xlabel('k')\n",
    "plt.ylabel('Distortion')\n",
    "plt.title('The Elbow Method showing the optimal k')\n",
    "plt.show()"
   ]
  },
  {
   "cell_type": "code",
   "execution_count": 18,
   "metadata": {},
   "outputs": [
    {
     "data": {
      "text/plain": [
       "[[2, -601.6255550152939],\n",
       " [3, -90.49619004187277],\n",
       " [4, -20.48547838148584],\n",
       " [5, -16.050208509497516],\n",
       " [6, -7.505814062851989],\n",
       " [7, -7.102162088799091],\n",
       " [8, -3.7874976631235384],\n",
       " [9, -2.3032034948908944]]"
      ]
     },
     "execution_count": 18,
     "metadata": {},
     "output_type": "execute_result"
    }
   ],
   "source": [
    "slope1"
   ]
  },
  {
   "cell_type": "code",
   "execution_count": 20,
   "metadata": {},
   "outputs": [
    {
     "name": "stdout",
     "output_type": "stream",
     "text": [
      "Optimal Number of Clusters = 1\n",
      "Optimal Number of Clusters = 2\n",
      "Optimal Number of Clusters = 3\n",
      "Optimal Number of Clusters = 4\n",
      "Optimal Number of Clusters = 5\n",
      "Optimal Number of Clusters = 6\n",
      "Optimal Number of Clusters = 7\n"
     ]
    }
   ],
   "source": [
    "#chose the value after which there is a reduction in gain(rather loss)\n",
    "for a in range(0,7):\n",
    "    change_slope=(slope1[a])[-1] - (slope1[a+1])[-1]\n",
    "    if change_slope < 0:\n",
    "        print('Optimal Number of Clusters = '+str((slope1[a][0])-1))"
   ]
  },
  {
   "cell_type": "code",
   "execution_count": null,
   "metadata": {},
   "outputs": [],
   "source": []
  }
 ],
 "metadata": {
  "kernelspec": {
   "display_name": "Python 3",
   "language": "python",
   "name": "python3"
  },
  "language_info": {
   "codemirror_mode": {
    "name": "ipython",
    "version": 3
   },
   "file_extension": ".py",
   "mimetype": "text/x-python",
   "name": "python",
   "nbconvert_exporter": "python",
   "pygments_lexer": "ipython3",
   "version": "3.4.3"
  }
 },
 "nbformat": 4,
 "nbformat_minor": 2
}
