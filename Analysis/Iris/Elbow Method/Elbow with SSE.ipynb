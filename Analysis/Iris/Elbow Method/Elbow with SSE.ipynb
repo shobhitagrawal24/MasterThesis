{
 "cells": [
  {
   "cell_type": "code",
   "execution_count": 13,
   "metadata": {},
   "outputs": [],
   "source": [
    "from sklearn.cluster import KMeans\n",
    "from sklearn import metrics\n",
    "from scipy.spatial.distance import cdist\n",
    "import numpy as np\n",
    "import matplotlib.pyplot as plt\n",
    "import pandas as pd\n",
    "from sklearn.preprocessing import LabelEncoder\n",
    "from sklearn.decomposition import PCA\n",
    "from sklearn.preprocessing import StandardScaler\n",
    "from sympy import Point, Line"
   ]
  },
  {
   "cell_type": "code",
   "execution_count": 14,
   "metadata": {},
   "outputs": [],
   "source": [
    "%config IPCompleter.greedy=True"
   ]
  },
  {
   "cell_type": "code",
   "execution_count": 15,
   "metadata": {},
   "outputs": [],
   "source": [
    "df = pd.read_csv('~/MasterThesis/Data/iris.csv')"
   ]
  },
  {
   "cell_type": "code",
   "execution_count": 16,
   "metadata": {},
   "outputs": [
    {
     "data": {
      "text/html": [
       "<div>\n",
       "<style scoped>\n",
       "    .dataframe tbody tr th:only-of-type {\n",
       "        vertical-align: middle;\n",
       "    }\n",
       "\n",
       "    .dataframe tbody tr th {\n",
       "        vertical-align: top;\n",
       "    }\n",
       "\n",
       "    .dataframe thead th {\n",
       "        text-align: right;\n",
       "    }\n",
       "</style>\n",
       "<table border=\"1\" class=\"dataframe\">\n",
       "  <thead>\n",
       "    <tr style=\"text-align: right;\">\n",
       "      <th></th>\n",
       "      <th>sepal_length</th>\n",
       "      <th>sepal_width</th>\n",
       "      <th>petal_length</th>\n",
       "      <th>petal_width</th>\n",
       "      <th>species</th>\n",
       "    </tr>\n",
       "  </thead>\n",
       "  <tbody>\n",
       "    <tr>\n",
       "      <th>0</th>\n",
       "      <td>5.1</td>\n",
       "      <td>3.5</td>\n",
       "      <td>1.4</td>\n",
       "      <td>0.2</td>\n",
       "      <td>setosa</td>\n",
       "    </tr>\n",
       "    <tr>\n",
       "      <th>1</th>\n",
       "      <td>4.9</td>\n",
       "      <td>3.0</td>\n",
       "      <td>1.4</td>\n",
       "      <td>0.2</td>\n",
       "      <td>setosa</td>\n",
       "    </tr>\n",
       "    <tr>\n",
       "      <th>2</th>\n",
       "      <td>4.7</td>\n",
       "      <td>3.2</td>\n",
       "      <td>1.3</td>\n",
       "      <td>0.2</td>\n",
       "      <td>setosa</td>\n",
       "    </tr>\n",
       "    <tr>\n",
       "      <th>3</th>\n",
       "      <td>4.6</td>\n",
       "      <td>3.1</td>\n",
       "      <td>1.5</td>\n",
       "      <td>0.2</td>\n",
       "      <td>setosa</td>\n",
       "    </tr>\n",
       "    <tr>\n",
       "      <th>4</th>\n",
       "      <td>5.0</td>\n",
       "      <td>3.6</td>\n",
       "      <td>1.4</td>\n",
       "      <td>0.2</td>\n",
       "      <td>setosa</td>\n",
       "    </tr>\n",
       "  </tbody>\n",
       "</table>\n",
       "</div>"
      ],
      "text/plain": [
       "   sepal_length  sepal_width  petal_length  petal_width species\n",
       "0           5.1          3.5           1.4          0.2  setosa\n",
       "1           4.9          3.0           1.4          0.2  setosa\n",
       "2           4.7          3.2           1.3          0.2  setosa\n",
       "3           4.6          3.1           1.5          0.2  setosa\n",
       "4           5.0          3.6           1.4          0.2  setosa"
      ]
     },
     "execution_count": 16,
     "metadata": {},
     "output_type": "execute_result"
    }
   ],
   "source": [
    "df.head()"
   ]
  },
  {
   "cell_type": "markdown",
   "metadata": {},
   "source": [
    "**Feature Scaling**"
   ]
  },
  {
   "cell_type": "code",
   "execution_count": 17,
   "metadata": {},
   "outputs": [],
   "source": [
    "scaler = StandardScaler()\n",
    "df = scaler.fit_transform(df.iloc[:,0:4])"
   ]
  },
  {
   "cell_type": "markdown",
   "metadata": {},
   "source": [
    "**Principal Component Analysis for Dimentionality Reduction**"
   ]
  },
  {
   "cell_type": "code",
   "execution_count": 18,
   "metadata": {},
   "outputs": [],
   "source": [
    "#pca = PCA(n_components=3)\n",
    "#pca.fit(df)"
   ]
  },
  {
   "cell_type": "code",
   "execution_count": 19,
   "metadata": {},
   "outputs": [],
   "source": [
    "#df_3d=pca.transform(df)"
   ]
  },
  {
   "cell_type": "code",
   "execution_count": 20,
   "metadata": {},
   "outputs": [],
   "source": [
    "sample = df"
   ]
  },
  {
   "cell_type": "markdown",
   "metadata": {},
   "source": [
    "**Elbow Implimentation with Sum of Squared Error**"
   ]
  },
  {
   "cell_type": "code",
   "execution_count": 21,
   "metadata": {
    "scrolled": true
   },
   "outputs": [
    {
     "name": "stdout",
     "output_type": "stream",
     "text": [
      "cluster mean =1.8646205767971826\n",
      "{1: 78.47851568768138}\n",
      "cluster mean =1.185107207469639\n",
      "cluster mean =0.8225377290581105\n",
      "{1: 78.47851568768138, 2: 49.45568063091115}\n",
      "cluster mean =4.06761660582653\n",
      "cluster mean =4.012525740531493\n",
      "cluster mean =0.8539456592338573\n",
      "{1: 78.47851568768138, 2: 49.45568063091115, 3: 29.01879482611827}\n",
      "cluster mean =3.374986414769855\n",
      "cluster mean =0.9364927930707169\n",
      "cluster mean =3.6068973880825648\n",
      "cluster mean =0.6493721958156973\n",
      "{1: 78.47851568768138, 2: 49.45568063091115, 3: 29.01879482611827, 4: 27.704222125470046}\n",
      "cluster mean =4.432756096738774\n",
      "cluster mean =4.367733833976807\n",
      "cluster mean =1.5370711911519477\n",
      "cluster mean =3.5067931019664975\n",
      "cluster mean =3.412459715794415\n",
      "{1: 78.47851568768138, 2: 49.45568063091115, 3: 29.01879482611827, 4: 27.704222125470046, 5: 25.469975301457435}\n",
      "cluster mean =1.3003149999965946\n",
      "cluster mean =4.865292671461343\n",
      "cluster mean =2.70207742271836\n",
      "cluster mean =3.41009694011272\n",
      "cluster mean =3.3996761052390525\n",
      "cluster mean =3.8886958609203743\n",
      "{1: 78.47851568768138, 2: 49.45568063091115, 3: 29.01879482611827, 4: 27.704222125470046, 5: 25.469975301457435, 6: 24.90639463371649}\n",
      "cluster mean =3.402125213742574\n",
      "cluster mean =1.2173128747674093\n",
      "cluster mean =0.5688153302039017\n",
      "cluster mean =1.2505851898174365\n",
      "cluster mean =4.836758144372688\n",
      "cluster mean =3.4491799684743696\n",
      "cluster mean =1.1341353890678987\n",
      "{1: 78.47851568768138, 2: 49.45568063091115, 3: 29.01879482611827, 4: 27.704222125470046, 5: 25.469975301457435, 6: 24.90639463371649, 7: 22.86634337574303}\n",
      "cluster mean =2.9862439649440393\n",
      "cluster mean =1.6631432575674037\n",
      "cluster mean =2.0506015946946756\n",
      "cluster mean =0.6245344941227029\n",
      "cluster mean =0.6266080917766547\n",
      "cluster mean =4.9184319655738475\n",
      "cluster mean =4.503158296956153\n",
      "cluster mean =4.919232501942114\n",
      "{1: 78.47851568768138, 2: 49.45568063091115, 3: 29.01879482611827, 4: 27.704222125470046, 5: 25.469975301457435, 6: 24.90639463371649, 7: 22.86634337574303, 8: 21.958297869703483}\n",
      "cluster mean =4.956894410449186\n",
      "cluster mean =3.5821726793759727\n",
      "cluster mean =3.321450696865888\n",
      "cluster mean =3.20107538975366\n",
      "cluster mean =2.663460048901241\n",
      "cluster mean =3.8487953679816225\n",
      "cluster mean =5.521056330400364\n",
      "cluster mean =3.7065219904946667\n",
      "cluster mean =3.422097601587415\n",
      "{1: 78.47851568768138, 2: 49.45568063091115, 3: 29.01879482611827, 4: 27.704222125470046, 5: 25.469975301457435, 6: 24.90639463371649, 7: 22.86634337574303, 8: 21.958297869703483, 9: 17.074861430466683}\n"
     ]
    }
   ],
   "source": [
    "SSE={}\n",
    "K = range(1,10)\n",
    "for k in K :\n",
    "    SSE[k]=0\n",
    "    kmeansModel = KMeans(n_clusters=k)\n",
    "    labels= kmeansModel.fit_predict(sample)\n",
    "    centers = kmeansModel.cluster_centers_\n",
    "    sample_transformed = kmeansModel.fit_transform(sample)\n",
    "    #print(labels)\n",
    "    #print(sample_transformed)\n",
    "    for i in range(0,k):\n",
    "        #print('shit')\n",
    "        cluster_datapoints = sample_transformed[labels==i]\n",
    "        #print(cluster_datapoints)\n",
    "        #Mean distance of data points in this cluster from center\n",
    "        cluster_mean = cluster_datapoints[:,i].mean()\n",
    "        print('cluster mean ='+str(cluster_mean))\n",
    "        #Calculate Sum of Squared error by substracting cluster mean \n",
    "        #from distance of each point from respective centers \n",
    "        for datapoint in cluster_datapoints:\n",
    "            SSE[k]+= (datapoint[i]-cluster_mean)**2\n",
    "    print(SSE)"
   ]
  },
  {
   "cell_type": "markdown",
   "metadata": {},
   "source": [
    "**Ploting Elbow**"
   ]
  },
  {
   "cell_type": "code",
   "execution_count": 22,
   "metadata": {},
   "outputs": [
    {
     "name": "stdout",
     "output_type": "stream",
     "text": [
      "[78.47851568768138, 49.45568063091115, 29.01879482611827, 27.704222125470046, 25.469975301457435, 24.90639463371649, 22.86634337574303, 21.958297869703483, 17.074861430466683]\n"
     ]
    },
    {
     "data": {
      "text/plain": [
       "[[2, -29.022835056770234],\n",
       " [3, -20.436885804792876],\n",
       " [4, -1.314572700648224],\n",
       " [5, -2.2342468240126117],\n",
       " [6, -0.5635806677409434],\n",
       " [7, -2.040051257973463],\n",
       " [8, -0.9080455060395458],\n",
       " [9, -4.8834364392367995]]"
      ]
     },
     "execution_count": 22,
     "metadata": {},
     "output_type": "execute_result"
    }
   ],
   "source": [
    "SSE_array=[]\n",
    "slope=[]\n",
    "for key,value in SSE.items():\n",
    "    SSE_array.append(value)\n",
    "print(SSE_array)\n",
    "\n",
    "#Calculate slope of each line\n",
    "for p in range(1,9):\n",
    "    s= (SSE_array[p]-SSE_array[p-1])\n",
    "    slope.append([p+1,s])\n",
    "slope"
   ]
  },
  {
   "cell_type": "code",
   "execution_count": 23,
   "metadata": {},
   "outputs": [
    {
     "data": {
      "image/png": "[encoded data removed]",
      "text/plain": [
       "<Figure size 432x288 with 1 Axes>"
      ]
     },
     "metadata": {},
     "output_type": "display_data"
    }
   ],
   "source": [
    "plt.plot(K,SSE_array,'bx-')\n",
    "plt.xlabel('Number Of Clusters')\n",
    "plt.ylabel('Sum Of Squared Error')\n",
    "plt.title('The Elbow Method showing the optimal k')\n",
    "plt.show()"
   ]
  },
  {
   "cell_type": "code",
   "execution_count": 24,
   "metadata": {},
   "outputs": [
    {
     "data": {
      "text/plain": [
       "[[2, -29.022835056770234],\n",
       " [3, -20.436885804792876],\n",
       " [4, -1.314572700648224],\n",
       " [5, -2.2342468240126117],\n",
       " [6, -0.5635806677409434],\n",
       " [7, -2.040051257973463],\n",
       " [8, -0.9080455060395458],\n",
       " [9, -4.8834364392367995]]"
      ]
     },
     "execution_count": 24,
     "metadata": {},
     "output_type": "execute_result"
    }
   ],
   "source": [
    "slope"
   ]
  },
  {
   "cell_type": "code",
   "execution_count": 25,
   "metadata": {
    "scrolled": true
   },
   "outputs": [
    {
     "name": "stdout",
     "output_type": "stream",
     "text": [
      "Optimal Number of Clusters = 3\n",
      "Optimal Number of Clusters = 5\n",
      "Optimal Number of Clusters = 7\n"
     ]
    }
   ],
   "source": [
    "#chose the value after which there is a reduction in gain(rather loss)\n",
    "for a in range(0,7):\n",
    "    change_slope=(slope[a])[-1] - (slope[a+1])[-1]\n",
    "    if change_slope > 0:\n",
    "        print('Optimal Number of Clusters = '+str((slope[a][0])-1))"
   ]
  },
  {
   "cell_type": "code",
   "execution_count": 26,
   "metadata": {},
   "outputs": [
    {
     "name": "stdout",
     "output_type": "stream",
     "text": [
      "Optimal number 0f clusters = 3\n"
     ]
    }
   ],
   "source": [
    "distances=[]\n",
    "for i in range(0,9):\n",
    "    p1=Point(1,SSE_array[0])\n",
    "    p2=Point(9,SSE_array[8])\n",
    "    l1 = Line(p1,p2)\n",
    "    p=Point(i+1,SSE_array[i])\n",
    "    l2=l1.perpendicular_segment(p)\n",
    "    distances.append(l2.length)\n",
    "index=distances.index(np.max(distances))\n",
    "print('Optimal number 0f clusters = '+str(index+1))"
   ]
  },
  {
   "cell_type": "code",
   "execution_count": null,
   "metadata": {},
   "outputs": [],
   "source": []
  }
 ],
 "metadata": {
  "kernelspec": {
   "display_name": "Python 3",
   "language": "python",
   "name": "python3"
  },
  "language_info": {
   "codemirror_mode": {
    "name": "ipython",
    "version": 3
   },
   "file_extension": ".py",
   "mimetype": "text/x-python",
   "name": "python",
   "nbconvert_exporter": "python",
   "pygments_lexer": "ipython3",
   "version": "3.4.3"
  }
 },
 "nbformat": 4,
 "nbformat_minor": 2
}
