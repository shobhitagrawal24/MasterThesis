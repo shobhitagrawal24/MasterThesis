{
 "cells": [
  {
   "cell_type": "code",
   "execution_count": 1,
   "metadata": {},
   "outputs": [],
   "source": [
    "from sklearn.cluster import KMeans\n",
    "from sklearn import metrics\n",
    "from scipy.spatial.distance import cdist\n",
    "import numpy as np\n",
    "import matplotlib.pyplot as plt\n",
    "import pandas as pd\n",
    "from sklearn.preprocessing import LabelEncoder\n",
    "from sklearn.decomposition import PCA\n",
    "from sklearn.metrics.cluster import homogeneity_score\n",
    "from sympy import Point, Line\n",
    "from sklearn.preprocessing import StandardScaler"
   ]
  },
  {
   "cell_type": "code",
   "execution_count": 2,
   "metadata": {},
   "outputs": [],
   "source": [
    "%config IPCompleter.greedy=True"
   ]
  },
  {
   "cell_type": "code",
   "execution_count": 3,
   "metadata": {},
   "outputs": [],
   "source": [
    "df = pd.read_csv('~/MasterThesis/Data/iris.csv')"
   ]
  },
  {
   "cell_type": "code",
   "execution_count": 4,
   "metadata": {},
   "outputs": [
    {
     "data": {
      "text/html": [
       "<div>\n",
       "<style scoped>\n",
       "    .dataframe tbody tr th:only-of-type {\n",
       "        vertical-align: middle;\n",
       "    }\n",
       "\n",
       "    .dataframe tbody tr th {\n",
       "        vertical-align: top;\n",
       "    }\n",
       "\n",
       "    .dataframe thead th {\n",
       "        text-align: right;\n",
       "    }\n",
       "</style>\n",
       "<table border=\"1\" class=\"dataframe\">\n",
       "  <thead>\n",
       "    <tr style=\"text-align: right;\">\n",
       "      <th></th>\n",
       "      <th>sepal_length</th>\n",
       "      <th>sepal_width</th>\n",
       "      <th>petal_length</th>\n",
       "      <th>petal_width</th>\n",
       "      <th>species</th>\n",
       "    </tr>\n",
       "  </thead>\n",
       "  <tbody>\n",
       "    <tr>\n",
       "      <th>0</th>\n",
       "      <td>5.1</td>\n",
       "      <td>3.5</td>\n",
       "      <td>1.4</td>\n",
       "      <td>0.2</td>\n",
       "      <td>setosa</td>\n",
       "    </tr>\n",
       "    <tr>\n",
       "      <th>1</th>\n",
       "      <td>4.9</td>\n",
       "      <td>3.0</td>\n",
       "      <td>1.4</td>\n",
       "      <td>0.2</td>\n",
       "      <td>setosa</td>\n",
       "    </tr>\n",
       "    <tr>\n",
       "      <th>2</th>\n",
       "      <td>4.7</td>\n",
       "      <td>3.2</td>\n",
       "      <td>1.3</td>\n",
       "      <td>0.2</td>\n",
       "      <td>setosa</td>\n",
       "    </tr>\n",
       "    <tr>\n",
       "      <th>3</th>\n",
       "      <td>4.6</td>\n",
       "      <td>3.1</td>\n",
       "      <td>1.5</td>\n",
       "      <td>0.2</td>\n",
       "      <td>setosa</td>\n",
       "    </tr>\n",
       "    <tr>\n",
       "      <th>4</th>\n",
       "      <td>5.0</td>\n",
       "      <td>3.6</td>\n",
       "      <td>1.4</td>\n",
       "      <td>0.2</td>\n",
       "      <td>setosa</td>\n",
       "    </tr>\n",
       "  </tbody>\n",
       "</table>\n",
       "</div>"
      ],
      "text/plain": [
       "   sepal_length  sepal_width  petal_length  petal_width species\n",
       "0           5.1          3.5           1.4          0.2  setosa\n",
       "1           4.9          3.0           1.4          0.2  setosa\n",
       "2           4.7          3.2           1.3          0.2  setosa\n",
       "3           4.6          3.1           1.5          0.2  setosa\n",
       "4           5.0          3.6           1.4          0.2  setosa"
      ]
     },
     "execution_count": 4,
     "metadata": {},
     "output_type": "execute_result"
    }
   ],
   "source": [
    "df.head()"
   ]
  },
  {
   "cell_type": "markdown",
   "metadata": {},
   "source": [
    "**Encode String Attribute to Integer**"
   ]
  },
  {
   "cell_type": "code",
   "execution_count": 5,
   "metadata": {},
   "outputs": [],
   "source": [
    "enc = LabelEncoder()\n",
    "enc.fit(df['species'])\n",
    "df['species']= enc.transform(df['species'])\n",
    "true_labels=np.array(df[\"species\"])"
   ]
  },
  {
   "cell_type": "markdown",
   "metadata": {},
   "source": [
    "**Feature Scaling**"
   ]
  },
  {
   "cell_type": "code",
   "execution_count": 6,
   "metadata": {},
   "outputs": [],
   "source": [
    "scaler = StandardScaler()\n",
    "sample = scaler.fit_transform(df.iloc[:,0:4])"
   ]
  },
  {
   "cell_type": "markdown",
   "metadata": {},
   "source": [
    "**Elbow Implimentation Using Homogenity Score**"
   ]
  },
  {
   "cell_type": "markdown",
   "metadata": {},
   "source": [
    "*Reference : http://scikit-learn.org/stable/modules/generated/sklearn.metrics.homogeneity_score.html ,  \n",
    "https://www.ncbi.nlm.nih.gov/pmc/articles/PMC1590054/\n",
    "*"
   ]
  },
  {
   "cell_type": "code",
   "execution_count": 13,
   "metadata": {
    "scrolled": true
   },
   "outputs": [
    {
     "name": "stdout",
     "output_type": "stream",
     "text": [
      "Number of clusters =1\n",
      "predicted Labels = \n",
      "[0 0 0 0 0 0 0 0 0 0 0 0 0 0 0 0 0 0 0 0 0 0 0 0 0 0 0 0 0 0 0 0 0 0 0 0 0\n",
      " 0 0 0 0 0 0 0 0 0 0 0 0 0 0 0 0 0 0 0 0 0 0 0 0 0 0 0 0 0 0 0 0 0 0 0 0 0\n",
      " 0 0 0 0 0 0 0 0 0 0 0 0 0 0 0 0 0 0 0 0 0 0 0 0 0 0 0 0 0 0 0 0 0 0 0 0 0\n",
      " 0 0 0 0 0 0 0 0 0 0 0 0 0 0 0 0 0 0 0 0 0 0 0 0 0 0 0 0 0 0 0 0 0 0 0 0 0\n",
      " 0 0]\n",
      "true labels =\n",
      "[0 0 0 0 0 0 0 0 0 0 0 0 0 0 0 0 0 0 0 0 0 0 0 0 0 0 0 0 0 0 0 0 0 0 0 0 0\n",
      " 0 0 0 0 0 0 0 0 0 0 0 0 0 1 1 1 1 1 1 1 1 1 1 1 1 1 1 1 1 1 1 1 1 1 1 1 1\n",
      " 1 1 1 1 1 1 1 1 1 1 1 1 1 1 1 1 1 1 1 1 1 1 1 1 1 1 2 2 2 2 2 2 2 2 2 2 2\n",
      " 2 2 2 2 2 2 2 2 2 2 2 2 2 2 2 2 2 2 2 2 2 2 2 2 2 2 2 2 2 2 2 2 2 2 2 2 2\n",
      " 2 2]\n",
      "score =-4.547558462931499e-16\n",
      "Number of clusters =2\n",
      "predicted Labels = \n",
      "[1 1 1 1 1 1 1 1 1 1 1 1 1 1 1 1 1 1 1 1 1 1 1 1 1 1 1 1 1 1 1 1 1 1 1 1 1\n",
      " 1 1 1 1 1 1 1 1 1 1 1 1 1 0 0 0 0 0 0 0 0 0 0 0 0 0 0 0 0 0 0 0 0 0 0 0 0\n",
      " 0 0 0 0 0 0 0 0 0 0 0 0 0 0 0 0 0 0 0 0 0 0 0 0 0 0 0 0 0 0 0 0 0 0 0 0 0\n",
      " 0 0 0 0 0 0 0 0 0 0 0 0 0 0 0 0 0 0 0 0 0 0 0 0 0 0 0 0 0 0 0 0 0 0 0 0 0\n",
      " 0 0]\n",
      "true labels =\n",
      "[0 0 0 0 0 0 0 0 0 0 0 0 0 0 0 0 0 0 0 0 0 0 0 0 0 0 0 0 0 0 0 0 0 0 0 0 0\n",
      " 0 0 0 0 0 0 0 0 0 0 0 0 0 1 1 1 1 1 1 1 1 1 1 1 1 1 1 1 1 1 1 1 1 1 1 1 1\n",
      " 1 1 1 1 1 1 1 1 1 1 1 1 1 1 1 1 1 1 1 1 1 1 1 1 1 1 2 2 2 2 2 2 2 2 2 2 2\n",
      " 2 2 2 2 2 2 2 2 2 2 2 2 2 2 2 2 2 2 2 2 2 2 2 2 2 2 2 2 2 2 2 2 2 2 2 2 2\n",
      " 2 2]\n",
      "score =0.5793801642856945\n",
      "Number of clusters =3\n",
      "predicted Labels = \n",
      "[1 1 1 1 1 1 1 1 1 1 1 1 1 1 1 1 1 1 1 1 1 1 1 1 1 1 1 1 1 1 1 1 1 1 1 1 1\n",
      " 1 1 1 1 1 1 1 1 1 1 1 1 1 0 0 0 2 2 2 0 2 2 2 2 2 2 2 2 0 2 2 2 2 0 2 2 2\n",
      " 2 0 0 0 2 2 2 2 2 2 2 0 0 2 2 2 2 2 2 2 2 2 2 2 2 2 0 2 0 0 0 0 2 0 0 0 0\n",
      " 0 0 2 2 0 0 0 0 2 0 2 0 2 0 0 2 0 0 0 0 0 0 2 2 0 0 0 2 0 0 0 2 0 0 0 2 0\n",
      " 0 2]\n",
      "true labels =\n",
      "[0 0 0 0 0 0 0 0 0 0 0 0 0 0 0 0 0 0 0 0 0 0 0 0 0 0 0 0 0 0 0 0 0 0 0 0 0\n",
      " 0 0 0 0 0 0 0 0 0 0 0 0 0 1 1 1 1 1 1 1 1 1 1 1 1 1 1 1 1 1 1 1 1 1 1 1 1\n",
      " 1 1 1 1 1 1 1 1 1 1 1 1 1 1 1 1 1 1 1 1 1 1 1 1 1 1 2 2 2 2 2 2 2 2 2 2 2\n",
      " 2 2 2 2 2 2 2 2 2 2 2 2 2 2 2 2 2 2 2 2 2 2 2 2 2 2 2 2 2 2 2 2 2 2 2 2 2\n",
      " 2 2]\n",
      "score =0.6591265018049008\n",
      "Number of clusters =4\n",
      "predicted Labels = \n",
      "[1 2 2 2 1 1 2 2 2 2 1 2 2 2 1 1 1 1 1 1 1 1 1 2 2 2 2 1 2 2 2 1 1 1 2 2 1\n",
      " 2 2 2 1 2 2 1 1 2 1 2 1 2 3 3 3 0 0 0 3 0 0 0 0 0 0 0 0 3 0 0 0 0 3 0 0 0\n",
      " 0 3 3 3 0 0 0 0 0 0 0 3 3 0 0 0 0 0 0 0 0 0 0 0 0 0 3 0 3 3 3 3 0 3 0 3 3\n",
      " 0 3 0 0 3 3 3 3 0 3 0 3 0 3 3 0 0 3 3 3 3 3 0 0 3 3 3 0 3 3 3 0 3 3 3 0 3\n",
      " 3 0]\n",
      "true labels =\n",
      "[0 0 0 0 0 0 0 0 0 0 0 0 0 0 0 0 0 0 0 0 0 0 0 0 0 0 0 0 0 0 0 0 0 0 0 0 0\n",
      " 0 0 0 0 0 0 0 0 0 0 0 0 0 1 1 1 1 1 1 1 1 1 1 1 1 1 1 1 1 1 1 1 1 1 1 1 1\n",
      " 1 1 1 1 1 1 1 1 1 1 1 1 1 1 1 1 1 1 1 1 1 1 1 1 1 1 2 2 2 2 2 2 2 2 2 2 2\n",
      " 2 2 2 2 2 2 2 2 2 2 2 2 2 2 2 2 2 2 2 2 2 2 2 2 2 2 2 2 2 2 2 2 2 2 2 2 2\n",
      " 2 2]\n",
      "score =0.6412509939057984\n",
      "Number of clusters =5\n",
      "predicted Labels = \n",
      "[2 1 1 1 2 2 1 2 1 1 2 1 1 1 2 2 2 2 2 2 2 2 2 1 1 1 2 2 2 1 1 2 2 2 1 1 2\n",
      " 1 1 2 2 1 1 2 2 1 2 1 2 1 3 3 3 0 3 0 3 0 3 0 0 3 0 3 0 3 3 0 0 0 3 3 3 3\n",
      " 3 3 3 3 3 0 0 0 0 3 3 3 3 0 3 0 0 3 0 0 0 3 3 3 0 0 4 3 4 3 4 4 0 4 3 4 4\n",
      " 3 4 0 3 4 3 4 4 0 4 3 4 3 4 4 3 3 3 4 4 4 3 3 3 4 4 3 3 4 4 4 3 4 4 4 3 3\n",
      " 4 3]\n",
      "true labels =\n",
      "[0 0 0 0 0 0 0 0 0 0 0 0 0 0 0 0 0 0 0 0 0 0 0 0 0 0 0 0 0 0 0 0 0 0 0 0 0\n",
      " 0 0 0 0 0 0 0 0 0 0 0 0 0 1 1 1 1 1 1 1 1 1 1 1 1 1 1 1 1 1 1 1 1 1 1 1 1\n",
      " 1 1 1 1 1 1 1 1 1 1 1 1 1 1 1 1 1 1 1 1 1 1 1 1 1 1 2 2 2 2 2 2 2 2 2 2 2\n",
      " 2 2 2 2 2 2 2 2 2 2 2 2 2 2 2 2 2 2 2 2 2 2 2 2 2 2 2 2 2 2 2 2 2 2 2 2 2\n",
      " 2 2]\n",
      "score =0.7465020069391011\n",
      "Number of clusters =6\n",
      "predicted Labels = \n",
      "[3 2 2 2 3 3 2 3 2 2 3 2 2 2 3 3 3 3 3 3 3 3 3 2 2 2 3 3 3 2 2 3 3 3 2 2 3\n",
      " 2 2 3 3 2 2 3 3 2 3 2 3 2 1 1 1 0 1 0 1 0 1 0 0 1 0 1 0 1 1 0 0 0 1 1 1 1\n",
      " 1 1 1 1 1 0 0 0 0 1 1 1 1 0 1 0 0 1 0 0 0 1 1 1 0 0 5 1 4 1 5 4 0 4 1 5 5\n",
      " 1 5 0 1 5 1 4 4 0 5 1 4 1 5 4 1 1 1 4 4 4 1 1 1 4 5 1 1 5 5 5 1 5 5 5 1 1\n",
      " 5 1]\n",
      "true labels =\n",
      "[0 0 0 0 0 0 0 0 0 0 0 0 0 0 0 0 0 0 0 0 0 0 0 0 0 0 0 0 0 0 0 0 0 0 0 0 0\n",
      " 0 0 0 0 0 0 0 0 0 0 0 0 0 1 1 1 1 1 1 1 1 1 1 1 1 1 1 1 1 1 1 1 1 1 1 1 1\n",
      " 1 1 1 1 1 1 1 1 1 1 1 1 1 1 1 1 1 1 1 1 1 1 1 1 1 1 2 2 2 2 2 2 2 2 2 2 2\n",
      " 2 2 2 2 2 2 2 2 2 2 2 2 2 2 2 2 2 2 2 2 2 2 2 2 2 2 2 2 2 2 2 2 2 2 2 2 2\n",
      " 2 2]\n",
      "score =0.7465020069391011\n",
      "Number of clusters =7\n",
      "predicted Labels = \n",
      "[1 6 6 6 1 1 6 1 6 6 1 6 6 6 1 1 1 1 1 1 1 1 1 6 6 6 1 1 1 6 6 1 1 1 6 6 1\n",
      " 6 6 1 1 6 6 1 1 6 1 6 1 6 5 2 5 0 3 2 2 0 2 0 0 2 0 2 2 2 2 0 0 0 2 2 3 2\n",
      " 2 2 3 5 2 0 0 0 0 3 2 2 2 0 2 0 0 2 0 0 0 2 2 2 0 2 5 3 4 3 5 4 0 4 3 5 5\n",
      " 3 5 3 3 5 5 4 4 0 5 3 4 3 5 4 3 2 3 4 4 4 3 3 3 4 5 5 2 5 5 5 3 5 5 5 3 5\n",
      " 5 2]\n",
      "true labels =\n",
      "[0 0 0 0 0 0 0 0 0 0 0 0 0 0 0 0 0 0 0 0 0 0 0 0 0 0 0 0 0 0 0 0 0 0 0 0 0\n",
      " 0 0 0 0 0 0 0 0 0 0 0 0 0 1 1 1 1 1 1 1 1 1 1 1 1 1 1 1 1 1 1 1 1 1 1 1 1\n",
      " 1 1 1 1 1 1 1 1 1 1 1 1 1 1 1 1 1 1 1 1 1 1 1 1 1 1 2 2 2 2 2 2 2 2 2 2 2\n",
      " 2 2 2 2 2 2 2 2 2 2 2 2 2 2 2 2 2 2 2 2 2 2 2 2 2 2 2 2 2 2 2 2 2 2 2 2 2\n",
      " 2 2]\n",
      "score =0.7902567944545102\n",
      "Number of clusters =8\n",
      "predicted Labels = \n",
      "[0 5 5 5 0 6 0 0 5 5 0 0 5 5 6 6 6 0 6 0 0 0 0 0 0 5 0 0 0 5 5 0 6 6 5 5 0\n",
      " 5 5 0 0 5 5 0 0 5 0 5 0 0 7 1 7 3 1 1 7 3 1 3 3 1 3 1 1 1 1 3 3 3 1 1 1 1\n",
      " 1 1 1 7 1 3 3 3 3 1 1 7 7 3 1 3 3 1 3 3 3 1 1 1 3 1 7 1 2 1 7 2 3 2 2 4 7\n",
      " 1 7 1 1 7 7 4 2 3 7 1 2 1 7 2 1 1 7 2 2 4 7 1 1 2 7 7 1 7 7 7 1 7 7 7 1 7\n",
      " 7 1]\n",
      "true labels =\n",
      "[0 0 0 0 0 0 0 0 0 0 0 0 0 0 0 0 0 0 0 0 0 0 0 0 0 0 0 0 0 0 0 0 0 0 0 0 0\n",
      " 0 0 0 0 0 0 0 0 0 0 0 0 0 1 1 1 1 1 1 1 1 1 1 1 1 1 1 1 1 1 1 1 1 1 1 1 1\n",
      " 1 1 1 1 1 1 1 1 1 1 1 1 1 1 1 1 1 1 1 1 1 1 1 1 1 1 2 2 2 2 2 2 2 2 2 2 2\n",
      " 2 2 2 2 2 2 2 2 2 2 2 2 2 2 2 2 2 2 2 2 2 2 2 2 2 2 2 2 2 2 2 2 2 2 2 2 2\n",
      " 2 2]\n",
      "score =0.7141110111286837\n",
      "Number of clusters =9\n",
      "predicted Labels = \n",
      "[2 5 5 5 2 0 2 2 5 5 0 2 5 5 0 0 0 2 0 0 2 2 2 2 2 5 2 2 2 5 5 2 0 0 5 5 2\n",
      " 5 5 2 2 5 5 2 0 5 0 5 0 2 7 7 7 4 7 4 7 4 7 4 4 7 4 7 4 7 7 4 1 4 7 7 1 7\n",
      " 7 7 7 7 7 4 4 4 4 1 7 7 7 1 7 4 4 7 4 4 4 7 7 7 4 4 3 1 6 1 3 6 4 6 1 8 3\n",
      " 1 3 1 1 3 3 8 6 1 3 1 6 1 3 6 1 7 1 6 6 8 1 7 1 6 3 3 7 3 3 3 1 3 3 3 1 3\n",
      " 3 7]\n",
      "true labels =\n",
      "[0 0 0 0 0 0 0 0 0 0 0 0 0 0 0 0 0 0 0 0 0 0 0 0 0 0 0 0 0 0 0 0 0 0 0 0 0\n",
      " 0 0 0 0 0 0 0 0 0 0 0 0 0 1 1 1 1 1 1 1 1 1 1 1 1 1 1 1 1 1 1 1 1 1 1 1 1\n",
      " 1 1 1 1 1 1 1 1 1 1 1 1 1 1 1 1 1 1 1 1 1 1 1 1 1 1 2 2 2 2 2 2 2 2 2 2 2\n",
      " 2 2 2 2 2 2 2 2 2 2 2 2 2 2 2 2 2 2 2 2 2 2 2 2 2 2 2 2 2 2 2 2 2 2 2 2 2\n",
      " 2 2]\n",
      "score =0.8447801215835133\n",
      "Number of clusters =10\n",
      "predicted Labels = \n",
      "[1 5 5 5 1 8 1 1 5 5 8 1 5 5 8 8 8 1 8 8 1 8 1 1 1 5 1 1 1 5 5 1 8 8 5 5 1\n",
      " 5 5 1 1 5 5 1 8 5 8 5 8 1 4 4 4 6 4 3 4 6 4 3 6 3 6 4 3 4 3 3 6 6 4 3 0 3\n",
      " 4 4 4 4 3 6 6 6 3 0 3 4 4 6 3 6 6 4 6 6 3 3 3 4 6 3 2 0 7 0 2 7 6 7 0 9 2\n",
      " 0 2 0 0 2 4 9 7 6 2 0 7 0 2 7 0 4 0 7 7 9 0 4 0 7 2 4 4 2 2 2 0 2 2 2 0 2\n",
      " 2 4]\n",
      "true labels =\n",
      "[0 0 0 0 0 0 0 0 0 0 0 0 0 0 0 0 0 0 0 0 0 0 0 0 0 0 0 0 0 0 0 0 0 0 0 0 0\n",
      " 0 0 0 0 0 0 0 0 0 0 0 0 0 1 1 1 1 1 1 1 1 1 1 1 1 1 1 1 1 1 1 1 1 1 1 1 1\n",
      " 1 1 1 1 1 1 1 1 1 1 1 1 1 1 1 1 1 1 1 1 1 1 1 1 1 1 2 2 2 2 2 2 2 2 2 2 2\n",
      " 2 2 2 2 2 2 2 2 2 2 2 2 2 2 2 2 2 2 2 2 2 2 2 2 2 2 2 2 2 2 2 2 2 2 2 2 2\n",
      " 2 2]\n",
      "score =0.845944527077095\n"
     ]
    }
   ],
   "source": [
    "homogenity={}\n",
    "K = range(1,11)\n",
    "for k in K :\n",
    "    homogenity[k]=0\n",
    "    kmeansModel = KMeans(n_clusters=k)\n",
    "    labels= kmeansModel.fit_predict(sample)\n",
    "    centers = kmeansModel.cluster_centers_\n",
    "    sample_transformed = kmeansModel.fit_transform(sample)\n",
    "    print('Number of clusters ='+str(k))\n",
    "    print('predicted Labels = ')\n",
    "    print(labels)\n",
    "    print('true labels =')\n",
    "    print(true_labels)\n",
    "    #print(sample_transformed)\n",
    "    homogenity[k]= homogeneity_score(true_labels,labels)\n",
    "    print(\"score =\"+str(homogenity[k]))"
   ]
  },
  {
   "cell_type": "markdown",
   "metadata": {},
   "source": [
    "**Ploting Elbow**"
   ]
  },
  {
   "cell_type": "code",
   "execution_count": 14,
   "metadata": {},
   "outputs": [
    {
     "name": "stdout",
     "output_type": "stream",
     "text": [
      "[-4.547558462931499e-16, 0.5793801642856945, 0.6591265018049008, 0.6412509939057984, 0.7465020069391011, 0.7465020069391011, 0.7902567944545102, 0.7141110111286837, 0.8447801215835133, 0.845944527077095]\n"
     ]
    }
   ],
   "source": [
    "homo_array=[]\n",
    "slope=[]\n",
    "for key,value in homogenity.items():\n",
    "    homo_array.append(value)\n",
    "print(homo_array)\n",
    "\n",
    "#Calculate slope of each line\n",
    "for p in range(1,10):\n",
    "    s= (homo_array[p]-homo_array[p-1])\n",
    "    slope.append([p+1,s])\n",
    "#slope"
   ]
  },
  {
   "cell_type": "code",
   "execution_count": 15,
   "metadata": {
    "scrolled": true
   },
   "outputs": [
    {
     "data": {
      "image/png": "[encoded data removed]",
      "text/plain": [
       "<Figure size 432x288 with 1 Axes>"
      ]
     },
     "metadata": {},
     "output_type": "display_data"
    }
   ],
   "source": [
    "plt.plot(K,homo_array,'bx-')\n",
    "plt.xlabel('number of clusters (k)')\n",
    "plt.ylabel('Homogeneity index')\n",
    "plt.title('The Elbow Method showing the optimal k')\n",
    "plt.show()"
   ]
  },
  {
   "cell_type": "code",
   "execution_count": 16,
   "metadata": {},
   "outputs": [
    {
     "data": {
      "text/plain": [
       "[[2, 0.5793801642856949],\n",
       " [3, 0.07974633751920635],\n",
       " [4, -0.017875507899102416],\n",
       " [5, 0.10525101303330264],\n",
       " [6, 0.0],\n",
       " [7, 0.04375478751540918],\n",
       " [8, -0.07614578332582655],\n",
       " [9, 0.13066911045482965],\n",
       " [10, 0.001164405493581655]]"
      ]
     },
     "execution_count": 16,
     "metadata": {},
     "output_type": "execute_result"
    }
   ],
   "source": [
    "slope"
   ]
  },
  {
   "cell_type": "code",
   "execution_count": 17,
   "metadata": {
    "scrolled": true
   },
   "outputs": [
    {
     "name": "stdout",
     "output_type": "stream",
     "text": [
      "Optimal Number of Clusters = 3\n",
      "Optimal Number of Clusters = 5\n",
      "Optimal Number of Clusters = 7\n"
     ]
    }
   ],
   "source": [
    "#chose the value after which there is a reduction in gain(rather loss)\n",
    "for a in range(0,8):\n",
    "    change_slope=(slope[a])[-1] - (slope[a+1])[-1]\n",
    "    if change_slope < 0:\n",
    "        print('Optimal Number of Clusters = '+str((slope[a][0])-1))"
   ]
  },
  {
   "cell_type": "code",
   "execution_count": 18,
   "metadata": {},
   "outputs": [
    {
     "name": "stdout",
     "output_type": "stream",
     "text": [
      "Optimal number 0f clusters = 2\n"
     ]
    }
   ],
   "source": [
    "distances=[]\n",
    "for i in range(0,10):\n",
    "    p1=Point(1,homo_array[0])\n",
    "    p2=Point(10,homo_array[9])\n",
    "    l1 = Line(p1,p2)\n",
    "    p=Point(i+1,homo_array[i])\n",
    "    l2=l1.perpendicular_segment(p)\n",
    "    distances.append(l2.length)\n",
    "index=distances.index(np.max(distances))\n",
    "print('Optimal number 0f clusters = '+str(index+1))"
   ]
  },
  {
   "cell_type": "code",
   "execution_count": null,
   "metadata": {},
   "outputs": [],
   "source": []
  }
 ],
 "metadata": {
  "kernelspec": {
   "display_name": "Python 3",
   "language": "python",
   "name": "python3"
  },
  "language_info": {
   "codemirror_mode": {
    "name": "ipython",
    "version": 3
   },
   "file_extension": ".py",
   "mimetype": "text/x-python",
   "name": "python",
   "nbconvert_exporter": "python",
   "pygments_lexer": "ipython3",
   "version": "3.4.3"
  }
 },
 "nbformat": 4,
 "nbformat_minor": 2
}
