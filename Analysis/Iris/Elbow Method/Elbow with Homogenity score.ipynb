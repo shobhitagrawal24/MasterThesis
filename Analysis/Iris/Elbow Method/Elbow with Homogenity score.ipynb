{
 "cells": [
  {
   "cell_type": "code",
   "execution_count": 1,
   "metadata": {},
   "outputs": [],
   "source": [
    "from sklearn.cluster import KMeans\n",
    "from sklearn import metrics\n",
    "from scipy.spatial.distance import cdist\n",
    "import numpy as np\n",
    "import matplotlib.pyplot as plt\n",
    "import pandas as pd\n",
    "from sklearn.preprocessing import LabelEncoder\n",
    "from sklearn.decomposition import PCA\n",
    "from sklearn.metrics.cluster import homogeneity_score"
   ]
  },
  {
   "cell_type": "code",
   "execution_count": 2,
   "metadata": {},
   "outputs": [],
   "source": [
    "%config IPCompleter.greedy=True"
   ]
  },
  {
   "cell_type": "code",
   "execution_count": 3,
   "metadata": {},
   "outputs": [],
   "source": [
    "df = pd.read_csv('~/MasterThesis/Data/iris.csv')"
   ]
  },
  {
   "cell_type": "code",
   "execution_count": 4,
   "metadata": {},
   "outputs": [
    {
     "data": {
      "text/html": [
       "<div>\n",
       "<style scoped>\n",
       "    .dataframe tbody tr th:only-of-type {\n",
       "        vertical-align: middle;\n",
       "    }\n",
       "\n",
       "    .dataframe tbody tr th {\n",
       "        vertical-align: top;\n",
       "    }\n",
       "\n",
       "    .dataframe thead th {\n",
       "        text-align: right;\n",
       "    }\n",
       "</style>\n",
       "<table border=\"1\" class=\"dataframe\">\n",
       "  <thead>\n",
       "    <tr style=\"text-align: right;\">\n",
       "      <th></th>\n",
       "      <th>sepal_length</th>\n",
       "      <th>sepal_width</th>\n",
       "      <th>petal_length</th>\n",
       "      <th>petal_width</th>\n",
       "      <th>species</th>\n",
       "    </tr>\n",
       "  </thead>\n",
       "  <tbody>\n",
       "    <tr>\n",
       "      <th>0</th>\n",
       "      <td>5.1</td>\n",
       "      <td>3.5</td>\n",
       "      <td>1.4</td>\n",
       "      <td>0.2</td>\n",
       "      <td>setosa</td>\n",
       "    </tr>\n",
       "    <tr>\n",
       "      <th>1</th>\n",
       "      <td>4.9</td>\n",
       "      <td>3.0</td>\n",
       "      <td>1.4</td>\n",
       "      <td>0.2</td>\n",
       "      <td>setosa</td>\n",
       "    </tr>\n",
       "    <tr>\n",
       "      <th>2</th>\n",
       "      <td>4.7</td>\n",
       "      <td>3.2</td>\n",
       "      <td>1.3</td>\n",
       "      <td>0.2</td>\n",
       "      <td>setosa</td>\n",
       "    </tr>\n",
       "    <tr>\n",
       "      <th>3</th>\n",
       "      <td>4.6</td>\n",
       "      <td>3.1</td>\n",
       "      <td>1.5</td>\n",
       "      <td>0.2</td>\n",
       "      <td>setosa</td>\n",
       "    </tr>\n",
       "    <tr>\n",
       "      <th>4</th>\n",
       "      <td>5.0</td>\n",
       "      <td>3.6</td>\n",
       "      <td>1.4</td>\n",
       "      <td>0.2</td>\n",
       "      <td>setosa</td>\n",
       "    </tr>\n",
       "  </tbody>\n",
       "</table>\n",
       "</div>"
      ],
      "text/plain": [
       "   sepal_length  sepal_width  petal_length  petal_width species\n",
       "0           5.1          3.5           1.4          0.2  setosa\n",
       "1           4.9          3.0           1.4          0.2  setosa\n",
       "2           4.7          3.2           1.3          0.2  setosa\n",
       "3           4.6          3.1           1.5          0.2  setosa\n",
       "4           5.0          3.6           1.4          0.2  setosa"
      ]
     },
     "execution_count": 4,
     "metadata": {},
     "output_type": "execute_result"
    }
   ],
   "source": [
    "df.head()"
   ]
  },
  {
   "cell_type": "markdown",
   "metadata": {},
   "source": [
    "**Encode String Attribute to Integer**"
   ]
  },
  {
   "cell_type": "code",
   "execution_count": 5,
   "metadata": {},
   "outputs": [],
   "source": [
    "enc = LabelEncoder()\n",
    "enc.fit(df['species'])\n",
    "df['species']= enc.transform(df['species'])\n",
    "#print(np.array(df[\"species\"]))"
   ]
  },
  {
   "cell_type": "markdown",
   "metadata": {},
   "source": [
    "**Principal Component Analysis for Dimentionality Reduction**"
   ]
  },
  {
   "cell_type": "code",
   "execution_count": 6,
   "metadata": {},
   "outputs": [
    {
     "data": {
      "text/plain": [
       "PCA(copy=True, iterated_power='auto', n_components=3, random_state=None,\n",
       "  svd_solver='auto', tol=0.0, whiten=False)"
      ]
     },
     "execution_count": 6,
     "metadata": {},
     "output_type": "execute_result"
    }
   ],
   "source": [
    "pca = PCA(n_components=3)\n",
    "pca.fit(df)"
   ]
  },
  {
   "cell_type": "code",
   "execution_count": 7,
   "metadata": {},
   "outputs": [],
   "source": [
    "df_3d=pca.transform(df)"
   ]
  },
  {
   "cell_type": "code",
   "execution_count": 8,
   "metadata": {},
   "outputs": [
    {
     "data": {
      "text/plain": [
       "array([[-2.86550669e+00,  3.02780442e-01,  4.84897211e-02],\n",
       "       [-2.89321339e+00, -1.76987146e-01, -1.68798182e-01],\n",
       "       [-3.05574910e+00, -1.68006289e-01,  5.65424149e-02],\n",
       "       [-2.92124902e+00, -3.25027211e-01,  9.80010810e-03],\n",
       "       [-2.90675140e+00,  3.02332724e-01,  1.53720302e-01],\n",
       "       [-2.48899988e+00,  7.39727187e-01,  2.00679240e-01],\n",
       "       [-2.99106535e+00, -1.16739834e-01,  2.50385821e-01],\n",
       "       [-2.81105291e+00,  1.55635814e-01,  1.66268489e-02],\n",
       "       [-3.05248032e+00, -5.89687583e-01, -9.28733240e-03],\n",
       "       [-2.85470148e+00, -1.11633294e-01, -1.64955858e-01],\n",
       "       [-2.70085679e+00,  6.36298840e-01,  2.34535897e-02],\n",
       "       [-2.79784383e+00,  8.04346801e-03,  8.99945580e-02],\n",
       "       [-2.96034027e+00, -2.39025333e-01, -1.67059861e-01],\n",
       "       [-3.36757216e+00, -5.53686579e-01,  9.81963025e-02],\n",
       "       [-2.83079955e+00,  1.14659075e+00,  7.49186344e-02],\n",
       "       [-2.58796715e+00,  1.30810539e+00,  4.03602440e-01],\n",
       "       [-2.80918503e+00,  7.79232365e-01,  2.60196978e-01],\n",
       "       [-2.83179842e+00,  2.95960603e-01,  9.08749712e-02],\n",
       "       [-2.41462623e+00,  8.84710797e-01, -3.51837355e-02],\n",
       "       [-2.77523044e+00,  4.91315230e-01,  2.59316565e-01],\n",
       "       [-2.51728591e+00,  4.11315329e-01, -1.89626308e-01],\n",
       "       [-2.73369607e+00,  4.16085084e-01,  2.40594806e-01],\n",
       "       [-3.36061098e+00,  6.64057983e-02,  3.89732328e-01],\n",
       "       [-2.50859080e+00,  1.15871426e-01,  8.79314884e-03],\n",
       "       [-2.55770496e+00, -2.15854157e-02,  4.53562542e-02],\n",
       "       [-2.69970221e+00, -1.27881710e-01, -2.42680623e-01],\n",
       "       [-2.66359007e+00,  1.32119841e-01,  8.65179146e-02],\n",
       "       [-2.75204180e+00,  3.61762174e-01, -1.05132854e-02],\n",
       "       [-2.82426199e+00,  3.03228161e-01, -5.67408602e-02],\n",
       "       [-2.81561023e+00, -1.97635173e-01,  1.19041110e-02],\n",
       "       [-2.77436552e+00, -1.97187454e-01, -9.33264702e-02],\n",
       "       [-2.60996194e+00,  4.17428239e-01, -7.50969382e-02],\n",
       "       [-2.83270669e+00,  7.79043857e-01,  3.13743521e-01],\n",
       "       [-2.78661499e+00,  1.05708470e+00,  2.99744500e-01],\n",
       "       [-2.85470148e+00, -1.11633294e-01, -1.64955858e-01],\n",
       "       [-3.03553957e+00,  4.84440834e-02, -6.09488661e-02],\n",
       "       [-2.81187856e+00,  5.88088840e-01, -1.13125132e-01],\n",
       "       [-2.85470148e+00, -1.11633294e-01, -1.64955858e-01],\n",
       "       [-3.14035271e+00, -5.11400981e-01,  6.66991116e-02],\n",
       "       [-2.77763430e+00,  2.24493840e-01, -2.74967229e-02],\n",
       "       [-2.94526332e+00,  2.36978872e-01,  1.49877978e-01],\n",
       "       [-3.01844311e+00, -9.28234946e-01, -3.62788276e-01],\n",
       "       [-3.15600491e+00, -3.74580367e-01,  1.88913130e-01],\n",
       "       [-2.60399963e+00,  1.86890470e-01,  2.32395424e-01],\n",
       "       [-2.42133701e+00,  4.44990213e-01,  2.42184077e-01],\n",
       "       [-2.89292372e+00, -2.52665012e-01, -8.22893603e-02],\n",
       "       [-2.72889243e+00,  4.88258775e-01,  2.02051880e-01],\n",
       "       [-3.00912141e+00, -2.46740609e-01,  8.57865521e-02],\n",
       "       [-2.73427540e+00,  5.67440814e-01,  6.75771616e-02],\n",
       "       [-2.88327309e+00,  9.71018016e-02, -2.96007259e-02],\n",
       "       [ 1.19648415e+00,  7.89637419e-01, -4.75875855e-01],\n",
       "       [ 8.69588214e-01,  3.89422013e-01, -1.38990304e-01],\n",
       "       [ 1.36469250e+00,  6.25796657e-01, -4.80232911e-01],\n",
       "       [ 1.71607699e-01, -7.82971834e-01, -3.02214570e-01],\n",
       "       [ 1.01435752e+00,  1.74762515e-01, -4.42421348e-01],\n",
       "       [ 5.99545840e-01, -3.52585719e-01, -1.59323839e-01],\n",
       "       [ 1.02214436e+00,  3.62401866e-01, -2.11333422e-02],\n",
       "       [-6.98178881e-01, -1.03811610e+00,  6.34162750e-04],\n",
       "       [ 9.72533478e-01,  3.25670527e-01, -5.10208411e-01],\n",
       "       [-6.29054696e-03, -7.12848227e-01,  1.31848868e-01],\n",
       "       [-4.73363285e-01, -1.26265190e+00, -3.17676316e-01],\n",
       "       [ 4.78008524e-01, -6.20598472e-02,  4.05183986e-03],\n",
       "       [ 2.45402012e-01, -4.86632494e-01, -7.11095189e-01],\n",
       "       [ 9.19195011e-01, -3.53157362e-02, -2.62084736e-01],\n",
       "       [-1.62115470e-01, -2.64146786e-01,  7.98216534e-02],\n",
       "       [ 8.63915572e-01,  5.44281918e-01, -3.59973845e-01],\n",
       "       [ 6.17891574e-01, -2.98262809e-01,  9.17842516e-02],\n",
       "       [ 2.19480574e-01, -2.92173304e-01, -3.32192433e-01],\n",
       "       [ 8.81012034e-01, -4.32397112e-01, -6.61813255e-01],\n",
       "       [ 4.19112633e-02, -5.53777221e-01, -2.94015188e-01],\n",
       "       [ 1.04375887e+00, -4.95651790e-03,  1.64145001e-01],\n",
       "       [ 3.32988818e-01, -2.77721422e-02, -2.61420954e-01],\n",
       "       [ 1.21113749e+00, -1.97813342e-01, -5.82133537e-01],\n",
       "       [ 8.59604568e-01, -9.00863648e-02, -4.07962246e-01],\n",
       "       [ 6.65557399e-01,  2.17583359e-01, -3.77322964e-01],\n",
       "       [ 8.38323070e-01,  4.07013584e-01, -3.76957282e-01],\n",
       "       [ 1.24099764e+00,  3.68403843e-01, -6.46936183e-01],\n",
       "       [ 1.45314423e+00,  3.96154325e-01, -3.83201712e-01],\n",
       "       [ 7.59392100e-01, -9.12410123e-02, -1.45817045e-01],\n",
       "       [-2.86389663e-01, -3.70183870e-01, -2.59899262e-01],\n",
       "       [-6.37275284e-02, -6.81169259e-01, -2.96119191e-01],\n",
       "       [-1.77482090e-01, -6.64473125e-01, -3.23625007e-01],\n",
       "       [ 1.26804542e-01, -2.86060393e-01, -2.17663063e-01],\n",
       "       [ 1.28903031e+00, -2.94139234e-01, -3.14922422e-01],\n",
       "       [ 5.51054363e-01, -4.35978860e-01,  1.80031395e-01],\n",
       "       [ 7.53969858e-01,  2.43990685e-01,  2.02103252e-01],\n",
       "       [ 1.13776271e+00,  5.07833195e-01, -3.62226899e-01],\n",
       "       [ 7.59141702e-01, -2.71612805e-01, -7.14720883e-01],\n",
       "       [ 2.30289872e-01, -2.45117952e-01,  6.65314898e-02],\n",
       "       [ 1.55955493e-01, -6.46151220e-01, -1.80000551e-01],\n",
       "       [ 4.34606273e-01, -6.10426251e-01, -2.20796530e-01],\n",
       "       [ 8.31322619e-01,  4.29708657e-02, -1.86098292e-01],\n",
       "       [ 2.14676934e-01, -3.64346995e-01, -2.93649507e-01],\n",
       "       [-6.56934172e-01, -1.03766838e+00, -1.04596419e-01],\n",
       "       [ 3.33814470e-01, -4.60225168e-01, -1.31668973e-01],\n",
       "       [ 3.10046493e-01, -1.79316381e-01, -3.48567668e-02],\n",
       "       [ 3.51580870e-01, -2.54546528e-01, -5.35785261e-02],\n",
       "       [ 5.98720188e-01,  7.98673073e-02, -2.89075820e-01],\n",
       "       [-8.45598367e-01, -8.09180699e-01,  6.05175824e-02],\n",
       "       [ 2.79360684e-01, -3.13080540e-01, -9.98061009e-02],\n",
       "       [ 2.72365278e+00, -3.58273178e-02,  6.46602917e-01],\n",
       "       [ 1.68085013e+00, -6.60773604e-01,  3.80182130e-01],\n",
       "       [ 2.79960056e+00,  3.46961619e-01, -4.43682520e-02],\n",
       "       [ 2.19881413e+00, -2.22224494e-01,  1.64995867e-01],\n",
       "       [ 2.55275091e+00, -6.31300809e-02,  2.77637864e-01],\n",
       "       [ 3.52701761e+00,  6.22117687e-01, -3.69142153e-01],\n",
       "       [ 8.48040608e-01, -1.34441901e+00,  6.59586366e-01],\n",
       "       [ 3.09332421e+00,  3.97221704e-01, -3.80395894e-01],\n",
       "       [ 2.52388554e+00, -2.40186208e-01, -2.85685327e-01],\n",
       "       [ 3.08098822e+00,  7.79249543e-01,  4.17932364e-01],\n",
       "       [ 1.90935813e+00,  1.56464274e-01,  4.19237425e-01],\n",
       "       [ 2.04145435e+00, -2.67378038e-01,  8.56818302e-02],\n",
       "       [ 2.37915959e+00,  1.79892720e-01,  1.47520202e-01],\n",
       "       [ 1.61674572e+00, -8.63395790e-01,  3.59356368e-01],\n",
       "       [ 1.84156540e+00, -6.26462494e-01,  6.53215391e-01],\n",
       "       [ 2.13715692e+00,  4.73941414e-02,  5.60757878e-01],\n",
       "       [ 2.17777895e+00, -6.22183980e-03,  1.52735167e-01],\n",
       "       [ 3.61158195e+00,  1.22156204e+00,  1.03096165e-01],\n",
       "       [ 3.89929604e+00,  3.74065921e-01, -6.17561566e-01],\n",
       "       [ 1.57193848e+00, -8.27953437e-01, -1.68261626e-01],\n",
       "       [ 2.62443511e+00,  3.52179093e-01,  2.80622280e-01],\n",
       "       [ 1.47980251e+00, -7.17146599e-01,  6.01680403e-01],\n",
       "       [ 3.62242644e+00,  5.51098643e-01, -5.92744429e-01],\n",
       "       [ 1.65414231e+00, -2.89911046e-01,  1.46937890e-01],\n",
       "       [ 2.48235525e+00,  2.96513027e-01,  3.45205933e-01],\n",
       "       [ 2.79628843e+00,  5.63223483e-01, -1.08312990e-01],\n",
       "       [ 1.53285131e+00, -2.80482470e-01,  2.67047906e-01],\n",
       "       [ 1.56382679e+00, -2.22396176e-01,  4.18506062e-01],\n",
       "       [ 2.34118366e+00, -2.42236293e-01,  1.86921036e-01],\n",
       "       [ 2.58443151e+00,  4.59795137e-01, -2.85538640e-01],\n",
       "       [ 3.00818461e+00,  4.10602172e-01, -4.13482356e-01],\n",
       "       [ 3.37086375e+00,  1.40254665e+00, -2.52831747e-02],\n",
       "       [ 2.37489193e+00, -2.49056132e-01,  2.29306286e-01],\n",
       "       [ 1.70528397e+00, -2.20793810e-01,  5.11302801e-02],\n",
       "       [ 2.02062214e+00, -5.37892110e-01, -9.96190182e-02],\n",
       "       [ 3.22762132e+00,  7.26717507e-01, -2.54098052e-01],\n",
       "       [ 2.36193325e+00,  7.89080071e-02,  7.24842415e-01],\n",
       "       [ 2.13653424e+00, -6.66955837e-03,  2.57965748e-01],\n",
       "       [ 1.45036190e+00, -2.81377907e-01,  4.77509069e-01],\n",
       "       [ 2.32470580e+00,  3.27037348e-01,  1.79383074e-01],\n",
       "       [ 2.51908598e+00,  1.49109189e-01,  3.65027099e-01],\n",
       "       [ 2.15198348e+00,  3.43026553e-01,  3.08791878e-01],\n",
       "       [ 1.68085013e+00, -6.60773604e-01,  3.80182130e-01],\n",
       "       [ 2.75110908e+00,  2.63568478e-01,  2.94986983e-01],\n",
       "       [ 2.61718834e+00,  2.69233670e-01,  5.14746933e-01],\n",
       "       [ 2.17301866e+00,  1.27023899e-01,  3.21052578e-01],\n",
       "       [ 1.78354908e+00, -4.43427795e-01,  5.22296870e-02],\n",
       "       [ 2.00505663e+00,  9.76736521e-03,  2.82143971e-01],\n",
       "       [ 2.13471379e+00,  3.66224097e-02,  7.56339606e-01],\n",
       "       [ 1.65708216e+00, -3.79864817e-01,  4.76994337e-01]])"
      ]
     },
     "execution_count": 8,
     "metadata": {},
     "output_type": "execute_result"
    }
   ],
   "source": [
    "df_3d"
   ]
  },
  {
   "cell_type": "code",
   "execution_count": 9,
   "metadata": {},
   "outputs": [],
   "source": [
    "sample = df_3d"
   ]
  },
  {
   "cell_type": "markdown",
   "metadata": {},
   "source": [
    "**Elbow Implimentation Using Homogenity Score**"
   ]
  },
  {
   "cell_type": "markdown",
   "metadata": {},
   "source": [
    "*Reference : http://scikit-learn.org/stable/modules/generated/sklearn.metrics.homogeneity_score.html ,  \n",
    "https://www.ncbi.nlm.nih.gov/pmc/articles/PMC1590054/\n",
    "*"
   ]
  },
  {
   "cell_type": "code",
   "execution_count": 10,
   "metadata": {
    "scrolled": true
   },
   "outputs": [
    {
     "name": "stdout",
     "output_type": "stream",
     "text": [
      "[0 0 0 0 0 0 0 0 0 0 0 0 0 0 0 0 0 0 0 0 0 0 0 0 0 0 0 0 0 0 0 0 0 0 0 0 0\n",
      " 0 0 0 0 0 0 0 0 0 0 0 0 0 0 0 0 0 0 0 0 0 0 0 0 0 0 0 0 0 0 0 0 0 0 0 0 0\n",
      " 0 0 0 0 0 0 0 0 0 0 0 0 0 0 0 0 0 0 0 0 0 0 0 0 0 0 0 0 0 0 0 0 0 0 0 0 0\n",
      " 0 0 0 0 0 0 0 0 0 0 0 0 0 0 0 0 0 0 0 0 0 0 0 0 0 0 0 0 0 0 0 0 0 0 0 0 0\n",
      " 0 0]\n",
      "score =-4.547558462931499e-16\n",
      "[1 1 1 1 1 1 1 1 1 1 1 1 1 1 1 1 1 1 1 1 1 1 1 1 1 1 1 1 1 1 1 1 1 1 1 1 1\n",
      " 1 1 1 1 1 1 1 1 1 1 1 1 1 0 0 0 0 0 0 0 0 0 0 0 0 0 0 0 0 0 0 0 0 0 0 0 0\n",
      " 0 0 0 0 0 0 0 0 0 0 0 0 0 0 0 0 0 0 0 0 0 0 0 0 1 0 0 0 0 0 0 0 0 0 0 0 0\n",
      " 0 0 0 0 0 0 0 0 0 0 0 0 0 0 0 0 0 0 0 0 0 0 0 0 0 0 0 0 0 0 0 0 0 0 0 0 0\n",
      " 0 0]\n",
      "score =0.5537492887432671\n",
      "[1 1 1 1 1 1 1 1 1 1 1 1 1 1 1 1 1 1 1 1 1 1 1 1 1 1 1 1 1 1 1 1 1 1 1 1 1\n",
      " 1 1 1 1 1 1 1 1 1 1 1 1 1 0 0 0 0 0 0 0 0 0 0 0 0 0 0 0 0 0 0 0 0 0 0 0 0\n",
      " 0 0 0 2 0 0 0 0 0 0 0 0 0 0 0 0 0 0 0 0 0 0 0 0 0 0 2 2 2 2 2 2 0 2 2 2 2\n",
      " 2 2 2 2 2 2 2 2 2 2 2 2 2 2 2 2 2 2 2 2 2 2 2 2 2 2 2 2 2 2 2 2 2 2 2 2 2\n",
      " 2 2]\n",
      "score =0.9405073022327173\n",
      "[1 1 1 1 1 1 1 1 1 1 1 1 1 1 1 1 1 1 1 1 1 1 1 1 1 1 1 1 1 1 1 1 1 1 1 1 1\n",
      " 1 1 1 1 1 1 1 1 1 1 1 1 1 2 2 2 3 2 3 2 3 2 3 3 3 3 2 3 2 3 3 2 3 2 3 2 2\n",
      " 2 2 2 2 2 3 3 3 3 2 3 2 2 2 3 3 3 2 3 3 3 3 3 2 3 3 0 2 0 0 0 0 3 0 0 0 0\n",
      " 0 0 2 2 0 0 0 0 2 0 2 0 2 0 0 2 2 0 0 0 0 0 2 2 0 0 0 2 0 0 0 2 0 0 0 2 0\n",
      " 0 2]\n",
      "score =0.8249007747484601\n",
      "[1 1 1 1 1 1 1 1 1 1 1 1 1 1 1 1 1 1 1 1 1 1 1 1 1 1 1 1 1 1 1 1 1 1 1 1 1\n",
      " 1 1 1 1 1 1 1 1 1 1 1 1 1 3 3 3 2 3 2 3 2 3 2 2 2 2 3 2 3 2 2 3 2 3 2 3 3\n",
      " 3 3 3 3 3 2 2 2 2 3 2 3 3 3 2 2 2 3 2 2 2 2 2 3 2 2 0 0 4 0 0 4 2 4 0 4 0\n",
      " 0 0 0 0 0 0 4 4 0 0 0 4 0 0 4 0 0 0 4 4 4 0 0 0 4 0 0 0 0 0 0 0 4 0 0 0 0\n",
      " 0 0]\n",
      "score =0.9738207254898571\n",
      "[5 1 1 1 5 5 1 1 1 1 5 1 1 1 5 5 5 5 5 5 5 5 1 5 1 1 5 5 5 1 1 5 5 5 1 1 5\n",
      " 1 1 5 5 1 1 5 5 1 5 1 5 1 0 0 0 4 0 0 0 4 0 4 4 0 4 0 4 0 0 4 0 4 0 0 0 0\n",
      " 0 0 0 0 0 4 4 4 4 0 4 0 0 0 4 4 4 0 4 4 4 4 4 0 4 4 2 2 3 2 2 3 4 3 2 3 2\n",
      " 2 2 2 2 2 2 3 3 2 2 2 3 2 2 3 2 2 2 3 3 3 2 2 2 3 2 2 2 2 2 2 2 2 2 2 2 2\n",
      " 2 2]\n",
      "score =0.974774692249742\n",
      "[1 6 6 6 1 1 6 1 6 6 1 6 6 6 1 1 1 1 1 1 1 1 6 1 6 6 1 1 1 6 6 1 1 1 6 6 1\n",
      " 6 6 1 1 6 6 1 1 6 1 6 1 6 4 4 4 3 4 3 4 3 4 3 3 4 3 4 3 4 3 3 4 3 4 3 4 4\n",
      " 4 4 4 4 4 3 3 3 3 4 3 4 4 4 3 3 3 4 3 3 3 3 3 4 3 3 2 0 2 2 2 5 0 5 2 5 2\n",
      " 2 2 0 0 2 2 5 5 0 2 0 5 0 2 5 0 0 2 2 5 5 2 0 0 5 2 2 0 2 2 2 0 2 2 2 0 2\n",
      " 2 0]\n",
      "score =1.0\n",
      "[1 6 6 6 1 1 6 1 6 6 1 6 6 6 1 1 1 1 1 1 1 1 6 1 6 6 1 1 1 6 6 1 1 1 6 6 1\n",
      " 6 6 1 1 6 6 1 1 6 1 6 1 6 2 2 2 7 2 7 2 4 2 7 4 7 7 2 7 2 7 7 2 7 2 7 2 2\n",
      " 2 2 2 2 2 7 7 7 7 2 7 2 2 2 7 7 7 2 7 4 7 7 7 2 4 7 3 5 0 3 3 0 5 0 3 0 3\n",
      " 3 3 5 5 3 3 0 0 5 3 5 0 5 3 0 5 5 3 0 0 0 3 5 5 0 3 3 5 3 3 3 5 3 3 3 5 3\n",
      " 3 5]\n",
      "score =0.9999999999999996\n",
      "[0 5 5 5 0 0 5 0 5 5 0 5 5 5 0 0 0 0 0 0 0 0 5 0 5 5 0 0 0 5 5 0 0 0 5 5 0\n",
      " 5 5 0 0 5 5 0 0 5 0 5 0 5 1 1 1 6 8 6 1 3 1 3 3 6 6 8 6 1 6 6 8 6 8 6 8 8\n",
      " 8 1 1 1 8 3 3 3 6 8 6 8 1 8 6 6 6 8 6 3 6 6 6 8 3 6 7 4 2 7 7 2 4 2 7 2 7\n",
      " 7 7 4 4 7 7 2 2 4 7 4 2 4 7 2 4 4 7 2 2 2 7 4 4 2 7 7 4 7 7 7 4 7 7 7 4 7\n",
      " 7 4]\n",
      "score =0.9999999999999998\n"
     ]
    }
   ],
   "source": [
    "homogenity={}\n",
    "true_labels=np.array(df[\"species\"])\n",
    "K = range(1,10)\n",
    "for k in K :\n",
    "    homogenity[k]=0\n",
    "    kmeansModel = KMeans(n_clusters=k)\n",
    "    labels= kmeansModel.fit_predict(sample)\n",
    "    centers = kmeansModel.cluster_centers_\n",
    "    sample_transformed = kmeansModel.fit_transform(sample)\n",
    "    print(labels)\n",
    "    #print(sample_transformed)\n",
    "    homogenity[k]= homogeneity_score(true_labels,labels)\n",
    "    print(\"score =\"+str(homogenity[k]))"
   ]
  },
  {
   "cell_type": "markdown",
   "metadata": {},
   "source": [
    "**Ploting Elbow**"
   ]
  },
  {
   "cell_type": "code",
   "execution_count": 11,
   "metadata": {},
   "outputs": [
    {
     "name": "stdout",
     "output_type": "stream",
     "text": [
      "[-4.547558462931499e-16, 0.5537492887432671, 0.9405073022327173, 0.8249007747484601, 0.9738207254898571, 0.974774692249742, 1.0, 0.9999999999999996, 0.9999999999999998]\n"
     ]
    }
   ],
   "source": [
    "SSE_array=[]\n",
    "slope=[]\n",
    "for key,value in homogenity.items():\n",
    "    SSE_array.append(value)\n",
    "print(SSE_array)\n",
    "\n",
    "#Calculate slope of each line\n",
    "for p in range(1,9):\n",
    "    s= (SSE_array[p]-SSE_array[p-1])\n",
    "    slope.append([p+1,s])\n",
    "#slope"
   ]
  },
  {
   "cell_type": "code",
   "execution_count": 12,
   "metadata": {},
   "outputs": [
    {
     "data": {
      "image/png": "[encoded data removed]",
      "text/plain": [
       "<Figure size 432x288 with 1 Axes>"
      ]
     },
     "metadata": {},
     "output_type": "display_data"
    }
   ],
   "source": [
    "plt.plot(K,SSE_array,'bx-')\n",
    "plt.xlabel('k')\n",
    "plt.ylabel('Homogeneity index')\n",
    "plt.title('The Elbow Method showing the optimal k')\n",
    "plt.show()"
   ]
  },
  {
   "cell_type": "code",
   "execution_count": 13,
   "metadata": {},
   "outputs": [
    {
     "data": {
      "text/plain": [
       "[[2, 0.5537492887432676],\n",
       " [3, 0.38675801348945016],\n",
       " [4, -0.11560652748425715],\n",
       " [5, 0.14891995074139697],\n",
       " [6, 0.0009539667598849055],\n",
       " [7, 0.025225307750257997],\n",
       " [8, -4.440892098500626e-16],\n",
       " [9, 2.220446049250313e-16]]"
      ]
     },
     "execution_count": 13,
     "metadata": {},
     "output_type": "execute_result"
    }
   ],
   "source": [
    "slope"
   ]
  },
  {
   "cell_type": "code",
   "execution_count": 14,
   "metadata": {
    "scrolled": true
   },
   "outputs": [
    {
     "name": "stdout",
     "output_type": "stream",
     "text": [
      "Optimal Number of Clusters = 3\n",
      "Optimal Number of Clusters = 5\n",
      "Optimal Number of Clusters = 7\n"
     ]
    }
   ],
   "source": [
    "#chose the value after which there is a reduction in gain(rather loss)\n",
    "for a in range(0,7):\n",
    "    change_slope=(slope[a])[-1] - (slope[a+1])[-1]\n",
    "    if change_slope < 0:\n",
    "        print('Optimal Number of Clusters = '+str((slope[a][0])-1))"
   ]
  },
  {
   "cell_type": "code",
   "execution_count": null,
   "metadata": {},
   "outputs": [],
   "source": []
  }
 ],
 "metadata": {
  "kernelspec": {
   "display_name": "Python 3",
   "language": "python",
   "name": "python3"
  },
  "language_info": {
   "codemirror_mode": {
    "name": "ipython",
    "version": 3
   },
   "file_extension": ".py",
   "mimetype": "text/x-python",
   "name": "python",
   "nbconvert_exporter": "python",
   "pygments_lexer": "ipython3",
   "version": "3.4.3"
  }
 },
 "nbformat": 4,
 "nbformat_minor": 2
}
