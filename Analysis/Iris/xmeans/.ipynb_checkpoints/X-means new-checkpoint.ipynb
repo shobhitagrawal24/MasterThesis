{
 "cells": [
  {
   "cell_type": "code",
   "execution_count": 4,
   "metadata": {},
   "outputs": [],
   "source": [
    "import numpy as np\n",
    "import pandas as pd;\n",
    "import math as mt\n",
    "import sys\n",
    "from sklearn.cluster import KMeans\n",
    "from sklearn import datasets\n",
    "from sklearn import metrics\n",
    "from sklearn.preprocessing import LabelEncoder;\n",
    "from sklearn.decomposition import PCA;\n",
    "import matplotlib.pyplot as plt;"
   ]
  },
  {
   "cell_type": "code",
   "execution_count": 5,
   "metadata": {},
   "outputs": [],
   "source": [
    "class XMeans:\n",
    "    def loglikelihood(self, r, rn, var, m, k):\n",
    "        l1 = - rn / 2.0 * mt.log(2 * mt.pi)\n",
    "        l2 = - rn * m / 2.0 * mt.log(var)\n",
    "        l3 = - (rn - k) / 2.0\n",
    "        l4 = rn * mt.log(rn)\n",
    "        l5 = - rn * mt.log(r)\n",
    "\n",
    "        return l1 + l2 + l3 + l4 + l5\n",
    "\n",
    "    def __init__(self, X, kmax = 20):\n",
    "        self.X = X\n",
    "        self.num = np.size(self.X, axis=0)\n",
    "        self.dim = np.size(X, axis=1)\n",
    "        self.KMax = kmax\n",
    "\n",
    "    def fit(self):\n",
    "        k = 1\n",
    "        X = self.X\n",
    "        M = self.dim\n",
    "        num = self.num\n",
    "\n",
    "        while(1):\n",
    "            ok = k\n",
    "\n",
    "            #Improve Params\n",
    "            kmeans = KMeans(n_clusters=k).fit(X)\n",
    "            labels = kmeans.labels_\n",
    "            m = kmeans.cluster_centers_\n",
    "\n",
    "            #Improve Structure\n",
    "            #Calculate BIC\n",
    "            p = M + 1\n",
    "\n",
    "            obic = np.zeros(k)\n",
    "\n",
    "            for i in range(k):\n",
    "                rn = np.size(np.where(labels == i))\n",
    "                var = np.sum((X[labels == i] - m[i])**2)/float(rn - 1)\n",
    "                obic[i] = self.loglikelihood(rn, rn, var, M, 1) - p/2.0*mt.log(rn)\n",
    "\n",
    "            #Split each cluster into two subclusters and calculate BIC of each splitted cluster\n",
    "            sk = 2 #The number of subclusters\n",
    "            nbic = np.zeros(k)\n",
    "            addk = 0\n",
    "\n",
    "            for i in range(k):\n",
    "                ci = X[labels == i]\n",
    "                r = np.size(np.where(labels == i))\n",
    "\n",
    "                kmeans = KMeans(n_clusters=sk).fit(ci)\n",
    "                ci_labels = kmeans.labels_\n",
    "                sm = kmeans.cluster_centers_\n",
    "\n",
    "                for l in xrange(sk):\n",
    "                    rn = np.size(np.where(ci_labels == l))\n",
    "                    var = np.sum((ci[ci_labels == l] - sm[l])**2)/float(rn - sk)\n",
    "                    nbic[i] += self.loglikelihood(r, rn, var, M, sk)\n",
    "\n",
    "                p = sk * (M + 1)\n",
    "                nbic[i] -= p/2.0*mt.log(r)\n",
    "\n",
    "                if obic[i] < nbic[i]:\n",
    "                    addk += 1\n",
    "\n",
    "            k += addk\n",
    "\n",
    "            # print(obic)\n",
    "            # print(nbic)\n",
    "\n",
    "            if ok == k or k >= self.KMax:\n",
    "                break\n",
    "\n",
    "\n",
    "        #Calculate labels and centroids\n",
    "        kmeans = KMeans(n_clusters=k).fit(X)\n",
    "        self.labels = kmeans.labels_\n",
    "        self.k = k\n",
    "        self.m = kmeans.cluster_centers_"
   ]
  },
  {
   "cell_type": "code",
   "execution_count": 6,
   "metadata": {},
   "outputs": [],
   "source": [
    "%config IPCompleter.greedy=True"
   ]
  },
  {
   "cell_type": "code",
   "execution_count": 7,
   "metadata": {},
   "outputs": [],
   "source": [
    "df = pd.read_csv('~/Master Thesis/Data/iris.csv')"
   ]
  },
  {
   "cell_type": "code",
   "execution_count": 8,
   "metadata": {},
   "outputs": [],
   "source": [
    "enc = LabelEncoder();\n",
    "enc.fit(df['species']);\n",
    "df['species'] = enc.transform(df['species'])"
   ]
  },
  {
   "cell_type": "code",
   "execution_count": 9,
   "metadata": {},
   "outputs": [
    {
     "name": "stdout",
     "output_type": "stream",
     "text": [
      "[0.92264045 0.04810411 0.01829962]\n"
     ]
    }
   ],
   "source": [
    "pca = PCA(n_components=3);\n",
    "pca.fit(df)\n",
    "df_2d=pca.transform(df)\n",
    "print(pca.explained_variance_ratio_)"
   ]
  },
  {
   "cell_type": "code",
   "execution_count": 10,
   "metadata": {},
   "outputs": [],
   "source": [
    "sample=df_2d.tolist()"
   ]
  },
  {
   "cell_type": "code",
   "execution_count": null,
   "metadata": {},
   "outputs": [],
   "source": [
    "x_means_instance = XMeans(df_2d)\n",
    "x_means_instance.fit()"
   ]
  },
  {
   "cell_type": "code",
   "execution_count": null,
   "metadata": {},
   "outputs": [],
   "source": []
  }
 ],
 "metadata": {
  "kernelspec": {
   "display_name": "Python 3",
   "language": "python",
   "name": "python3"
  },
  "language_info": {
   "codemirror_mode": {
    "name": "ipython",
    "version": 3
   },
   "file_extension": ".py",
   "mimetype": "text/x-python",
   "name": "python",
   "nbconvert_exporter": "python",
   "pygments_lexer": "ipython3",
   "version": "3.4.3"
  }
 },
 "nbformat": 4,
 "nbformat_minor": 2
}
