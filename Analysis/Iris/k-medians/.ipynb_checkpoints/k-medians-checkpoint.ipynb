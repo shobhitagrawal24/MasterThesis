{
 "cells": [
  {
   "cell_type": "code",
   "execution_count": 1,
   "metadata": {},
   "outputs": [],
   "source": [
    "import numpy as np\n",
    "import pandas as pd\n",
    "import pyclustering as pycl\n",
    "from pyclustering.cluster.kmedians import kmedians\n",
    "from pyclustering.cluster import cluster_visualizer\n",
    "from sklearn.preprocessing import LabelEncoder\n",
    "from sklearn.decomposition import PCA\n",
    "import matplotlib.pyplot as plt\n",
    "from pyclustering.utils import timedcall\n",
    "from pyclustering.cluster.center_initializer import kmeans_plusplus_initializer\n",
    "from pyclustering.utils import draw_clusters"
   ]
  },
  {
   "cell_type": "code",
   "execution_count": 2,
   "metadata": {},
   "outputs": [],
   "source": [
    "%config IPCompleter.greedy=True"
   ]
  },
  {
   "cell_type": "code",
   "execution_count": 3,
   "metadata": {},
   "outputs": [],
   "source": [
    "df = pd.read_csv('C:/Users/Shobhit Agrawal/Downloads/Master Thesis/Data/iris.csv')"
   ]
  },
  {
   "cell_type": "code",
   "execution_count": 4,
   "metadata": {},
   "outputs": [
    {
     "data": {
      "text/html": [
       "<div>\n",
       "<style scoped>\n",
       "    .dataframe tbody tr th:only-of-type {\n",
       "        vertical-align: middle;\n",
       "    }\n",
       "\n",
       "    .dataframe tbody tr th {\n",
       "        vertical-align: top;\n",
       "    }\n",
       "\n",
       "    .dataframe thead th {\n",
       "        text-align: right;\n",
       "    }\n",
       "</style>\n",
       "<table border=\"1\" class=\"dataframe\">\n",
       "  <thead>\n",
       "    <tr style=\"text-align: right;\">\n",
       "      <th></th>\n",
       "      <th>sepal_length</th>\n",
       "      <th>sepal_width</th>\n",
       "      <th>petal_length</th>\n",
       "      <th>petal_width</th>\n",
       "      <th>species</th>\n",
       "    </tr>\n",
       "  </thead>\n",
       "  <tbody>\n",
       "    <tr>\n",
       "      <th>0</th>\n",
       "      <td>5.1</td>\n",
       "      <td>3.5</td>\n",
       "      <td>1.4</td>\n",
       "      <td>0.2</td>\n",
       "      <td>setosa</td>\n",
       "    </tr>\n",
       "    <tr>\n",
       "      <th>1</th>\n",
       "      <td>4.9</td>\n",
       "      <td>3.0</td>\n",
       "      <td>1.4</td>\n",
       "      <td>0.2</td>\n",
       "      <td>setosa</td>\n",
       "    </tr>\n",
       "    <tr>\n",
       "      <th>2</th>\n",
       "      <td>4.7</td>\n",
       "      <td>3.2</td>\n",
       "      <td>1.3</td>\n",
       "      <td>0.2</td>\n",
       "      <td>setosa</td>\n",
       "    </tr>\n",
       "    <tr>\n",
       "      <th>3</th>\n",
       "      <td>4.6</td>\n",
       "      <td>3.1</td>\n",
       "      <td>1.5</td>\n",
       "      <td>0.2</td>\n",
       "      <td>setosa</td>\n",
       "    </tr>\n",
       "    <tr>\n",
       "      <th>4</th>\n",
       "      <td>5.0</td>\n",
       "      <td>3.6</td>\n",
       "      <td>1.4</td>\n",
       "      <td>0.2</td>\n",
       "      <td>setosa</td>\n",
       "    </tr>\n",
       "  </tbody>\n",
       "</table>\n",
       "</div>"
      ],
      "text/plain": [
       "   sepal_length  sepal_width  petal_length  petal_width species\n",
       "0           5.1          3.5           1.4          0.2  setosa\n",
       "1           4.9          3.0           1.4          0.2  setosa\n",
       "2           4.7          3.2           1.3          0.2  setosa\n",
       "3           4.6          3.1           1.5          0.2  setosa\n",
       "4           5.0          3.6           1.4          0.2  setosa"
      ]
     },
     "execution_count": 4,
     "metadata": {},
     "output_type": "execute_result"
    }
   ],
   "source": [
    "df.head()"
   ]
  },
  {
   "cell_type": "markdown",
   "metadata": {},
   "source": [
    "**Encode String Attribite to Integer**"
   ]
  },
  {
   "cell_type": "code",
   "execution_count": 5,
   "metadata": {},
   "outputs": [],
   "source": [
    "enc = LabelEncoder()\n",
    "enc.fit(df['species'])\n",
    "df['species']= enc.transform(df['species'])"
   ]
  },
  {
   "cell_type": "markdown",
   "metadata": {},
   "source": [
    "**Principal Component Analysis for Dimentionality Reduction**"
   ]
  },
  {
   "cell_type": "code",
   "execution_count": 6,
   "metadata": {},
   "outputs": [
    {
     "data": {
      "text/plain": [
       "PCA(copy=True, iterated_power='auto', n_components=3, random_state=None,\n",
       "  svd_solver='auto', tol=0.0, whiten=False)"
      ]
     },
     "execution_count": 6,
     "metadata": {},
     "output_type": "execute_result"
    }
   ],
   "source": [
    "pca = PCA(n_components=3)\n",
    "pca.fit(df)"
   ]
  },
  {
   "cell_type": "code",
   "execution_count": 7,
   "metadata": {},
   "outputs": [],
   "source": [
    "df_3d=pca.transform(df)"
   ]
  },
  {
   "cell_type": "code",
   "execution_count": 8,
   "metadata": {},
   "outputs": [
    {
     "data": {
      "text/plain": [
       "array([[-2.86550669e+00,  3.02780442e-01,  4.84897211e-02],\n",
       "       [-2.89321339e+00, -1.76987146e-01, -1.68798182e-01],\n",
       "       [-3.05574910e+00, -1.68006289e-01,  5.65424149e-02],\n",
       "       [-2.92124902e+00, -3.25027211e-01,  9.80010810e-03],\n",
       "       [-2.90675140e+00,  3.02332724e-01,  1.53720302e-01],\n",
       "       [-2.48899988e+00,  7.39727187e-01,  2.00679240e-01],\n",
       "       [-2.99106535e+00, -1.16739834e-01,  2.50385821e-01],\n",
       "       [-2.81105291e+00,  1.55635814e-01,  1.66268489e-02],\n",
       "       [-3.05248032e+00, -5.89687583e-01, -9.28733240e-03],\n",
       "       [-2.85470148e+00, -1.11633294e-01, -1.64955858e-01],\n",
       "       [-2.70085679e+00,  6.36298840e-01,  2.34535897e-02],\n",
       "       [-2.79784383e+00,  8.04346801e-03,  8.99945580e-02],\n",
       "       [-2.96034027e+00, -2.39025333e-01, -1.67059861e-01],\n",
       "       [-3.36757216e+00, -5.53686579e-01,  9.81963025e-02],\n",
       "       [-2.83079955e+00,  1.14659075e+00,  7.49186344e-02],\n",
       "       [-2.58796715e+00,  1.30810539e+00,  4.03602440e-01],\n",
       "       [-2.80918503e+00,  7.79232365e-01,  2.60196978e-01],\n",
       "       [-2.83179842e+00,  2.95960603e-01,  9.08749712e-02],\n",
       "       [-2.41462623e+00,  8.84710797e-01, -3.51837355e-02],\n",
       "       [-2.77523044e+00,  4.91315230e-01,  2.59316565e-01],\n",
       "       [-2.51728591e+00,  4.11315329e-01, -1.89626308e-01],\n",
       "       [-2.73369607e+00,  4.16085084e-01,  2.40594806e-01],\n",
       "       [-3.36061098e+00,  6.64057983e-02,  3.89732328e-01],\n",
       "       [-2.50859080e+00,  1.15871426e-01,  8.79314884e-03],\n",
       "       [-2.55770496e+00, -2.15854157e-02,  4.53562542e-02],\n",
       "       [-2.69970221e+00, -1.27881710e-01, -2.42680623e-01],\n",
       "       [-2.66359007e+00,  1.32119841e-01,  8.65179146e-02],\n",
       "       [-2.75204180e+00,  3.61762174e-01, -1.05132854e-02],\n",
       "       [-2.82426199e+00,  3.03228161e-01, -5.67408602e-02],\n",
       "       [-2.81561023e+00, -1.97635173e-01,  1.19041110e-02],\n",
       "       [-2.77436552e+00, -1.97187454e-01, -9.33264702e-02],\n",
       "       [-2.60996194e+00,  4.17428239e-01, -7.50969382e-02],\n",
       "       [-2.83270669e+00,  7.79043857e-01,  3.13743521e-01],\n",
       "       [-2.78661499e+00,  1.05708470e+00,  2.99744500e-01],\n",
       "       [-2.85470148e+00, -1.11633294e-01, -1.64955858e-01],\n",
       "       [-3.03553957e+00,  4.84440834e-02, -6.09488661e-02],\n",
       "       [-2.81187856e+00,  5.88088840e-01, -1.13125132e-01],\n",
       "       [-2.85470148e+00, -1.11633294e-01, -1.64955858e-01],\n",
       "       [-3.14035271e+00, -5.11400981e-01,  6.66991116e-02],\n",
       "       [-2.77763430e+00,  2.24493840e-01, -2.74967229e-02],\n",
       "       [-2.94526332e+00,  2.36978872e-01,  1.49877978e-01],\n",
       "       [-3.01844311e+00, -9.28234946e-01, -3.62788276e-01],\n",
       "       [-3.15600491e+00, -3.74580367e-01,  1.88913130e-01],\n",
       "       [-2.60399963e+00,  1.86890470e-01,  2.32395424e-01],\n",
       "       [-2.42133701e+00,  4.44990213e-01,  2.42184077e-01],\n",
       "       [-2.89292372e+00, -2.52665012e-01, -8.22893603e-02],\n",
       "       [-2.72889243e+00,  4.88258775e-01,  2.02051880e-01],\n",
       "       [-3.00912141e+00, -2.46740609e-01,  8.57865521e-02],\n",
       "       [-2.73427540e+00,  5.67440814e-01,  6.75771616e-02],\n",
       "       [-2.88327309e+00,  9.71018016e-02, -2.96007259e-02],\n",
       "       [ 1.19648415e+00,  7.89637419e-01, -4.75875855e-01],\n",
       "       [ 8.69588214e-01,  3.89422013e-01, -1.38990304e-01],\n",
       "       [ 1.36469250e+00,  6.25796657e-01, -4.80232911e-01],\n",
       "       [ 1.71607699e-01, -7.82971834e-01, -3.02214570e-01],\n",
       "       [ 1.01435752e+00,  1.74762515e-01, -4.42421348e-01],\n",
       "       [ 5.99545840e-01, -3.52585719e-01, -1.59323839e-01],\n",
       "       [ 1.02214436e+00,  3.62401866e-01, -2.11333422e-02],\n",
       "       [-6.98178881e-01, -1.03811610e+00,  6.34162750e-04],\n",
       "       [ 9.72533478e-01,  3.25670527e-01, -5.10208411e-01],\n",
       "       [-6.29054696e-03, -7.12848227e-01,  1.31848868e-01],\n",
       "       [-4.73363285e-01, -1.26265190e+00, -3.17676316e-01],\n",
       "       [ 4.78008524e-01, -6.20598472e-02,  4.05183986e-03],\n",
       "       [ 2.45402012e-01, -4.86632494e-01, -7.11095189e-01],\n",
       "       [ 9.19195011e-01, -3.53157362e-02, -2.62084736e-01],\n",
       "       [-1.62115470e-01, -2.64146786e-01,  7.98216534e-02],\n",
       "       [ 8.63915572e-01,  5.44281918e-01, -3.59973845e-01],\n",
       "       [ 6.17891574e-01, -2.98262809e-01,  9.17842516e-02],\n",
       "       [ 2.19480574e-01, -2.92173304e-01, -3.32192433e-01],\n",
       "       [ 8.81012034e-01, -4.32397112e-01, -6.61813255e-01],\n",
       "       [ 4.19112633e-02, -5.53777221e-01, -2.94015188e-01],\n",
       "       [ 1.04375887e+00, -4.95651790e-03,  1.64145001e-01],\n",
       "       [ 3.32988818e-01, -2.77721422e-02, -2.61420954e-01],\n",
       "       [ 1.21113749e+00, -1.97813342e-01, -5.82133537e-01],\n",
       "       [ 8.59604568e-01, -9.00863648e-02, -4.07962246e-01],\n",
       "       [ 6.65557399e-01,  2.17583359e-01, -3.77322964e-01],\n",
       "       [ 8.38323070e-01,  4.07013584e-01, -3.76957282e-01],\n",
       "       [ 1.24099764e+00,  3.68403843e-01, -6.46936183e-01],\n",
       "       [ 1.45314423e+00,  3.96154325e-01, -3.83201712e-01],\n",
       "       [ 7.59392100e-01, -9.12410123e-02, -1.45817045e-01],\n",
       "       [-2.86389663e-01, -3.70183870e-01, -2.59899262e-01],\n",
       "       [-6.37275284e-02, -6.81169259e-01, -2.96119191e-01],\n",
       "       [-1.77482090e-01, -6.64473125e-01, -3.23625007e-01],\n",
       "       [ 1.26804542e-01, -2.86060393e-01, -2.17663063e-01],\n",
       "       [ 1.28903031e+00, -2.94139234e-01, -3.14922422e-01],\n",
       "       [ 5.51054363e-01, -4.35978860e-01,  1.80031395e-01],\n",
       "       [ 7.53969858e-01,  2.43990685e-01,  2.02103252e-01],\n",
       "       [ 1.13776271e+00,  5.07833195e-01, -3.62226899e-01],\n",
       "       [ 7.59141702e-01, -2.71612805e-01, -7.14720883e-01],\n",
       "       [ 2.30289872e-01, -2.45117952e-01,  6.65314898e-02],\n",
       "       [ 1.55955493e-01, -6.46151220e-01, -1.80000551e-01],\n",
       "       [ 4.34606273e-01, -6.10426251e-01, -2.20796530e-01],\n",
       "       [ 8.31322619e-01,  4.29708657e-02, -1.86098292e-01],\n",
       "       [ 2.14676934e-01, -3.64346995e-01, -2.93649507e-01],\n",
       "       [-6.56934172e-01, -1.03766838e+00, -1.04596419e-01],\n",
       "       [ 3.33814470e-01, -4.60225168e-01, -1.31668973e-01],\n",
       "       [ 3.10046493e-01, -1.79316381e-01, -3.48567668e-02],\n",
       "       [ 3.51580870e-01, -2.54546528e-01, -5.35785261e-02],\n",
       "       [ 5.98720188e-01,  7.98673073e-02, -2.89075820e-01],\n",
       "       [-8.45598367e-01, -8.09180699e-01,  6.05175824e-02],\n",
       "       [ 2.79360684e-01, -3.13080540e-01, -9.98061009e-02],\n",
       "       [ 2.72365278e+00, -3.58273178e-02,  6.46602917e-01],\n",
       "       [ 1.68085013e+00, -6.60773604e-01,  3.80182130e-01],\n",
       "       [ 2.79960056e+00,  3.46961619e-01, -4.43682520e-02],\n",
       "       [ 2.19881413e+00, -2.22224494e-01,  1.64995867e-01],\n",
       "       [ 2.55275091e+00, -6.31300809e-02,  2.77637864e-01],\n",
       "       [ 3.52701761e+00,  6.22117687e-01, -3.69142153e-01],\n",
       "       [ 8.48040608e-01, -1.34441901e+00,  6.59586366e-01],\n",
       "       [ 3.09332421e+00,  3.97221704e-01, -3.80395894e-01],\n",
       "       [ 2.52388554e+00, -2.40186208e-01, -2.85685327e-01],\n",
       "       [ 3.08098822e+00,  7.79249543e-01,  4.17932364e-01],\n",
       "       [ 1.90935813e+00,  1.56464274e-01,  4.19237425e-01],\n",
       "       [ 2.04145435e+00, -2.67378038e-01,  8.56818302e-02],\n",
       "       [ 2.37915959e+00,  1.79892720e-01,  1.47520202e-01],\n",
       "       [ 1.61674572e+00, -8.63395790e-01,  3.59356368e-01],\n",
       "       [ 1.84156540e+00, -6.26462494e-01,  6.53215391e-01],\n",
       "       [ 2.13715692e+00,  4.73941414e-02,  5.60757878e-01],\n",
       "       [ 2.17777895e+00, -6.22183980e-03,  1.52735167e-01],\n",
       "       [ 3.61158195e+00,  1.22156204e+00,  1.03096165e-01],\n",
       "       [ 3.89929604e+00,  3.74065921e-01, -6.17561566e-01],\n",
       "       [ 1.57193848e+00, -8.27953437e-01, -1.68261626e-01],\n",
       "       [ 2.62443511e+00,  3.52179093e-01,  2.80622280e-01],\n",
       "       [ 1.47980251e+00, -7.17146599e-01,  6.01680403e-01],\n",
       "       [ 3.62242644e+00,  5.51098643e-01, -5.92744429e-01],\n",
       "       [ 1.65414231e+00, -2.89911046e-01,  1.46937890e-01],\n",
       "       [ 2.48235525e+00,  2.96513027e-01,  3.45205933e-01],\n",
       "       [ 2.79628843e+00,  5.63223483e-01, -1.08312990e-01],\n",
       "       [ 1.53285131e+00, -2.80482470e-01,  2.67047906e-01],\n",
       "       [ 1.56382679e+00, -2.22396176e-01,  4.18506062e-01],\n",
       "       [ 2.34118366e+00, -2.42236293e-01,  1.86921036e-01],\n",
       "       [ 2.58443151e+00,  4.59795137e-01, -2.85538640e-01],\n",
       "       [ 3.00818461e+00,  4.10602172e-01, -4.13482356e-01],\n",
       "       [ 3.37086375e+00,  1.40254665e+00, -2.52831747e-02],\n",
       "       [ 2.37489193e+00, -2.49056132e-01,  2.29306286e-01],\n",
       "       [ 1.70528397e+00, -2.20793810e-01,  5.11302801e-02],\n",
       "       [ 2.02062214e+00, -5.37892110e-01, -9.96190182e-02],\n",
       "       [ 3.22762132e+00,  7.26717507e-01, -2.54098052e-01],\n",
       "       [ 2.36193325e+00,  7.89080071e-02,  7.24842415e-01],\n",
       "       [ 2.13653424e+00, -6.66955837e-03,  2.57965748e-01],\n",
       "       [ 1.45036190e+00, -2.81377907e-01,  4.77509069e-01],\n",
       "       [ 2.32470580e+00,  3.27037348e-01,  1.79383074e-01],\n",
       "       [ 2.51908598e+00,  1.49109189e-01,  3.65027099e-01],\n",
       "       [ 2.15198348e+00,  3.43026553e-01,  3.08791878e-01],\n",
       "       [ 1.68085013e+00, -6.60773604e-01,  3.80182130e-01],\n",
       "       [ 2.75110908e+00,  2.63568478e-01,  2.94986983e-01],\n",
       "       [ 2.61718834e+00,  2.69233670e-01,  5.14746933e-01],\n",
       "       [ 2.17301866e+00,  1.27023899e-01,  3.21052578e-01],\n",
       "       [ 1.78354908e+00, -4.43427795e-01,  5.22296870e-02],\n",
       "       [ 2.00505663e+00,  9.76736521e-03,  2.82143971e-01],\n",
       "       [ 2.13471379e+00,  3.66224097e-02,  7.56339606e-01],\n",
       "       [ 1.65708216e+00, -3.79864817e-01,  4.76994337e-01]])"
      ]
     },
     "execution_count": 8,
     "metadata": {},
     "output_type": "execute_result"
    }
   ],
   "source": [
    "df_3d"
   ]
  },
  {
   "cell_type": "markdown",
   "metadata": {},
   "source": [
    "**Significance level of Dimention after PCA**"
   ]
  },
  {
   "cell_type": "code",
   "execution_count": 9,
   "metadata": {},
   "outputs": [
    {
     "name": "stdout",
     "output_type": "stream",
     "text": [
      "[0.92264045 0.04810411 0.01829962]\n"
     ]
    }
   ],
   "source": [
    "print(pca.explained_variance_ratio_)"
   ]
  },
  {
   "cell_type": "code",
   "execution_count": 10,
   "metadata": {},
   "outputs": [],
   "source": [
    "sample = df_3d.tolist()"
   ]
  },
  {
   "cell_type": "code",
   "execution_count": 11,
   "metadata": {},
   "outputs": [
    {
     "data": {
      "text/plain": [
       "[[-2.8655066941799587, 0.30278044218553335, 0.048489721083216586],\n",
       " [-2.8932133898737877, -0.1769871462954614, -0.168798182239855],\n",
       " [-3.0557490968360286, -0.16800628887325073, 0.05654241487364964],\n",
       " [-2.9212490213057016, -0.325027211241508, 0.00980010810212606],\n",
       " [-2.9067514031274237, 0.3023327236144092, 0.15372030233594347],\n",
       " [-2.4889998762241143, 0.7397271868671295, 0.2006792395863739],\n",
       " [-2.9910653468314607, -0.11673983401330126, 0.2503858210508838],\n",
       " [-2.8110529077169413, 0.15563581438173626, 0.016626848919742976],\n",
       " [-3.052480315581599, -0.5896875831557234, -0.009287332400670034],\n",
       " [-2.854701477034372, -0.11163329418724174, -0.16495585757231257],\n",
       " [-2.700856794128181, 0.6362988400049809, 0.023453589737360114],\n",
       " [-2.7978438302013897, 0.008043468006814353, 0.0899945580089967],\n",
       " [-2.960340268705976, -0.23902533286212033, -0.16705986051968502],\n",
       " [-3.3675721647873047, -0.5536865786948969, 0.09819630254772616],\n",
       " [-2.8307995477413526, 1.1465907493216034, 0.07491863437912838],\n",
       " [-2.5879671528890262, 1.3081053903822755, 0.4036024402768943],\n",
       " [-2.809185032493356, 0.7792323651249679, 0.26019697801857533],\n",
       " [-2.8317984211236498, 0.2959606028469608, 0.09087497121169896],\n",
       " [-2.414626228781199, 0.8847107965872886, -0.035183735492139434],\n",
       " [-2.7752304415710967, 0.49131523028482094, 0.2593165648158735],\n",
       " [-2.5172859064788025, 0.41131532887374167, -0.1896263076909659],\n",
       " [-2.733696065343202, 0.416085083612142, 0.240594805540281],\n",
       " [-3.3606109825001838, 0.06640579825132312, 0.38973232816275316],\n",
       " [-2.5085908014659286, 0.11587142580822343, 0.008793148836362064],\n",
       " [-2.5577049629994586, -0.02158541568656444, 0.04535625418484557],\n",
       " [-2.6997022059632876, -0.12788170951914982, -0.2426806233046076],\n",
       " [-2.663590072537013, 0.13211984114013145, 0.0865179145686571],\n",
       " [-2.7520417993367685, 0.36176217352630524, -0.010513285373486059],\n",
       " [-2.824261985232493, 0.30322816075665815, -0.05674086016951074],\n",
       " [-2.8156102296340975, -0.19763517256662952, 0.011904111049498511],\n",
       " [-2.774365520686632, -0.19718745399550539, -0.09332647020322837],\n",
       " [-2.6099619385008053, 0.41742823932551565, -0.07509693821790064],\n",
       " [-2.832706691422593, 0.7790438568695173, 0.3137435209224818],\n",
       " [-2.786614993277542, 1.0570846971452046, 0.2997444995171339],\n",
       " [-2.854701477034372, -0.11163329418724174, -0.16495585757231257],\n",
       " [-3.035539568575701, 0.04844408340690204, -0.06094886606425587],\n",
       " [-2.8118785601437506, 0.5880888403709176, -0.11312513170334126],\n",
       " [-2.854701477034372, -0.11163329418724174, -0.16495585757231257],\n",
       " [-3.1403527078204956, -0.5114009812571572, 0.06669911161145547],\n",
       " [-2.777634301941062, 0.2244938402869671, -0.027496722928908923],\n",
       " [-2.945263315966839, 0.23697887150618954, 0.14987797766840116],\n",
       " [-3.0184431067872057, -0.9282349460292455, -0.3627882759372397],\n",
       " [-3.1560049141636672, -0.3745803665889438, 0.18891313041960567],\n",
       " [-2.603999629595981, 0.18689046979709298, 0.23239542422969683],\n",
       " [-2.4213370122455458, 0.4449902126884099, 0.24218407651215434],\n",
       " [-2.892923722593358, -0.25266501153926546, -0.08228936026272043],\n",
       " [-2.728892425560095, 0.4882587750589339, 0.20205188007934072],\n",
       " [-3.009121413544598, -0.2467406093429417, 0.08578655211425157],\n",
       " [-2.7342753999040608, 0.5674408140997494, 0.06757716158601235],\n",
       " [-2.883273093612666, 0.09710180161208917, -0.029600725876281875],\n",
       " [1.1964841536841422, 0.789637418976529, -0.4758758548378952],\n",
       " [0.8695882139505534, 0.3894220133354893, -0.13899030440140023],\n",
       " [1.3646925022707788, 0.6257966572696995, -0.4802329114809369],\n",
       " [0.17160769906274093, -0.7829718343191073, -0.3022145696169204],\n",
       " [1.0143575214800866, 0.17476251533983375, -0.44242134847440284],\n",
       " [0.5995458400931228, -0.35258571866041, -0.1593238393341011],\n",
       " [1.022144356194018, 0.3624018662968724, -0.021133342236291597],\n",
       " [-0.6981788814042221, -1.0381161024494518, 0.0006341627499722446],\n",
       " [0.9725334779717623, 0.3256705272563165, -0.5102084111759441],\n",
       " [-0.006290546962242807, -0.7128482274724867, 0.13184886828186856],\n",
       " [-0.473363284807378, -1.2626518950095666, -0.31767631593108053],\n",
       " [0.4780085242123965, -0.062059847165500684, 0.004051839857860673],\n",
       " [0.24540201194479738, -0.4866324941113405, -0.7110951886497022],\n",
       " [0.9191950112159848, -0.03531573617287116, -0.26208473641225233],\n",
       " [-0.16211547046013713, -0.26414678615139825, 0.0798216533910796],\n",
       " [0.8639155723261585, 0.5442819176201079, -0.35997384487186324],\n",
       " [0.6178915740866893, -0.2982628085745732, 0.09178425157966591],\n",
       " [0.21948057360241907, -0.2921733038157293, -0.33219243254007313],\n",
       " [0.8810120341146535, -0.43239711181603924, -0.6618132547448468],\n",
       " [0.04191126331552006, -0.5537772205040583, -0.29401518830633616],\n",
       " [1.043758871442014, -0.004956517899762682, 0.1641450014031556],\n",
       " [0.3329888178600881, -0.02777214221718799, -0.261420953688457],\n",
       " [1.2111374866450175, -0.1978133421663271, -0.582133536813475],\n",
       " [0.8596045682749529, -0.09008636482983268, -0.407962246073292],\n",
       " [0.6655573992180722, 0.21758335913923366, -0.37732296365448936],\n",
       " [0.8383230697218648, 0.40701358438076973, -0.3769572824272861],\n",
       " [1.2409976438860373, 0.3684038432651803, -0.6469361833649419],\n",
       " [1.4531442290705339, 0.39615432488352575, -0.3832017115387937],\n",
       " [0.759392100361793, -0.09124101228775536, -0.14581704521901737],\n",
       " [-0.28638966340573707, -0.3701838696683092, -0.2598992624471942],\n",
       " [-0.06372752835608395, -0.6811692591789362, -0.29611919125370906],\n",
       " [-0.17748209047970312, -0.6644731252759041, -0.32362500677414113],\n",
       " [0.1268045415804161, -0.2860603933639553, -0.21766306306700783],\n",
       " [1.2890303141651367, -0.2941392336812987, -0.31492242154698713],\n",
       " [0.5510543625349306, -0.43597886038503486, 0.1800313952769696],\n",
       " [0.7539698575601725, 0.24399068504420518, 0.20210325192984022],\n",
       " [1.1377627125843988, 0.5078331945881565, -0.36222689856753204],\n",
       " [0.7591417015390189, -0.2716128053350973, -0.7147208828383379],\n",
       " [0.23028987170482912, -0.2451179516395896, 0.06653148975490292],\n",
       " [0.1559554927195691, -0.646151219650894, -0.18000055080877014],\n",
       " [0.43460627276091657, -0.6104262512360532, -0.22079652996537893],\n",
       " [0.8313226189770879, 0.04297086572569519, -0.18609829240012676],\n",
       " [0.21467693381931258, -0.36434699526252157, -0.29364950707913334],\n",
       " [-0.6569341724567569, -1.0376683838783278, -0.1045964185027547],\n",
       " [0.3338144702868978, -0.46022516820636905, -0.1316689730653726],\n",
       " [0.31004649349171076, -0.17931638096024521, -0.03485676683028212],\n",
       " [0.3515808697196056, -0.25454652763292446, -0.053578526105874894],\n",
       " [0.5987201876663132, 0.07986730732877133, -0.28907581995718523],\n",
       " [-0.8455983671696718, -0.8091806989500773, 0.06051758240937721],\n",
       " [0.27936068382388063, -0.3130805404025715, -0.09980610090189956],\n",
       " [2.723652784286514, -0.035827317804293185, 0.6466029169547706],\n",
       " [1.6808501344929836, -0.660773604223516, 0.38018213047514016],\n",
       " [2.799600558715761, 0.3469616193539854, -0.04436825195254923],\n",
       " [2.198814129309453, -0.22222449351287307, 0.16499586687129597],\n",
       " [2.552750908049483, -0.06313008085151367, 0.27763786387589545],\n",
       " [3.5270176110663316, 0.6221176869289237, -0.3691421534521617],\n",
       " [0.8480406083367598, -1.344419005974906, 0.6595863656961953],\n",
       " [3.093324210539421, 0.3972217035882203, -0.3803958938715767],\n",
       " [2.5238855432339355, -0.24018620835729418, -0.28568532735571317],\n",
       " [3.0809882158219817, 0.7792495427806473, 0.41793236392107747],\n",
       " [1.9093581321225193, 0.15646427444506214, 0.4192374246834336],\n",
       " [2.0414543472828814, -0.2673780379210485, 0.0856818301671271],\n",
       " [2.379159585118881, 0.1798927198961308, 0.14752020202560834],\n",
       " [1.6167457190492747, -0.8633957895710732, 0.3593563682521745],\n",
       " [1.8415653966029422, -0.6264624935822726, 0.6532153905216265],\n",
       " [2.1371569236501875, 0.04739414139519435, 0.5607578777014315],\n",
       " [2.1777789486223154, -0.0062218398038445255, 0.15273516718611735],\n",
       " [3.611581953593144, 1.2215620376039757, 0.10309616545221822],\n",
       " [3.8992960428431047, 0.3740659211272046, -0.6175615664843008],\n",
       " [1.5719384806101262, -0.8279534371648369, -0.168261626148418],\n",
       " [2.6244351087988274, 0.35217909266351133, 0.28062228002597],\n",
       " [1.4798025146913272, -0.7171465989095254, 0.601680402921102],\n",
       " [3.6224264391963854, 0.5510986429400547, -0.5927444288454968],\n",
       " [1.6541423121814516, -0.28991104622986896, 0.14693789031949855],\n",
       " [2.482355247962865, 0.2965130268643005, 0.3452059328703845],\n",
       " [2.7962884280468527, 0.5632234833786884, -0.10831298998654848],\n",
       " [1.5328513141666753, -0.2804824702365337, 0.2670479061802757],\n",
       " [1.5638267911149348, -0.22239617603801148, 0.41850606222902764],\n",
       " [2.341183657425845, -0.2422362929574661, 0.18692103600401555],\n",
       " [2.5844315101427857, 0.4597951365165396, -0.2855386398355625],\n",
       " [3.0081846144085747, 0.41060217194969195, -0.41348235577972103],\n",
       " [3.370863751830354, 1.4025466517849619, -0.025283174677899534],\n",
       " [2.3748919304821543, -0.24905613229603868, 0.22930628613249787],\n",
       " [1.7052839679755596, -0.22079381000896398, 0.051130280122025806],\n",
       " [2.0206221350472156, -0.5378921099713647, -0.09961901815755414],\n",
       " [3.2276213176182766, 0.7267175069793079, -0.2540980520035976],\n",
       " [2.3619332517893765, 0.07890800712622456, 0.7248424146625649],\n",
       " [2.1365342396748503, -0.006669558374968687, 0.2579657484388443],\n",
       " [1.4503618962717446, -0.28137790737878265, 0.47750906868572995],\n",
       " [2.324705798655864, 0.32703734769992854, 0.1793830741890814],\n",
       " [2.5190859844076523, 0.14910918874482934, 0.3650270990557317],\n",
       " [2.15198347756655, 0.34302655271616234, 0.3087918782701971],\n",
       " [1.6808501344929836, -0.660773604223516, 0.38018213047514016],\n",
       " [2.7511090811575687, 0.26356847762936053, 0.2949869826585215],\n",
       " [2.6171883401881004, 0.26923366951001015, 0.5147469333843135],\n",
       " [2.173018658253688, 0.1270238990071336, 0.32105257795537573],\n",
       " [1.7835490806482426, -0.4434277948011144, 0.05222968703178027],\n",
       " [2.005056627533002, 0.009767365212389106, 0.28214397126723295],\n",
       " [2.134713794822568, 0.03662240968848543, 0.7563396055988351],\n",
       " [1.6570821576977965, -0.3798648169773923, 0.4769943367102307]]"
      ]
     },
     "execution_count": 11,
     "metadata": {},
     "output_type": "execute_result"
    }
   ],
   "source": [
    "sample"
   ]
  },
  {
   "cell_type": "code",
   "execution_count": 12,
   "metadata": {},
   "outputs": [
    {
     "data": {
      "image/png": "[encoded data removed]",
      "text/plain": [
       "<Figure size 432x288 with 1 Axes>"
      ]
     },
     "metadata": {},
     "output_type": "display_data"
    },
    {
     "data": {
      "text/plain": [
       "<matplotlib.axes._subplots.Axes3DSubplot at 0x243f9381f98>"
      ]
     },
     "execution_count": 12,
     "metadata": {},
     "output_type": "execute_result"
    }
   ],
   "source": [
    "initial_centers = kmeans_plusplus_initializer(sample, 3).initialize()\n",
    "initial_centers_list=[]\n",
    "for center in initial_centers:\n",
    "    initial_centers_list.append(center.tolist())\n",
    "kmedians_instance = kmedians(sample,initial_centers_list)\n",
    "(ticks, result) = timedcall(kmedians_instance.process)\n",
    "clusters = kmedians_instance.get_clusters()\n",
    "centers = kmedians_instance.get_medians()\n",
    "draw_clusters(sample,clusters)"
   ]
  },
  {
   "cell_type": "code",
   "execution_count": 13,
   "metadata": {},
   "outputs": [
    {
     "name": "stdout",
     "output_type": "stream",
     "text": [
      "Execution Time:  0.005038842916564831 Sec\n"
     ]
    }
   ],
   "source": [
    "print('Execution Time: ',ticks,'Sec')"
   ]
  },
  {
   "cell_type": "markdown",
   "metadata": {},
   "source": [
    "**initial centers given**"
   ]
  },
  {
   "cell_type": "code",
   "execution_count": 14,
   "metadata": {
    "scrolled": true
   },
   "outputs": [
    {
     "name": "stdout",
     "output_type": "stream",
     "text": [
      "[[-2.7342753999040608, 0.5674408140997494, 0.06757716158601235], [2.7962884280468527, 0.5632234833786884, -0.10831298998654848], [0.5987201876663132, 0.07986730732877133, -0.28907581995718523]]\n"
     ]
    }
   ],
   "source": [
    "print(initial_centers_list)"
   ]
  },
  {
   "cell_type": "markdown",
   "metadata": {},
   "source": [
    "**Centroids of newly formed clusters**"
   ]
  },
  {
   "cell_type": "code",
   "execution_count": 15,
   "metadata": {},
   "outputs": [
    {
     "data": {
      "text/plain": [
       "[[-2.813744394888924, 0.17126314208941462, 0.05251606797843311],\n",
       " [2.3329447280408546, 0.06315107426070946, 0.26250682730956],\n",
       " [0.599133013879718, -0.25934665689216135, -0.24034789620628655]]"
      ]
     },
     "execution_count": 15,
     "metadata": {},
     "output_type": "execute_result"
    }
   ],
   "source": [
    "centers"
   ]
  },
  {
   "cell_type": "code",
   "execution_count": 20,
   "metadata": {},
   "outputs": [
    {
     "name": "stdout",
     "output_type": "stream",
     "text": [
      "Number of clusters found :3\n"
     ]
    }
   ],
   "source": [
    "print('Number of clusters found :'+str(len(clusters)))"
   ]
  },
  {
   "cell_type": "code",
   "execution_count": 17,
   "metadata": {},
   "outputs": [
    {
     "name": "stdout",
     "output_type": "stream",
     "text": [
      "[50, 50, 50]\n"
     ]
    },
    {
     "data": {
      "image/png": "[encoded data removed]",
      "text/plain": [
       "<Figure size 432x288 with 1 Axes>"
      ]
     },
     "metadata": {},
     "output_type": "display_data"
    }
   ],
   "source": [
    "c=[]\n",
    "for cluster in clusters:\n",
    "    c.append(len(cluster))\n",
    "print(c)\n",
    "cluster_label=['c1','c2','c3']\n",
    "plt.bar([1,2,3],height=c,tick_label=cluster_label)\n",
    "plt.ylabel('Number of objects')\n",
    "plt.xlabel('clusters')\n",
    "plt.show()"
   ]
  },
  {
   "cell_type": "code",
   "execution_count": 18,
   "metadata": {},
   "outputs": [],
   "source": [
    "sample1=pd.DataFrame(sample).values\n",
    "centers_list=np.array(centers)\n",
    "initial_centers_list1=np.array(initial_centers_list)"
   ]
  },
  {
   "cell_type": "code",
   "execution_count": 19,
   "metadata": {},
   "outputs": [
    {
     "data": {
      "text/plain": [
       "<matplotlib.legend.Legend at 0x243fa849358>"
      ]
     },
     "execution_count": 19,
     "metadata": {},
     "output_type": "execute_result"
    },
    {
     "data": {
      "image/png": "[encoded data removed]",
      "text/plain": [
       "<Figure size 432x288 with 1 Axes>"
      ]
     },
     "metadata": {},
     "output_type": "display_data"
    }
   ],
   "source": [
    "#Scatter plot with better cluster visualization\n",
    "plt.scatter(sample1[clusters[0],0],sample1[clusters[0],1],s=100,c='red',label='cluster 1')\n",
    "plt.scatter(sample1[clusters[1],0],sample1[clusters[1],1],s=100,c='green',label='cluster 2')\n",
    "plt.scatter(sample1[clusters[2],0],sample1[clusters[2],1],s=100,c='blue',label='cluster 3')\n",
    "\n",
    "#plot centers of respective new clusters\n",
    "plt.scatter(centers_list[:,0],centers_list[:,1],s=100,c='yellow',label='Final Centroids')\n",
    "\n",
    "#plot initial centers assigned to clusters\n",
    "plt.scatter(initial_centers_list1[:,0],initial_centers_list1[:,1],s=100,c='lightblue',label='Initial Centroids')\n",
    "\n",
    "\n",
    "plt.title('Cluster distribution using k-medians')\n",
    "plt.legend()"
   ]
  },
  {
   "cell_type": "code",
   "execution_count": null,
   "metadata": {},
   "outputs": [],
   "source": []
  }
 ],
 "metadata": {
  "kernelspec": {
   "display_name": "Python 3",
   "language": "python",
   "name": "python3"
  },
  "language_info": {
   "codemirror_mode": {
    "name": "ipython",
    "version": 3
   },
   "file_extension": ".py",
   "mimetype": "text/x-python",
   "name": "python",
   "nbconvert_exporter": "python",
   "pygments_lexer": "ipython3",
   "version": "3.6.4"
  }
 },
 "nbformat": 4,
 "nbformat_minor": 2
}
