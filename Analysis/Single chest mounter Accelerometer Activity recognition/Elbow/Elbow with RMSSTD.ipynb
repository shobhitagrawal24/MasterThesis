{
 "cells": [
  {
   "cell_type": "code",
   "execution_count": 1,
   "metadata": {},
   "outputs": [],
   "source": [
    "import pandas as pd\n",
    "import numpy as np\n",
    "import matplotlib.pyplot as plt \n",
    "from sklearn.decomposition import PCA\n",
    "from sklearn.cluster import KMeans\n",
    "from scipy.spatial.distance import cdist\n",
    "from sklearn.preprocessing import StandardScaler\n",
    "import math\n",
    "from sympy import Point,Line"
   ]
  },
  {
   "cell_type": "code",
   "execution_count": 2,
   "metadata": {},
   "outputs": [],
   "source": [
    "data = np.array(pd.read_csv('~/DataSet3/1.csv'))"
   ]
  },
  {
   "cell_type": "code",
   "execution_count": 3,
   "metadata": {},
   "outputs": [
    {
     "data": {
      "text/plain": [
       "array([1., 1., 1., ..., 7., 7., 0.])"
      ]
     },
     "execution_count": 3,
     "metadata": {},
     "output_type": "execute_result"
    }
   ],
   "source": [
    "data1=data[:,1:4]\n",
    "labels = data[:,-1]\n",
    "labels"
   ]
  },
  {
   "cell_type": "markdown",
   "metadata": {},
   "source": [
    "**Scalling data to normalize the effect of each dimention and also reduce effect of outliers**"
   ]
  },
  {
   "cell_type": "code",
   "execution_count": 6,
   "metadata": {},
   "outputs": [
    {
     "name": "stdout",
     "output_type": "stream",
     "text": [
      "[1910.67337231 2380.28738462 2041.21414154]\n"
     ]
    }
   ],
   "source": [
    "scaler = StandardScaler()\n",
    "scaler.fit(data1)\n",
    "sample = scaler.transform(data1)\n",
    "print(scaler.mean_)"
   ]
  },
  {
   "cell_type": "markdown",
   "metadata": {},
   "source": [
    "**Elbow Implimentation with Root Mean Squared Standered Deviation**"
   ]
  },
  {
   "cell_type": "code",
   "execution_count": 7,
   "metadata": {},
   "outputs": [
    {
     "name": "stdout",
     "output_type": "stream",
     "text": [
      "Cluster Mean= 0    1.174946\n",
      "1   -0.202737\n",
      "2    1.250414\n",
      "dtype: float64\n",
      "Cluster Mean= 0   -0.488704\n",
      "1    0.084326\n",
      "2   -0.520093\n",
      "dtype: float64\n",
      "RMSSTD = {2: 0.9427559834981563}\n",
      "Cluster Mean= 0   -1.464350\n",
      "1    3.069569\n",
      "2    0.271996\n",
      "dtype: float64\n",
      "Cluster Mean= 0   -0.405310\n",
      "1   -0.146013\n",
      "2   -0.562000\n",
      "dtype: float64\n",
      "Cluster Mean= 0    1.200547\n",
      "1   -0.192607\n",
      "2    1.264552\n",
      "dtype: float64\n",
      "RMSSTD = {2: 0.9427559834981563, 3: 0.8521823477590977}\n",
      "Cluster Mean= 0    1.230810\n",
      "1   -0.135660\n",
      "2    1.272767\n",
      "dtype: float64\n",
      "Cluster Mean= 0   -0.373574\n",
      "1    0.079010\n",
      "2   -0.624010\n",
      "dtype: float64\n",
      "Cluster Mean= 0   -1.485224\n",
      "1    3.135106\n",
      "2    0.285258\n",
      "dtype: float64\n",
      "Cluster Mean= 0   -0.578779\n",
      "1   -1.869531\n",
      "2    0.039070\n",
      "dtype: float64\n",
      "RMSSTD = {2: 0.9427559834981563, 3: 0.8521823477590977, 4: 0.7385672907617616}\n",
      "Cluster Mean= 0   -0.490896\n",
      "1   -2.068830\n",
      "2   -0.104629\n",
      "dtype: float64\n",
      "Cluster Mean= 0    1.399502\n",
      "1   -0.160472\n",
      "2    1.317156\n",
      "dtype: float64\n",
      "Cluster Mean= 0   -0.366617\n",
      "1    0.073311\n",
      "2   -0.817429\n",
      "dtype: float64\n",
      "Cluster Mean= 0   -1.499024\n",
      "1    3.253429\n",
      "2    0.243335\n",
      "dtype: float64\n",
      "Cluster Mean= 0   -0.335306\n",
      "1    0.026816\n",
      "2    0.584337\n",
      "dtype: float64\n",
      "RMSSTD = {2: 0.9427559834981563, 3: 0.8521823477590977, 4: 0.7385672907617616, 5: 0.6440396276057655}\n",
      "Cluster Mean= 0   -0.452591\n",
      "1   -2.116338\n",
      "2   -0.098216\n",
      "dtype: float64\n",
      "Cluster Mean= 0   -0.257502\n",
      "1    0.019631\n",
      "2    0.673981\n",
      "dtype: float64\n",
      "Cluster Mean= 0   -0.062002\n",
      "1    0.122985\n",
      "2   -0.862077\n",
      "dtype: float64\n",
      "Cluster Mean= 0    1.409782\n",
      "1   -0.163242\n",
      "2    1.326740\n",
      "dtype: float64\n",
      "Cluster Mean= 0   -1.479447\n",
      "1    3.313415\n",
      "2    0.262261\n",
      "dtype: float64\n",
      "Cluster Mean= 0   -0.834344\n",
      "1   -0.002946\n",
      "2   -0.671032\n",
      "dtype: float64\n",
      "RMSSTD = {2: 0.9427559834981563, 3: 0.8521823477590977, 4: 0.7385672907617616, 5: 0.6440396276057655, 6: 0.5814770766617315}\n",
      "Cluster Mean= 0   -0.047929\n",
      "1    0.125631\n",
      "2   -0.875282\n",
      "dtype: float64\n",
      "Cluster Mean= 0    1.412115\n",
      "1   -0.165361\n",
      "2    1.327531\n",
      "dtype: float64\n",
      "Cluster Mean= 0   -2.003287\n",
      "1    1.921399\n",
      "2   -0.071728\n",
      "dtype: float64\n",
      "Cluster Mean= 0   -0.452999\n",
      "1   -2.122987\n",
      "2   -0.093308\n",
      "dtype: float64\n",
      "Cluster Mean= 0   -1.075413\n",
      "1    3.940816\n",
      "2    0.538117\n",
      "dtype: float64\n",
      "Cluster Mean= 0   -0.777061\n",
      "1   -0.030786\n",
      "2   -0.679384\n",
      "dtype: float64\n",
      "Cluster Mean= 0   -0.221973\n",
      "1   -0.000793\n",
      "2    0.663511\n",
      "dtype: float64\n",
      "RMSSTD = {2: 0.9427559834981563, 3: 0.8521823477590977, 4: 0.7385672907617616, 5: 0.6440396276057655, 6: 0.5814770766617315, 7: 0.5647456347434593}\n",
      "Cluster Mean= 0    1.411911\n",
      "1   -0.164486\n",
      "2    1.327911\n",
      "dtype: float64\n",
      "Cluster Mean= 0   -0.779505\n",
      "1   -0.028460\n",
      "2   -0.679620\n",
      "dtype: float64\n",
      "Cluster Mean= 0   -1.075048\n",
      "1    3.967615\n",
      "2    0.562220\n",
      "dtype: float64\n",
      "Cluster Mean= 0   -0.048703\n",
      "1    0.125728\n",
      "2   -0.875055\n",
      "dtype: float64\n",
      "Cluster Mean= 0   -0.378447\n",
      "1   -2.048060\n",
      "2   -0.092424\n",
      "dtype: float64\n",
      "Cluster Mean= 0   -0.224969\n",
      "1    0.004059\n",
      "2    0.664966\n",
      "dtype: float64\n",
      "Cluster Mean= 0   -7.221542\n",
      "1   -7.627100\n",
      "2   -0.355922\n",
      "dtype: float64\n",
      "Cluster Mean= 0   -1.967241\n",
      "1    1.968497\n",
      "2   -0.087410\n",
      "dtype: float64\n",
      "RMSSTD = {2: 0.9427559834981563, 3: 0.8521823477590977, 4: 0.7385672907617616, 5: 0.6440396276057655, 6: 0.5814770766617315, 7: 0.5647456347434593, 8: 0.5600284083504513}\n",
      "Cluster Mean= 0   -0.305338\n",
      "1   -2.105631\n",
      "2   -0.156019\n",
      "dtype: float64\n",
      "Cluster Mean= 0   -1.902449\n",
      "1    2.138694\n",
      "2   -0.182811\n",
      "dtype: float64\n",
      "Cluster Mean= 0    1.418709\n",
      "1   -0.171837\n",
      "2    1.342663\n",
      "dtype: float64\n",
      "Cluster Mean= 0   -1.101406\n",
      "1   -0.357358\n",
      "2    0.780106\n",
      "dtype: float64\n",
      "Cluster Mean= 0   -1.091545\n",
      "1    4.036498\n",
      "2    0.646594\n",
      "dtype: float64\n",
      "Cluster Mean= 0    0.110876\n",
      "1    0.126436\n",
      "2    0.478332\n",
      "dtype: float64\n",
      "Cluster Mean= 0   -7.221542\n",
      "1   -7.627100\n",
      "2   -0.355922\n",
      "dtype: float64\n",
      "Cluster Mean= 0   -0.054423\n",
      "1    0.119702\n",
      "2   -0.918166\n",
      "dtype: float64\n",
      "Cluster Mean= 0   -0.736387\n",
      "1   -0.008386\n",
      "2   -0.704366\n",
      "dtype: float64\n",
      "RMSSTD = {2: 0.9427559834981563, 3: 0.8521823477590977, 4: 0.7385672907617616, 5: 0.6440396276057655, 6: 0.5814770766617315, 7: 0.5647456347434593, 8: 0.5600284083504513, 9: 0.5363162593039611}\n",
      "Cluster Mean= 0   -0.736731\n",
      "1    0.016381\n",
      "2   -0.702487\n",
      "dtype: float64\n",
      "Cluster Mean= 0    1.418370\n",
      "1   -0.167892\n",
      "2    1.343316\n",
      "dtype: float64\n",
      "Cluster Mean= 0   -1.088608\n",
      "1    4.033784\n",
      "2    0.670103\n",
      "dtype: float64\n",
      "Cluster Mean= 0    0.021482\n",
      "1   -2.588066\n",
      "2    0.032733\n",
      "dtype: float64\n",
      "Cluster Mean= 0    0.141001\n",
      "1    0.129604\n",
      "2    0.451557\n",
      "dtype: float64\n",
      "Cluster Mean= 0   -0.056855\n",
      "1    0.121208\n",
      "2   -0.923199\n",
      "dtype: float64\n",
      "Cluster Mean= 0   -1.912511\n",
      "1    2.185348\n",
      "2   -0.229445\n",
      "dtype: float64\n",
      "Cluster Mean= 0   -0.678789\n",
      "1   -1.468835\n",
      "2   -0.277151\n",
      "dtype: float64\n",
      "Cluster Mean= 0   -1.039802\n",
      "1   -0.188053\n",
      "2    0.894613\n",
      "dtype: float64\n",
      "Cluster Mean= 0   -7.221542\n",
      "1   -7.627100\n",
      "2   -0.355922\n",
      "dtype: float64\n",
      "RMSSTD = {2: 0.9427559834981563, 3: 0.8521823477590977, 4: 0.7385672907617616, 5: 0.6440396276057655, 6: 0.5814770766617315, 7: 0.5647456347434593, 8: 0.5600284083504513, 9: 0.5363162593039611, 10: 0.5229304636460335}\n"
     ]
    }
   ],
   "source": [
    "RMSSTD={}\n",
    "K = range(2,11)\n",
    "for k in K :\n",
    "    RMSSTD[k]=0\n",
    "    kmeansModel = KMeans(n_clusters=k)\n",
    "    labels= kmeansModel.fit_predict(sample)\n",
    "    centers = kmeansModel.cluster_centers_\n",
    "    sample_transformed = kmeansModel.fit_transform(sample)\n",
    "    for i in range(0,k):\n",
    "        cluster_datapoints = pd.DataFrame(sample[labels==i])\n",
    "        #print(cluster_datapoints.head())\n",
    "        \n",
    "        #Mean Value of each dimention of datapoints in this cluster\n",
    "        cluster_mean = cluster_datapoints.mean(axis=0)\n",
    "        print(\"Cluster Mean= \"+str(cluster_mean))\n",
    "        \n",
    "        for index,row in cluster_datapoints.iterrows():\n",
    "            err = cdist(row[np.newaxis,:],cluster_mean[np.newaxis,:], 'minkowski',p=2)\n",
    "            RMSSTD[k]=RMSSTD[k]+err\n",
    "    #Calculate the mean error for entire dataset\n",
    "    RMSSTD[k]=((RMSSTD[k]/len(sample))[0])[0]\n",
    "    print(\"RMSSTD = \"+str(RMSSTD))"
   ]
  },
  {
   "cell_type": "code",
   "execution_count": 8,
   "metadata": {},
   "outputs": [
    {
     "name": "stdout",
     "output_type": "stream",
     "text": [
      "[0.9427559834981563, 0.8521823477590977, 0.7385672907617616, 0.6440396276057655, 0.5814770766617315, 0.5647456347434593, 0.5600284083504513, 0.5363162593039611, 0.5229304636460335]\n"
     ]
    },
    {
     "data": {
      "text/plain": [
       "[[2, -0.09057363573905852],\n",
       " [3, -0.1136150569973361],\n",
       " [4, -0.09452766315599614],\n",
       " [5, -0.06256255094403396],\n",
       " [6, -0.01673144191827225],\n",
       " [7, -0.004717226393007978],\n",
       " [8, -0.023712149046490216],\n",
       " [9, -0.013385795657927635]]"
      ]
     },
     "execution_count": 8,
     "metadata": {},
     "output_type": "execute_result"
    }
   ],
   "source": [
    "SSE_array=[]\n",
    "slope=[]\n",
    "for key,value in RMSSTD.items():\n",
    "    SSE_array.append(value)\n",
    "print(SSE_array)\n",
    "\n",
    "#Calculate slope of each line\n",
    "for p in range(1,9):\n",
    "    s= (SSE_array[p]-SSE_array[p-1])\n",
    "    slope.append([p+1,s])\n",
    "slope"
   ]
  },
  {
   "cell_type": "code",
   "execution_count": 9,
   "metadata": {},
   "outputs": [
    {
     "data": {
      "image/png": "[encoded data removed]",
      "text/plain": [
       "<Figure size 432x288 with 1 Axes>"
      ]
     },
     "metadata": {},
     "output_type": "display_data"
    }
   ],
   "source": [
    "plt.plot(K,SSE_array,'bx-')\n",
    "plt.xlabel('number of clusters (n)')\n",
    "plt.ylabel('RMSSTD')\n",
    "plt.title('The Elbow Method showing the optimal k')\n",
    "plt.show()"
   ]
  },
  {
   "cell_type": "code",
   "execution_count": 10,
   "metadata": {},
   "outputs": [
    {
     "name": "stdout",
     "output_type": "stream",
     "text": [
      "Optimal Number of Clusters = 1\n",
      "Optimal Number of Clusters = 6\n"
     ]
    }
   ],
   "source": [
    "#chose the value after which there is a reduction in gain(rather loss)\n",
    "for a in range(0,7):\n",
    "    change_slope=(slope[a])[-1] - (slope[a+1])[-1]\n",
    "    if change_slope > 0:\n",
    "        print('Optimal Number of Clusters = '+str((slope[a][0])-1))"
   ]
  },
  {
   "cell_type": "code",
   "execution_count": 11,
   "metadata": {},
   "outputs": [
    {
     "name": "stdout",
     "output_type": "stream",
     "text": [
      "Optimal number 0f clusters = 6\n"
     ]
    }
   ],
   "source": [
    "distances=[]\n",
    "for i in range(0,9):\n",
    "    p1=Point(2,SSE_array[0])\n",
    "    p2=Point(10,SSE_array[8])\n",
    "    l1 = Line(p1,p2)\n",
    "    p=Point(i+2,SSE_array[i])\n",
    "    l2=l1.perpendicular_segment(p)\n",
    "    distances.append(l2.length)\n",
    "index=distances.index(np.max(distances))\n",
    "print('Optimal number 0f clusters = '+str(index+2))"
   ]
  },
  {
   "cell_type": "code",
   "execution_count": null,
   "metadata": {},
   "outputs": [],
   "source": []
  }
 ],
 "metadata": {
  "kernelspec": {
   "display_name": "Python 3",
   "language": "python",
   "name": "python3"
  },
  "language_info": {
   "codemirror_mode": {
    "name": "ipython",
    "version": 3
   },
   "file_extension": ".py",
   "mimetype": "text/x-python",
   "name": "python",
   "nbconvert_exporter": "python",
   "pygments_lexer": "ipython3",
   "version": "3.4.3"
  }
 },
 "nbformat": 4,
 "nbformat_minor": 2
}
