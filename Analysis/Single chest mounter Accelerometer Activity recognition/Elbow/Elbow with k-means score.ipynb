{
 "cells": [
  {
   "cell_type": "code",
   "execution_count": 1,
   "metadata": {},
   "outputs": [],
   "source": [
    "import pandas as pd\n",
    "import numpy as np\n",
    "import matplotlib.pyplot as plt \n",
    "from sklearn.decomposition import PCA\n",
    "from sklearn.cluster import KMeans\n",
    "from scipy.spatial.distance import cdist\n",
    "from sklearn.preprocessing import StandardScaler"
   ]
  },
  {
   "cell_type": "code",
   "execution_count": 2,
   "metadata": {},
   "outputs": [],
   "source": [
    "data = np.array(pd.read_csv('~/DataSet3/1.csv'))"
   ]
  },
  {
   "cell_type": "code",
   "execution_count": 3,
   "metadata": {},
   "outputs": [
    {
     "data": {
      "text/plain": [
       "array([1., 1., 1., ..., 7., 7., 0.])"
      ]
     },
     "execution_count": 3,
     "metadata": {},
     "output_type": "execute_result"
    }
   ],
   "source": [
    "data1=data[:,1:4]\n",
    "labels = data[:,-1]\n",
    "labels"
   ]
  },
  {
   "cell_type": "markdown",
   "metadata": {},
   "source": [
    "**Scalling data to normalize the effect of each dimention and also reduce effect of outliers**"
   ]
  },
  {
   "cell_type": "code",
   "execution_count": 4,
   "metadata": {},
   "outputs": [
    {
     "name": "stdout",
     "output_type": "stream",
     "text": [
      "[1910.67337231 2380.28738462 2041.21414154]\n"
     ]
    }
   ],
   "source": [
    "scaler = StandardScaler()\n",
    "scaler.fit(data1)\n",
    "sample_transformed = scaler.transform(data1)\n",
    "print(scaler.mean_)"
   ]
  },
  {
   "cell_type": "markdown",
   "metadata": {},
   "source": [
    "**Elbow Implimentation with kmeans score()**\n",
    "*i.e Sum of distances of samples to their closest cluster center*"
   ]
  },
  {
   "cell_type": "code",
   "execution_count": 5,
   "metadata": {},
   "outputs": [],
   "source": [
    "kmeans_score=[]\n",
    "slope1=[]\n",
    "sse=[]\n",
    "K = range(1,10)\n",
    "for k in K :\n",
    "    kmeansModel1 = KMeans(n_clusters=k)\n",
    "    labels=kmeansModel1.fit_predict(sample_transformed)\n",
    "    centers = kmeansModel1.cluster_centers_\n",
    "    #print(len(centers))\n",
    "    #print(kmeansModel1.labels_)\n",
    "    kmeans_score.append(kmeansModel1.score(sample_transformed))\n",
    "    #print(kmeans_score)\n",
    "    #sample_transformed = kmeansModel1.transform(sample)\n",
    "    #print(sample_transformed)\n",
    "    #Calculate slope of each line\n",
    "    if k>1:\n",
    "        s= (kmeans_score[-2]-kmeans_score[-1])\n",
    "        slope1.append([k,s])"
   ]
  },
  {
   "cell_type": "code",
   "execution_count": 7,
   "metadata": {},
   "outputs": [
    {
     "data": {
      "image/png": "[encoded data removed]",
      "text/plain": [
       "<Figure size 432x288 with 1 Axes>"
      ]
     },
     "metadata": {},
     "output_type": "display_data"
    }
   ],
   "source": [
    "plt.plot(K,kmeans_score,'bx-')\n",
    "plt.xlabel('k')\n",
    "plt.ylabel('k-means score')\n",
    "plt.title('The Elbow Method showing the optimal k')\n",
    "plt.show()"
   ]
  },
  {
   "cell_type": "code",
   "execution_count": 8,
   "metadata": {},
   "outputs": [
    {
     "data": {
      "text/plain": [
       "[[2, -201764.70883592113],\n",
       " [3, -88720.03832797802],\n",
       " [4, -48961.2017869399],\n",
       " [5, -26530.69666727149],\n",
       " [6, -11941.057266360687],\n",
       " [7, -8706.33673098126],\n",
       " [8, -7763.811971182309],\n",
       " [9, -8103.298153150172]]"
      ]
     },
     "execution_count": 8,
     "metadata": {},
     "output_type": "execute_result"
    }
   ],
   "source": [
    "slope1"
   ]
  },
  {
   "cell_type": "code",
   "execution_count": 9,
   "metadata": {},
   "outputs": [
    {
     "name": "stdout",
     "output_type": "stream",
     "text": [
      "Optimal Number of Clusters = 1\n",
      "Optimal Number of Clusters = 2\n",
      "Optimal Number of Clusters = 3\n",
      "Optimal Number of Clusters = 4\n",
      "Optimal Number of Clusters = 5\n",
      "Optimal Number of Clusters = 6\n"
     ]
    }
   ],
   "source": [
    "#chose the value after which there is a reduction in gain(rather loss)\n",
    "for a in range(0,7):\n",
    "    change_slope=(slope1[a])[-1] - (slope1[a+1])[-1]\n",
    "    if change_slope < 0:\n",
    "        print('Optimal Number of Clusters = '+str((slope1[a][0])-1))"
   ]
  },
  {
   "cell_type": "code",
   "execution_count": null,
   "metadata": {},
   "outputs": [],
   "source": []
  }
 ],
 "metadata": {
  "kernelspec": {
   "display_name": "Python 3",
   "language": "python",
   "name": "python3"
  },
  "language_info": {
   "codemirror_mode": {
    "name": "ipython",
    "version": 3
   },
   "file_extension": ".py",
   "mimetype": "text/x-python",
   "name": "python",
   "nbconvert_exporter": "python",
   "pygments_lexer": "ipython3",
   "version": "3.4.3"
  }
 },
 "nbformat": 4,
 "nbformat_minor": 2
}
