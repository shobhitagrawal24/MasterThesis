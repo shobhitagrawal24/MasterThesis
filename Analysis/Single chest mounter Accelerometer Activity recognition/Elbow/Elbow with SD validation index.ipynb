{
 "cells": [
  {
   "cell_type": "code",
   "execution_count": 1,
   "metadata": {},
   "outputs": [],
   "source": [
    "import pandas as pd\n",
    "import numpy as np\n",
    "import matplotlib.pyplot as plt \n",
    "from sklearn.decomposition import PCA\n",
    "from sklearn.cluster import KMeans\n",
    "from scipy.spatial.distance import cdist\n",
    "from sklearn.preprocessing import StandardScaler\n",
    "from numpy import linalg as LA\n",
    "from sklearn.metrics.pairwise import euclidean_distances"
   ]
  },
  {
   "cell_type": "code",
   "execution_count": 2,
   "metadata": {},
   "outputs": [],
   "source": [
    "data = np.array(pd.read_csv('~/DataSet3/1.csv'))"
   ]
  },
  {
   "cell_type": "code",
   "execution_count": 3,
   "metadata": {},
   "outputs": [
    {
     "data": {
      "text/plain": [
       "array([1., 1., 1., ..., 7., 7., 0.])"
      ]
     },
     "execution_count": 3,
     "metadata": {},
     "output_type": "execute_result"
    }
   ],
   "source": [
    "data1=data[:,1:4]\n",
    "labels = data[:,-1]\n",
    "labels"
   ]
  },
  {
   "cell_type": "markdown",
   "metadata": {},
   "source": [
    "**Scalling data to normalize the effect of each dimention and also reduce effect of outliers**"
   ]
  },
  {
   "cell_type": "code",
   "execution_count": 4,
   "metadata": {},
   "outputs": [
    {
     "name": "stdout",
     "output_type": "stream",
     "text": [
      "[1910.67337231 2380.28738462 2041.21414154]\n"
     ]
    }
   ],
   "source": [
    "scaler = StandardScaler()\n",
    "scaler.fit(data1)\n",
    "sample_transformed = scaler.transform(data1)\n",
    "print(scaler.mean_)"
   ]
  },
  {
   "cell_type": "markdown",
   "metadata": {},
   "source": [
    "**Elbow Implimentation with SD Validation Index**"
   ]
  },
  {
   "cell_type": "code",
   "execution_count": 10,
   "metadata": {},
   "outputs": [
    {
     "name": "stdout",
     "output_type": "stream",
     "text": [
      "Avg Scatering =0.8651466615274676\n",
      "D = 0.49190303391023193\n",
      "constant = 0.49190303391023193\n",
      "SD_index = {9: 0.9174713014929017}\n",
      "//\n",
      "Avg Scatering =0.950532614409949\n",
      "D = 0.49265333513985543\n",
      "constant = 0.49190303391023193\n",
      "SD_index = {8: 0.960223211998734, 9: 0.9174713014929017}\n",
      "//\n",
      "Avg Scatering =0.44393300055761353\n",
      "D = 0.44010580738331867\n",
      "constant = 0.49190303391023193\n",
      "SD_index = {8: 0.960223211998734, 9: 0.9174713014929017, 7: 0.6584777972104814}\n",
      "//\n",
      "Avg Scatering =0.4270809696984842\n",
      "D = 0.4902288369864593\n",
      "constant = 0.49190303391023193\n",
      "SD_index = {8: 0.960223211998734, 9: 0.9174713014929017, 6: 0.7003112617064675, 7: 0.6584777972104814}\n",
      "//\n",
      "Avg Scatering =0.5131489523811255\n",
      "D = 0.3162769000367486\n",
      "constant = 0.49190303391023193\n",
      "SD_index = {8: 0.960223211998734, 9: 0.9174713014929017, 5: 0.5686964265608814, 6: 0.7003112617064675, 7: 0.6584777972104814}\n",
      "//\n",
      "Avg Scatering =0.6221529449953782\n",
      "D = 0.24380998616337726\n",
      "constant = 0.49190303391023193\n",
      "SD_index = {4: 0.5498489073627895, 5: 0.5686964265608814, 6: 0.7003112617064675, 7: 0.6584777972104814, 8: 0.960223211998734, 9: 0.9174713014929017}\n",
      "//\n",
      "Avg Scatering =0.6503557688583151\n",
      "D = 0.26043646808084425\n",
      "constant = 0.49190303391023193\n",
      "SD_index = {3: 0.580348443903271, 4: 0.5498489073627895, 5: 0.5686964265608814, 6: 0.7003112617064675, 7: 0.6584777972104814, 8: 0.960223211998734, 9: 0.9174713014929017}\n",
      "//\n",
      "Avg Scatering =0.5852082061814899\n",
      "D = 0.4088803353960089\n",
      "constant = 0.49190303391023193\n",
      "SD_index = {2: 0.6967460274858484, 3: 0.580348443903271, 4: 0.5498489073627895, 5: 0.5686964265608814, 6: 0.7003112617064675, 7: 0.6584777972104814, 8: 0.960223211998734, 9: 0.9174713014929017}\n",
      "//\n"
     ]
    }
   ],
   "source": [
    "SD_INDEX={}\n",
    "K = range(9,1,-1)\n",
    "alpha=0\n",
    "#Variance of whole data and its Euclidean Norm\n",
    "sample_variance = pd.DataFrame(sample_transformed,columns=[\"PC1\",\"PC2\",\"PC3\"]).var()\n",
    "sample_variance_norm = LA.norm(sample_variance,2)\n",
    "#print(\"Sample variance =\"+str(sample_variance))\n",
    "for k in K :\n",
    "    SD_INDEX[k]=0\n",
    "    sum_inverse_dist=0\n",
    "    variance_norm=0\n",
    "    kmeansModel = KMeans(n_clusters=k)\n",
    "    labels= kmeansModel.fit_predict(sample_transformed)\n",
    "    \n",
    "    centers = kmeansModel.cluster_centers_\n",
    "    pairwise_center_dist = euclidean_distances(centers)\n",
    "    #print(pairwise_center_dist)\n",
    "    \n",
    "    #Maximum and Minimum distance between cluster centers\n",
    "    D_max = pairwise_center_dist.max()\n",
    "    D_min = pairwise_center_dist[np.nonzero(pairwise_center_dist)].min()\n",
    "    \n",
    "    sample_transformed1 = kmeansModel.fit_transform(sample_transformed)\n",
    "    for i in range(0,k):\n",
    "        cluster_datapoints = pd.DataFrame(sample_transformed[labels==i],columns=[\"PC1\",\"PC2\",\"PC3\"])\n",
    "        #print(cluster_datapoints.head())\n",
    "        \n",
    "        #Mean Value of each dimention of datapoints in this cluster\n",
    "        cluster_mean = cluster_datapoints.mean(axis=0)\n",
    "        \n",
    "        # Calculating Average Scattering for cluster\n",
    "        cluster_variance = cluster_datapoints.var()\n",
    "        #print(cluster_variance)\n",
    "        \n",
    "        # Calculating sum of Euclidean Norm or variance measured above for each cluster\n",
    "        variance_norm += LA.norm(cluster_variance,2)\n",
    "        #print(\"variance =\"+str(variance_norm))\n",
    "        \n",
    "        #Caculating Seperation betwrrn clusters \"D\"\n",
    "        sum_inverse_dist = sum_inverse_dist + 1/pairwise_center_dist.sum() \n",
    "        \n",
    "    mean_var_norm=variance_norm/k\n",
    "    avg_scattering =  mean_var_norm/sample_variance_norm\n",
    "    print(\"Avg Scatering =\"+str(avg_scattering))\n",
    "    \n",
    "    D = (D_max/D_min)*sum_inverse_dist\n",
    "    print(\"D = \"+str(D))\n",
    "    \n",
    "    if(k==9):\n",
    "        alpha = D\n",
    "    print(\"constant = \"+str(alpha))\n",
    "    \n",
    "    C = (alpha*avg_scattering) + D\n",
    "    SD_INDEX[k]=C\n",
    "    print(\"SD_index = \"+str(SD_INDEX))\n",
    "    print(\"//\")"
   ]
  },
  {
   "cell_type": "code",
   "execution_count": 11,
   "metadata": {},
   "outputs": [
    {
     "name": "stdout",
     "output_type": "stream",
     "text": [
      "[0.6967460274858484, 0.580348443903271, 0.5498489073627895, 0.5686964265608814, 0.7003112617064675, 0.6584777972104814, 0.960223211998734, 0.9174713014929017]\n"
     ]
    },
    {
     "data": {
      "text/plain": [
       "[[2, -0.11639758358257735],\n",
       " [3, -0.030499536540481542],\n",
       " [4, 0.01884751919809191],\n",
       " [5, 0.13161483514558614],\n",
       " [6, -0.04183346449598613],\n",
       " [7, 0.30174541478825256],\n",
       " [8, -0.04275191050583227]]"
      ]
     },
     "execution_count": 11,
     "metadata": {},
     "output_type": "execute_result"
    }
   ],
   "source": [
    "SSE_array=[]\n",
    "slope=[]\n",
    "for key,value in SD_INDEX.items():\n",
    "    SSE_array.append(value)\n",
    "print(SSE_array)\n",
    "\n",
    "#Calculate slope of each line\n",
    "for p in range(1,8):\n",
    "    s= (SSE_array[p]-SSE_array[p-1])\n",
    "    slope.append([p+1,s])\n",
    "slope"
   ]
  },
  {
   "cell_type": "code",
   "execution_count": 12,
   "metadata": {},
   "outputs": [
    {
     "data": {
      "image/png": "[encoded data removed]",
      "text/plain": [
       "<Figure size 432x288 with 1 Axes>"
      ]
     },
     "metadata": {},
     "output_type": "display_data"
    }
   ],
   "source": [
    "plt.plot(K,SSE_array,'bx-')\n",
    "plt.xlabel('k')\n",
    "plt.ylabel('SD-Index')\n",
    "plt.title('The Elbow Method showing the optimal k')\n",
    "plt.show()"
   ]
  },
  {
   "cell_type": "code",
   "execution_count": 13,
   "metadata": {},
   "outputs": [
    {
     "data": {
      "text/plain": [
       "[[2, -0.11639758358257735],\n",
       " [3, -0.030499536540481542],\n",
       " [4, 0.01884751919809191],\n",
       " [5, 0.13161483514558614],\n",
       " [6, -0.04183346449598613],\n",
       " [7, 0.30174541478825256],\n",
       " [8, -0.04275191050583227]]"
      ]
     },
     "execution_count": 13,
     "metadata": {},
     "output_type": "execute_result"
    }
   ],
   "source": [
    "slope"
   ]
  },
  {
   "cell_type": "code",
   "execution_count": 14,
   "metadata": {},
   "outputs": [
    {
     "name": "stdout",
     "output_type": "stream",
     "text": [
      "Optimal Number of Clusters = 1\n",
      "Optimal Number of Clusters = 2\n",
      "Optimal Number of Clusters = 3\n",
      "Optimal Number of Clusters = 5\n"
     ]
    }
   ],
   "source": [
    "#chose the value after which there is a reduction in gain(rather loss)\n",
    "for a in range(0,6):\n",
    "    change_slope=(slope[a])[-1] - (slope[a+1])[-1]\n",
    "    if change_slope < 0:\n",
    "        print('Optimal Number of Clusters = '+str((slope[a][0])-1))"
   ]
  },
  {
   "cell_type": "code",
   "execution_count": null,
   "metadata": {},
   "outputs": [],
   "source": []
  }
 ],
 "metadata": {
  "kernelspec": {
   "display_name": "Python 3",
   "language": "python",
   "name": "python3"
  },
  "language_info": {
   "codemirror_mode": {
    "name": "ipython",
    "version": 3
   },
   "file_extension": ".py",
   "mimetype": "text/x-python",
   "name": "python",
   "nbconvert_exporter": "python",
   "pygments_lexer": "ipython3",
   "version": "3.4.3"
  }
 },
 "nbformat": 4,
 "nbformat_minor": 2
}
