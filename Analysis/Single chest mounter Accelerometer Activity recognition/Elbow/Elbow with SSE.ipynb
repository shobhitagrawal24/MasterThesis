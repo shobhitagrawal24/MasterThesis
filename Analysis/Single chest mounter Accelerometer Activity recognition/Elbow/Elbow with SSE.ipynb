{
 "cells": [
  {
   "cell_type": "code",
   "execution_count": 1,
   "metadata": {},
   "outputs": [],
   "source": [
    "import pandas as pd\n",
    "import numpy as np\n",
    "import matplotlib.pyplot as plt \n",
    "from sklearn.decomposition import PCA\n",
    "from sklearn.cluster import KMeans\n",
    "from scipy.spatial.distance import cdist\n",
    "from sklearn.preprocessing import StandardScaler"
   ]
  },
  {
   "cell_type": "code",
   "execution_count": 2,
   "metadata": {},
   "outputs": [],
   "source": [
    "data = np.array(pd.read_csv('~/DataSet3/1.csv'))"
   ]
  },
  {
   "cell_type": "code",
   "execution_count": 3,
   "metadata": {},
   "outputs": [
    {
     "data": {
      "text/plain": [
       "array([1., 1., 1., ..., 7., 7., 0.])"
      ]
     },
     "execution_count": 3,
     "metadata": {},
     "output_type": "execute_result"
    }
   ],
   "source": [
    "data1=data[:,1:4]\n",
    "labels = data[:,-1]\n",
    "labels"
   ]
  },
  {
   "cell_type": "markdown",
   "metadata": {},
   "source": [
    "**Scalling data to normalize the effect of each dimention and also reduce effect of outliers**"
   ]
  },
  {
   "cell_type": "code",
   "execution_count": 4,
   "metadata": {},
   "outputs": [
    {
     "name": "stdout",
     "output_type": "stream",
     "text": [
      "[1910.67337231 2380.28738462 2041.21414154]\n"
     ]
    }
   ],
   "source": [
    "scaler = StandardScaler()\n",
    "scaler.fit(data1)\n",
    "sample = scaler.transform(data1)\n",
    "print(scaler.mean_)"
   ]
  },
  {
   "cell_type": "markdown",
   "metadata": {},
   "source": [
    "**Elbow implementation with Sum Of Squared Error as validation matrix**"
   ]
  },
  {
   "cell_type": "code",
   "execution_count": 10,
   "metadata": {},
   "outputs": [
    {
     "name": "stdout",
     "output_type": "stream",
     "text": [
      "cluster mean =1.4785656756047578\n",
      "{1: 132249.57572505824}\n",
      "cluster mean =1.019762610658836\n",
      "cluster mean =0.7583576708176816\n",
      "{1: 132249.57572505824, 2: 138958.0989734966}\n",
      "cluster mean =0.8592000888696462\n",
      "cluster mean =0.673657559815194\n",
      "cluster mean =1.7862063953263452\n",
      "{1: 132249.57572505824, 2: 138958.0989734966, 3: 70507.09383493863}\n",
      "cluster mean =3.723617085443718\n",
      "cluster mean =0.6032027497114588\n",
      "cluster mean =2.1865619388378867\n",
      "cluster mean =5.204204987400859\n",
      "{1: 132249.57572505824, 2: 138958.0989734966, 3: 70507.09383493863, 4: 47811.702755825514}\n",
      "cluster mean =2.8240137579849507\n",
      "cluster mean =2.8227902287116224\n",
      "cluster mean =1.7445291034845547\n",
      "cluster mean =2.4298979653401602\n",
      "cluster mean =2.3602165458384348\n",
      "{1: 132249.57572505824, 2: 138958.0989734966, 3: 70507.09383493863, 4: 47811.702755825514, 5: 42120.27982835231}\n",
      "cluster mean =0.44733865710896314\n",
      "cluster mean =0.4660228025919588\n",
      "cluster mean =1.7256622524555425\n",
      "cluster mean =2.411192865703072\n",
      "cluster mean =2.580314464684374\n",
      "cluster mean =1.6021739633224772\n",
      "{1: 132249.57572505824, 2: 138958.0989734966, 3: 70507.09383493863, 4: 47811.702755825514, 5: 42120.27982835231, 6: 42342.300985158254}\n",
      "cluster mean =1.8627444636713402\n",
      "cluster mean =0.8867183877253687\n",
      "cluster mean =4.912769403028373\n",
      "cluster mean =5.546256215384928\n",
      "cluster mean =2.342170324139322\n",
      "cluster mean =10.874680998367925\n",
      "cluster mean =9.966495089896963\n",
      "{1: 132249.57572505824, 2: 138958.0989734966, 3: 70507.09383493863, 4: 47811.702755825514, 5: 42120.27982835231, 6: 42342.300985158254, 7: 35658.37319452032}\n",
      "cluster mean =2.71997949004843\n",
      "cluster mean =2.7148125586472918\n",
      "cluster mean =2.8035792460161457\n",
      "cluster mean =4.607810114619729\n",
      "cluster mean =6.292375338823574\n",
      "cluster mean =9.609621676306206\n",
      "cluster mean =1.5061910336845878\n",
      "cluster mean =1.5760671586329953\n",
      "{1: 132249.57572505824, 2: 138958.0989734966, 3: 70507.09383493863, 4: 47811.702755825514, 5: 42120.27982835231, 6: 42342.300985158254, 7: 35658.37319452032, 8: 38613.044595809246}\n",
      "cluster mean =1.5041970620563636\n",
      "cluster mean =2.633547674641231\n",
      "cluster mean =2.7435753904284566\n",
      "cluster mean =2.7349980652278783\n",
      "cluster mean =2.4415529720507383\n",
      "cluster mean =2.3119650034837593\n",
      "cluster mean =2.7410700389790015\n",
      "cluster mean =2.8436149714612102\n",
      "cluster mean =10.694951780661974\n",
      "{1: 132249.57572505824, 2: 138958.0989734966, 3: 70507.09383493863, 4: 47811.702755825514, 5: 42120.27982835231, 6: 42342.300985158254, 7: 35658.37319452032, 8: 38613.044595809246, 9: 38518.55848728166}\n"
     ]
    }
   ],
   "source": [
    "SSE={}\n",
    "K = range(1,10)\n",
    "for k in K :\n",
    "    SSE[k]=0\n",
    "    kmeansModel = KMeans(n_clusters=k)\n",
    "    labels= kmeansModel.fit_predict(sample)\n",
    "    centers = kmeansModel.cluster_centers_\n",
    "    sample_transformed = kmeansModel.fit_transform(sample)\n",
    "    #print(labels)\n",
    "    #print(sample_transformed)\n",
    "    for i in range(0,k):\n",
    "        #print('shit')\n",
    "        cluster_datapoints = sample_transformed[labels==i]\n",
    "        #print(cluster_datapoints)\n",
    "        #Mean distance of data points in this cluster from center\n",
    "        cluster_mean = cluster_datapoints[:,i].mean()\n",
    "        print('cluster mean ='+str(cluster_mean))\n",
    "        #Calculate Sum of Squared error by substracting cluster mean \n",
    "        #from distance of each point from respective centers \n",
    "        for datapoint in cluster_datapoints:\n",
    "            SSE[k]+= (datapoint[i]-cluster_mean)**2\n",
    "    print(SSE)"
   ]
  },
  {
   "cell_type": "code",
   "execution_count": 11,
   "metadata": {},
   "outputs": [
    {
     "name": "stdout",
     "output_type": "stream",
     "text": [
      "[132249.57572505824, 138958.0989734966, 70507.09383493863, 47811.702755825514, 42120.27982835231, 42342.300985158254, 35658.37319452032, 38613.044595809246, 38518.55848728166]\n"
     ]
    },
    {
     "data": {
      "text/plain": [
       "[[2, 6708.523248438374],\n",
       " [3, -68451.00513855799],\n",
       " [4, -22695.391079113113],\n",
       " [5, -5691.422927473206],\n",
       " [6, 222.0211568059458],\n",
       " [7, -6683.927790637936],\n",
       " [8, 2954.671401288928],\n",
       " [9, -94.48610852758429]]"
      ]
     },
     "execution_count": 11,
     "metadata": {},
     "output_type": "execute_result"
    }
   ],
   "source": [
    "SSE_array=[]\n",
    "slope=[]\n",
    "for key,value in SSE.items():\n",
    "    SSE_array.append(value)\n",
    "print(SSE_array)\n",
    "\n",
    "#Calculate slope of each line\n",
    "for p in range(1,9):\n",
    "    s= (SSE_array[p]-SSE_array[p-1])\n",
    "    slope.append([p+1,s])\n",
    "slope"
   ]
  },
  {
   "cell_type": "code",
   "execution_count": 12,
   "metadata": {},
   "outputs": [
    {
     "data": {
      "image/png": "[encoded data removed]",
      "text/plain": [
       "<Figure size 432x288 with 1 Axes>"
      ]
     },
     "metadata": {},
     "output_type": "display_data"
    }
   ],
   "source": [
    "plt.plot(K,SSE_array,'bx-')\n",
    "plt.xlabel('Number Of Clusters')\n",
    "plt.ylabel('Sum Of Squared Error')\n",
    "plt.title('The Elbow Method showing the optimal k')\n",
    "plt.show()"
   ]
  },
  {
   "cell_type": "code",
   "execution_count": 13,
   "metadata": {},
   "outputs": [
    {
     "data": {
      "text/plain": [
       "[[2, 6708.523248438374],\n",
       " [3, -68451.00513855799],\n",
       " [4, -22695.391079113113],\n",
       " [5, -5691.422927473206],\n",
       " [6, 222.0211568059458],\n",
       " [7, -6683.927790637936],\n",
       " [8, 2954.671401288928],\n",
       " [9, -94.48610852758429]]"
      ]
     },
     "execution_count": 13,
     "metadata": {},
     "output_type": "execute_result"
    }
   ],
   "source": [
    "slope"
   ]
  },
  {
   "cell_type": "code",
   "execution_count": 14,
   "metadata": {},
   "outputs": [
    {
     "name": "stdout",
     "output_type": "stream",
     "text": [
      "Optimal Number of Clusters = 1\n",
      "Optimal Number of Clusters = 5\n",
      "Optimal Number of Clusters = 7\n"
     ]
    }
   ],
   "source": [
    "#chose the value after which there is a reduction in gain(rather loss)\n",
    "for a in range(0,7):\n",
    "    change_slope=(slope[a])[-1] - (slope[a+1])[-1]\n",
    "    if change_slope > 0:\n",
    "        print('Optimal Number of Clusters = '+str((slope[a][0])-1))"
   ]
  },
  {
   "cell_type": "code",
   "execution_count": null,
   "metadata": {},
   "outputs": [],
   "source": []
  }
 ],
 "metadata": {
  "kernelspec": {
   "display_name": "Python 3",
   "language": "python",
   "name": "python3"
  },
  "language_info": {
   "codemirror_mode": {
    "name": "ipython",
    "version": 3
   },
   "file_extension": ".py",
   "mimetype": "text/x-python",
   "name": "python",
   "nbconvert_exporter": "python",
   "pygments_lexer": "ipython3",
   "version": "3.4.3"
  }
 },
 "nbformat": 4,
 "nbformat_minor": 2
}
