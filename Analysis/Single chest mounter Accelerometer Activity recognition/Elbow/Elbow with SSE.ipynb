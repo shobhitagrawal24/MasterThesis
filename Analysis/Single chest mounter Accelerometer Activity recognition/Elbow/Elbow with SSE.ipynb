{
 "cells": [
  {
   "cell_type": "code",
   "execution_count": 2,
   "metadata": {},
   "outputs": [],
   "source": [
    "import pandas as pd\n",
    "import numpy as np\n",
    "import matplotlib.pyplot as plt \n",
    "from sklearn.decomposition import PCA\n",
    "from sklearn.cluster import KMeans\n",
    "from scipy.spatial.distance import cdist\n",
    "from sklearn.preprocessing import StandardScaler\n",
    "from sympy import Point,Line"
   ]
  },
  {
   "cell_type": "code",
   "execution_count": 3,
   "metadata": {},
   "outputs": [
    {
     "data": {
      "text/html": [
       "<div>\n",
       "<style scoped>\n",
       "    .dataframe tbody tr th:only-of-type {\n",
       "        vertical-align: middle;\n",
       "    }\n",
       "\n",
       "    .dataframe tbody tr th {\n",
       "        vertical-align: top;\n",
       "    }\n",
       "\n",
       "    .dataframe thead th {\n",
       "        text-align: right;\n",
       "    }\n",
       "</style>\n",
       "<table border=\"1\" class=\"dataframe\">\n",
       "  <thead>\n",
       "    <tr style=\"text-align: right;\">\n",
       "      <th></th>\n",
       "      <th>0</th>\n",
       "      <th>1502</th>\n",
       "      <th>2215</th>\n",
       "      <th>2153</th>\n",
       "      <th>1</th>\n",
       "    </tr>\n",
       "  </thead>\n",
       "  <tbody>\n",
       "    <tr>\n",
       "      <th>0</th>\n",
       "      <td>1.0</td>\n",
       "      <td>1667</td>\n",
       "      <td>2072</td>\n",
       "      <td>2047</td>\n",
       "      <td>1</td>\n",
       "    </tr>\n",
       "    <tr>\n",
       "      <th>1</th>\n",
       "      <td>2.0</td>\n",
       "      <td>1611</td>\n",
       "      <td>1957</td>\n",
       "      <td>1906</td>\n",
       "      <td>1</td>\n",
       "    </tr>\n",
       "    <tr>\n",
       "      <th>2</th>\n",
       "      <td>3.0</td>\n",
       "      <td>1601</td>\n",
       "      <td>1939</td>\n",
       "      <td>1831</td>\n",
       "      <td>1</td>\n",
       "    </tr>\n",
       "    <tr>\n",
       "      <th>3</th>\n",
       "      <td>4.0</td>\n",
       "      <td>1643</td>\n",
       "      <td>1965</td>\n",
       "      <td>1879</td>\n",
       "      <td>1</td>\n",
       "    </tr>\n",
       "    <tr>\n",
       "      <th>4</th>\n",
       "      <td>5.0</td>\n",
       "      <td>1604</td>\n",
       "      <td>1959</td>\n",
       "      <td>1921</td>\n",
       "      <td>1</td>\n",
       "    </tr>\n",
       "  </tbody>\n",
       "</table>\n",
       "</div>"
      ],
      "text/plain": [
       "     0  1502  2215  2153  1\n",
       "0  1.0  1667  2072  2047  1\n",
       "1  2.0  1611  1957  1906  1\n",
       "2  3.0  1601  1939  1831  1\n",
       "3  4.0  1643  1965  1879  1\n",
       "4  5.0  1604  1959  1921  1"
      ]
     },
     "execution_count": 3,
     "metadata": {},
     "output_type": "execute_result"
    }
   ],
   "source": [
    "data = pd.read_csv('~/DataSet3/1.csv')\n",
    "data.head()"
   ]
  },
  {
   "cell_type": "code",
   "execution_count": 4,
   "metadata": {},
   "outputs": [
    {
     "data": {
      "text/html": [
       "<div>\n",
       "<style scoped>\n",
       "    .dataframe tbody tr th:only-of-type {\n",
       "        vertical-align: middle;\n",
       "    }\n",
       "\n",
       "    .dataframe tbody tr th {\n",
       "        vertical-align: top;\n",
       "    }\n",
       "\n",
       "    .dataframe thead th {\n",
       "        text-align: right;\n",
       "    }\n",
       "</style>\n",
       "<table border=\"1\" class=\"dataframe\">\n",
       "  <thead>\n",
       "    <tr style=\"text-align: right;\">\n",
       "      <th></th>\n",
       "      <th>1502</th>\n",
       "      <th>2215</th>\n",
       "      <th>2153</th>\n",
       "    </tr>\n",
       "  </thead>\n",
       "  <tbody>\n",
       "    <tr>\n",
       "      <th>0</th>\n",
       "      <td>1667</td>\n",
       "      <td>2072</td>\n",
       "      <td>2047</td>\n",
       "    </tr>\n",
       "    <tr>\n",
       "      <th>1</th>\n",
       "      <td>1611</td>\n",
       "      <td>1957</td>\n",
       "      <td>1906</td>\n",
       "    </tr>\n",
       "    <tr>\n",
       "      <th>2</th>\n",
       "      <td>1601</td>\n",
       "      <td>1939</td>\n",
       "      <td>1831</td>\n",
       "    </tr>\n",
       "    <tr>\n",
       "      <th>3</th>\n",
       "      <td>1643</td>\n",
       "      <td>1965</td>\n",
       "      <td>1879</td>\n",
       "    </tr>\n",
       "    <tr>\n",
       "      <th>4</th>\n",
       "      <td>1604</td>\n",
       "      <td>1959</td>\n",
       "      <td>1921</td>\n",
       "    </tr>\n",
       "  </tbody>\n",
       "</table>\n",
       "</div>"
      ],
      "text/plain": [
       "   1502  2215  2153\n",
       "0  1667  2072  2047\n",
       "1  1611  1957  1906\n",
       "2  1601  1939  1831\n",
       "3  1643  1965  1879\n",
       "4  1604  1959  1921"
      ]
     },
     "execution_count": 4,
     "metadata": {},
     "output_type": "execute_result"
    }
   ],
   "source": [
    "data1=data.iloc[:,1:4]\n",
    "labels = data.iloc[:,-1]\n",
    "data1.head()"
   ]
  },
  {
   "cell_type": "markdown",
   "metadata": {},
   "source": [
    "**Scalling data to normalize the effect of each dimention and also reduce effect of outliers**"
   ]
  },
  {
   "cell_type": "code",
   "execution_count": 5,
   "metadata": {},
   "outputs": [
    {
     "name": "stdout",
     "output_type": "stream",
     "text": [
      "[1910.67337231 2380.28738462 2041.21414154]\n"
     ]
    }
   ],
   "source": [
    "scaler = StandardScaler()\n",
    "sample=scaler.fit_transform(data1)\n",
    "print(scaler.mean_)"
   ]
  },
  {
   "cell_type": "markdown",
   "metadata": {},
   "source": [
    "**Elbow implementation with Sum Of Squared Error as validation matrix**"
   ]
  },
  {
   "cell_type": "code",
   "execution_count": 20,
   "metadata": {},
   "outputs": [
    {
     "name": "stdout",
     "output_type": "stream",
     "text": [
      "cluster mean =2.7082954373013552\n",
      "cluster mean =2.603809020679229\n",
      "{2: 91904.80925405874}\n",
      "cluster mean =0.8591721791931067\n",
      "cluster mean =4.385182167741584\n",
      "cluster mean =4.618924073399247\n",
      "{2: 91904.80925405874, 3: 72766.78941190445}\n",
      "cluster mean =3.4484604269560957\n",
      "cluster mean =0.6032368836158207\n",
      "cluster mean =5.317013896615993\n",
      "cluster mean =2.3448714246433293\n",
      "{2: 91904.80925405874, 3: 72766.78941190445, 4: 47642.024886917}\n",
      "cluster mean =3.2063711601053577\n",
      "cluster mean =1.6085495924727404\n",
      "cluster mean =1.4927356652328492\n",
      "cluster mean =4.63419387148778\n",
      "cluster mean =5.646025467816896\n",
      "{2: 91904.80925405874, 3: 72766.78941190445, 4: 47642.024886917, 5: 45014.00260959689}\n",
      "cluster mean =2.4370544078666816\n",
      "cluster mean =2.4187272984251575\n",
      "cluster mean =0.4476464428167907\n",
      "cluster mean =1.7259243664440438\n",
      "cluster mean =1.5493129050306134\n",
      "cluster mean =1.7086804988918887\n",
      "{2: 91904.80925405874, 3: 72766.78941190445, 4: 47642.024886917, 5: 45014.00260959689, 6: 41964.15250883936}\n",
      "cluster mean =0.3899606720425255\n",
      "cluster mean =1.9043417263480815\n",
      "cluster mean =3.5762480687920384\n",
      "cluster mean =2.6519460627630527\n",
      "cluster mean =2.4911463724989424\n",
      "cluster mean =6.249464827482431\n",
      "cluster mean =11.54843778822012\n",
      "{2: 91904.80925405874, 3: 72766.78941190445, 4: 47642.024886917, 5: 45014.00260959689, 6: 41964.15250883936, 7: 37215.510369648044}\n",
      "cluster mean =0.35776576528268106\n",
      "cluster mean =0.43144907764234347\n",
      "cluster mean =4.059423992045138\n",
      "cluster mean =3.067247710672496\n",
      "cluster mean =1.0283099217799647\n",
      "cluster mean =2.451133563244736\n",
      "cluster mean =4.530021422885571\n",
      "cluster mean =9.586283955994228\n",
      "{2: 91904.80925405874, 3: 72766.78941190445, 4: 47642.024886917, 5: 45014.00260959689, 6: 41964.15250883936, 7: 37215.510369648044, 8: 37057.707774029375}\n",
      "cluster mean =2.212726833408332\n",
      "cluster mean =2.997340353173999\n",
      "cluster mean =1.5602543125326773\n",
      "cluster mean =0.9435682851464556\n",
      "cluster mean =1.652657017339577\n",
      "cluster mean =2.083826338727917\n",
      "cluster mean =2.9882481466114337\n",
      "cluster mean =11.155720365168602\n",
      "cluster mean =10.32871546810014\n",
      "{2: 91904.80925405874, 3: 72766.78941190445, 4: 47642.024886917, 5: 45014.00260959689, 6: 41964.15250883936, 7: 37215.510369648044, 8: 37057.707774029375, 9: 29480.157243052687}\n",
      "cluster mean =1.6221131510277758\n",
      "cluster mean =1.6949184350682183\n",
      "cluster mean =5.292395971048526\n",
      "cluster mean =2.8486201038046635\n",
      "cluster mean =4.656873056335114\n",
      "cluster mean =4.70202616818162\n",
      "cluster mean =10.568747828538214\n",
      "cluster mean =2.8974983711193576\n",
      "cluster mean =12.62147814386249\n",
      "cluster mean =2.3118145382514284\n",
      "{2: 91904.80925405874, 3: 72766.78941190445, 4: 47642.024886917, 5: 45014.00260959689, 6: 41964.15250883936, 7: 37215.510369648044, 8: 37057.707774029375, 9: 29480.157243052687, 10: 28763.38179945507}\n"
     ]
    }
   ],
   "source": [
    "SSE={}\n",
    "K = range(2,11)\n",
    "for k in K :\n",
    "    SSE[k]=0\n",
    "    kmeansModel = KMeans(n_clusters=k)\n",
    "    labels= kmeansModel.fit_predict(sample)\n",
    "    centers = kmeansModel.cluster_centers_\n",
    "    sample_transformed = kmeansModel.fit_transform(sample)\n",
    "    #print(labels)\n",
    "    #print(sample_transformed)\n",
    "    for i in range(0,k):\n",
    "        #print('shit')\n",
    "        cluster_datapoints = sample_transformed[labels==i]\n",
    "        #print(cluster_datapoints)\n",
    "        #Mean distance of data points in this cluster from center\n",
    "        cluster_mean = cluster_datapoints[:,i].mean()\n",
    "        print('cluster mean ='+str(cluster_mean))\n",
    "        #Calculate Sum of Squared error by substracting cluster mean \n",
    "        #from distance of each point from respective centers \n",
    "        for datapoint in cluster_datapoints:\n",
    "            SSE[k]+= (datapoint[i]-cluster_mean)**2\n",
    "    print(SSE)"
   ]
  },
  {
   "cell_type": "code",
   "execution_count": 21,
   "metadata": {},
   "outputs": [
    {
     "name": "stdout",
     "output_type": "stream",
     "text": [
      "[91904.80925405874, 72766.78941190445, 47642.024886917, 45014.00260959689, 41964.15250883936, 37215.510369648044, 37057.707774029375, 29480.157243052687, 28763.38179945507]\n"
     ]
    },
    {
     "data": {
      "text/plain": [
       "[[2, -19138.01984215429],\n",
       " [3, -25124.764524987448],\n",
       " [4, -2628.0222773201094],\n",
       " [5, -3049.8501007575323],\n",
       " [6, -4748.642139191317],\n",
       " [7, -157.80259561866842],\n",
       " [8, -7577.550530976689],\n",
       " [9, -716.7754435976167]]"
      ]
     },
     "execution_count": 21,
     "metadata": {},
     "output_type": "execute_result"
    }
   ],
   "source": [
    "SSE_array=[]\n",
    "slope=[]\n",
    "for key,value in SSE.items():\n",
    "    SSE_array.append(value)\n",
    "print(SSE_array)\n",
    "\n",
    "#Calculate slope of each line\n",
    "for p in range(1,9):\n",
    "    s= (SSE_array[p]-SSE_array[p-1])\n",
    "    slope.append([p+1,s])\n",
    "slope"
   ]
  },
  {
   "cell_type": "code",
   "execution_count": 22,
   "metadata": {},
   "outputs": [
    {
     "data": {
      "image/png": "[encoded data removed]",
      "text/plain": [
       "<Figure size 432x288 with 1 Axes>"
      ]
     },
     "metadata": {},
     "output_type": "display_data"
    }
   ],
   "source": [
    "plt.plot(K,SSE_array,'bx-')\n",
    "plt.xlabel('Number Of Clusters')\n",
    "plt.ylabel('Sum Of Squared Error')\n",
    "plt.title('The Elbow Method showing the optimal k')\n",
    "plt.show()"
   ]
  },
  {
   "cell_type": "code",
   "execution_count": 23,
   "metadata": {},
   "outputs": [
    {
     "data": {
      "text/plain": [
       "[[2, -19138.01984215429],\n",
       " [3, -25124.764524987448],\n",
       " [4, -2628.0222773201094],\n",
       " [5, -3049.8501007575323],\n",
       " [6, -4748.642139191317],\n",
       " [7, -157.80259561866842],\n",
       " [8, -7577.550530976689],\n",
       " [9, -716.7754435976167]]"
      ]
     },
     "execution_count": 23,
     "metadata": {},
     "output_type": "execute_result"
    }
   ],
   "source": [
    "slope"
   ]
  },
  {
   "cell_type": "code",
   "execution_count": 24,
   "metadata": {},
   "outputs": [
    {
     "name": "stdout",
     "output_type": "stream",
     "text": [
      "Optimal Number of Clusters = 1\n",
      "Optimal Number of Clusters = 3\n",
      "Optimal Number of Clusters = 4\n",
      "Optimal Number of Clusters = 6\n"
     ]
    }
   ],
   "source": [
    "#chose the value after which there is a reduction in gain(rather loss)\n",
    "for a in range(0,7):\n",
    "    change_slope=(slope[a])[-1] - (slope[a+1])[-1]\n",
    "    if change_slope > 0:\n",
    "        print('Optimal Number of Clusters = '+str((slope[a][0])-1))"
   ]
  },
  {
   "cell_type": "code",
   "execution_count": 25,
   "metadata": {},
   "outputs": [
    {
     "name": "stdout",
     "output_type": "stream",
     "text": [
      "Optimal number 0f clusters = 4\n"
     ]
    }
   ],
   "source": [
    "distances=[]\n",
    "for i in range(0,9):\n",
    "    p1=Point(2,SSE_array[0])\n",
    "    p2=Point(10,SSE_array[8])\n",
    "    l1 = Line(p1,p2)\n",
    "    p=Point(i+2,SSE_array[i])\n",
    "    l2=l1.perpendicular_segment(p)\n",
    "    distances.append(l2.length)\n",
    "index=distances.index(np.max(distances))\n",
    "print('Optimal number 0f clusters = '+str(index+2))"
   ]
  },
  {
   "cell_type": "code",
   "execution_count": null,
   "metadata": {},
   "outputs": [],
   "source": []
  }
 ],
 "metadata": {
  "kernelspec": {
   "display_name": "Python 3",
   "language": "python",
   "name": "python3"
  },
  "language_info": {
   "codemirror_mode": {
    "name": "ipython",
    "version": 3
   },
   "file_extension": ".py",
   "mimetype": "text/x-python",
   "name": "python",
   "nbconvert_exporter": "python",
   "pygments_lexer": "ipython3",
   "version": "3.4.3"
  }
 },
 "nbformat": 4,
 "nbformat_minor": 2
}
